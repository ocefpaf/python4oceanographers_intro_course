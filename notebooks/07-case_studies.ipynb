{
 "cells": [
  {
   "cell_type": "markdown",
   "metadata": {
    "slideshow": {
     "slide_type": "slide"
    }
   },
   "source": [
    "# Aula 07 - [Exemplos para oceanógrafos](https://ocefpaf.github.io/python4oceanographers/)\n",
    "\n",
    "**Objetivos**\n",
    "\n",
    "- Mostrar *code snippets* aplicados à oceanografia"
   ]
  },
  {
   "cell_type": "markdown",
   "metadata": {
    "slideshow": {
     "slide_type": "slide"
    }
   },
   "source": [
    "### Exemplo 1: Planejamento de cruzeiro oceanográfico"
   ]
  },
  {
   "cell_type": "code",
   "execution_count": null,
   "metadata": {
    "collapsed": true,
    "slideshow": {
     "slide_type": "slide"
    }
   },
   "outputs": [],
   "source": [
    "%matplotlib inline\n",
    "\n",
    "\n",
    "import numpy as np\n",
    "import matplotlib.pyplot as plt\n",
    "from mpl_toolkits.basemap import Basemap\n",
    "\n",
    "\n",
    "def make_map(lonStart=-48, lonEnd=-32, latStart=-30, latEnd=-18, img=None):\n",
    "    m = Basemap(projection='merc', llcrnrlon=lonStart, urcrnrlon=lonEnd,\n",
    "                llcrnrlat=latStart, urcrnrlat=latEnd, resolution='c',\n",
    "                lat_ts=(latStart + latEnd) / 2.)\n",
    "\n",
    "    fig, ax = plt.subplots(figsize=(6, 6), facecolor='w')\n",
    "    m.ax = ax\n",
    "\n",
    "    image = plt.imread(img)\n",
    "    m.imshow(image, origin='upper', alpha=0.75)\n",
    "\n",
    "\n",
    "    lonStart, latStart = -42, -26  # Crop the image.\n",
    "    lon_lim, lat_lim = m([lonStart, lonEnd], [latStart, latEnd])\n",
    "    m.ax.axis([lon_lim[0], lon_lim[1], lat_lim[0], lat_lim[1]])\n",
    "\n",
    "    dx = dy = 2\n",
    "    meridians = np.arange(lonStart, lonEnd + dy, dy)\n",
    "    parallels = np.arange(latStart,  latEnd + dx, dx)\n",
    "    xoffset = -lon_lim[0] + 1e4\n",
    "    yoffset = -lat_lim[0] + 1e4\n",
    "    kw = dict(linewidth=0)\n",
    "    m.drawparallels(parallels, xoffset=xoffset, labels=[1, 0, 0, 0], **kw)\n",
    "    m.drawmeridians(meridians, yoffset=yoffset, labels=[0, 0, 0, 1], **kw)\n",
    "    return fig, m"
   ]
  },
  {
   "cell_type": "code",
   "execution_count": null,
   "metadata": {
    "collapsed": false,
    "slideshow": {
     "slide_type": "slide"
    }
   },
   "outputs": [],
   "source": [
    "lon = [-40.77, -40.51, -40.30, -40.23, -40.13, -40.06, -39.99,\n",
    "       -39.87, -39.72, -39.52, -39.32, -39.11, -38.91, -38.71]\n",
    "lat = [-21.29, -21.39, -21.48, -21.51, -21.56, -21.58, -21.62,\n",
    "       -21.69, -21.76, -21.86, -21.96, -22.08, -22.15, -22.25]\n",
    "\n",
    "fig, m = make_map(img='./data/AVHRR.png')\n",
    "kw = dict(marker='o', markerfacecolor='k', markeredgecolor='w', markersize=6, linestyle='none')\n",
    "_ = m.plot(*m(lon, lat), **kw)"
   ]
  },
  {
   "cell_type": "markdown",
   "metadata": {
    "slideshow": {
     "slide_type": "slide"
    }
   },
   "source": [
    "### Exemplo 2: Análise exploratória"
   ]
  },
  {
   "cell_type": "code",
   "execution_count": null,
   "metadata": {
    "collapsed": false,
    "slideshow": {
     "slide_type": "slide"
    }
   },
   "outputs": [],
   "source": [
    "import seaborn\n",
    "import numpy as np\n",
    "import matplotlib.pyplot as plt\n",
    "\n",
    "from io import BytesIO\n",
    "from pandas import read_csv\n",
    "\n",
    "\n",
    "kw = dict(na_values='NaN', sep=',', encoding='utf-8',\n",
    "          skipinitialspace=True, index_col=False)\n",
    "\n",
    "df = read_csv(\"./data/fish.csv\", **kw)\n",
    "df.head()"
   ]
  },
  {
   "cell_type": "code",
   "execution_count": null,
   "metadata": {
    "collapsed": false,
    "slideshow": {
     "slide_type": "slide"
    }
   },
   "outputs": [],
   "source": [
    "kw = {'axes.edgecolor': '0', 'text.color': '0', 'ytick.color': '0', 'xtick.color': '0',\n",
    "      'ytick.major.size': 5, 'xtick.major.size': 5, 'axes.labelcolor': '0'}\n",
    "\n",
    "seaborn.set_style(\"whitegrid\", kw)\n",
    "\n",
    "ax = seaborn.corrplot(df, annot=False, diag_names=False)"
   ]
  },
  {
   "cell_type": "code",
   "execution_count": null,
   "metadata": {
    "collapsed": false,
    "scrolled": true,
    "slideshow": {
     "slide_type": "slide"
    }
   },
   "outputs": [],
   "source": [
    "g = df.groupby('Days')\n",
    "\n",
    "mean_df = g.mean()\n",
    "\n",
    "g.describe().head(16)"
   ]
  },
  {
   "cell_type": "code",
   "execution_count": null,
   "metadata": {
    "collapsed": false,
    "slideshow": {
     "slide_type": "slide"
    }
   },
   "outputs": [],
   "source": [
    "ax = seaborn.jointplot(\"Days\", \"BDE 99 (ng/g)\", df, kind=\"reg\")"
   ]
  },
  {
   "cell_type": "code",
   "execution_count": null,
   "metadata": {
    "collapsed": false,
    "slideshow": {
     "slide_type": "slide"
    }
   },
   "outputs": [],
   "source": [
    "ax = seaborn.jointplot(\"Days\", \"BDE 47 (ng/g)\", df, kind=\"reg\")"
   ]
  },
  {
   "cell_type": "code",
   "execution_count": null,
   "metadata": {
    "collapsed": false,
    "slideshow": {
     "slide_type": "slide"
    }
   },
   "outputs": [],
   "source": [
    "ax = seaborn.residplot(\"Days\", \"BDE 47 (ng/g)\", df)"
   ]
  },
  {
   "cell_type": "markdown",
   "metadata": {
    "slideshow": {
     "slide_type": "slide"
    }
   },
   "source": [
    "### Exemplo 3: Ler dados em NetCDF CF-1.6 de CTD"
   ]
  },
  {
   "cell_type": "code",
   "execution_count": null,
   "metadata": {
    "collapsed": false,
    "slideshow": {
     "slide_type": "slide"
    }
   },
   "outputs": [],
   "source": [
    "import iris\n",
    "\n",
    "url = './data/wodStandardLevels.nc'\n",
    "sal = iris.load_cube(url, 'sea_water_salinity')\n",
    "\n",
    "print(sal)"
   ]
  },
  {
   "cell_type": "code",
   "execution_count": null,
   "metadata": {
    "collapsed": false,
    "slideshow": {
     "slide_type": "slide"
    }
   },
   "outputs": [],
   "source": [
    "import cartopy.crs as ccrs\n",
    "import matplotlib.pyplot as plt\n",
    "\n",
    "from cartopy.feature import LAND, COASTLINE\n",
    "from cartopy.mpl.gridliner import LONGITUDE_FORMATTER, LATITUDE_FORMATTER\n",
    "\n",
    "x = sal.coord('longitude').points\n",
    "y = sal.coord('latitude').points\n",
    "\n",
    "fig, ax = plt.subplots(figsize=(11, 13),\n",
    "                       subplot_kw=dict(projection=ccrs.PlateCarree()))\n",
    "ax.set_extent([-180, 180, -90, 90])\n",
    "ax.stock_img()\n",
    "ax.plot(x, y, 'go')\n",
    "\n",
    "ax.add_feature(COASTLINE)\n",
    "kw = dict(linewidth=1.5, color='gray', alpha=0.5, linestyle='--')\n",
    "gl = ax.gridlines(crs=ccrs.PlateCarree(), draw_labels=True, **kw)\n",
    "gl.xlabels_top = gl.ylabels_right = False\n",
    "gl.xformatter = LONGITUDE_FORMATTER\n",
    "gl.yformatter = LATITUDE_FORMATTER\n",
    "\n",
    "from shapely.geometry.polygon import LinearRing\n",
    "lons = [105, 105, 125, 125]\n",
    "lats = [-40, -20, -20, -40]\n",
    "ring = LinearRing(list(zip(lons, lats)))\n",
    "sq = ax.add_geometries([ring], ccrs.PlateCarree(), facecolor='none', edgecolor='red')"
   ]
  },
  {
   "cell_type": "code",
   "execution_count": null,
   "metadata": {
    "collapsed": false,
    "slideshow": {
     "slide_type": "slide"
    }
   },
   "outputs": [],
   "source": [
    "lon = iris.Constraint(longitude=lambda l:min(lons) < l < max(lons))\n",
    "lat = iris.Constraint(latitude=lambda l:min(lats) < l < max(lats))\n",
    "alt = iris.Constraint(altitude=lambda a: a <= 30)\n",
    "\n",
    "sal_profile = sal.extract(alt & lon & lat)\n",
    "\n",
    "print(sal_profile)"
   ]
  },
  {
   "cell_type": "code",
   "execution_count": null,
   "metadata": {
    "collapsed": false,
    "slideshow": {
     "slide_type": "slide"
    }
   },
   "outputs": [],
   "source": [
    "import iris.plot as iplt\n",
    "\n",
    "lon = sal_profile.coord(axis='X').points.squeeze()\n",
    "lat = sal_profile.coord(axis='Y').points.squeeze()\n",
    "depth = sal_profile.coord(axis='Z').points.max()\n",
    "\n",
    "fig, ax = plt.subplots(figsize=(5, 6))\n",
    "kw = dict(linewidth=2,  color='k', marker='o')\n",
    "iplt.plot(sal_profile, sal_profile.coord('altitude'), **kw)\n",
    "ax.grid()\n",
    "ax.set_ylabel('Depth (m)')\n",
    "ax.set_xlabel('Salinity (unknown)')\n",
    "t = ax.set_title('lon: %s\\nlat: %s\\nMax depth = %s' % (lon, lat, depth))"
   ]
  },
  {
   "cell_type": "markdown",
   "metadata": {
    "slideshow": {
     "slide_type": "slide"
    }
   },
   "source": [
    "### Exemplo 4: PCA"
   ]
  },
  {
   "cell_type": "code",
   "execution_count": null,
   "metadata": {
    "collapsed": false
   },
   "outputs": [],
   "source": [
    "import numpy as np\n",
    "from pandas import DataFrame\n",
    "\n",
    "x = np.array([2.5, 0.5, 2.2, 1.9, 3.1, 2.3, 2.0, 1.0, 1.5, 1.1])\n",
    "y = np.array([2.4, 0.7, 2.9, 2.2, 3.0, 2.7, 1.6, 1.1, 1.6, 0.9])\n",
    "\n",
    "Z = np.c_[x - x.mean(), y - y.mean()]\n",
    "df = DataFrame(Z, columns=['x', 'y'])\n",
    "df.index.name = 'Medidas'\n",
    "df.T"
   ]
  },
  {
   "cell_type": "code",
   "execution_count": null,
   "metadata": {
    "collapsed": false,
    "slideshow": {
     "slide_type": "slide"
    }
   },
   "outputs": [],
   "source": [
    "%matplotlib inline\n",
    "import matplotlib.pyplot as plt\n",
    "\n",
    "line = dict(linewidth=1, linestyle='--', color='k')\n",
    "marker = dict(linestyle='none', marker='o', markersize=7, color='blue', alpha=0.5)\n",
    "\n",
    "\n",
    "fig, ax = plt.subplots(figsize=(5, 5))\n",
    "ax.plot(x, y, **marker)\n",
    "ax.axhline(**line)\n",
    "ax.axvline(**line)\n",
    "ax.set_xlabel('x')\n",
    "ax.set_ylabel('y')\n",
    "ax.set_title(u'Dados Originais (com a média)')\n",
    "_ = ax.axis([-1, 4, -1, 4])"
   ]
  },
  {
   "cell_type": "code",
   "execution_count": null,
   "metadata": {
    "collapsed": false,
    "slideshow": {
     "slide_type": "slide"
    }
   },
   "outputs": [],
   "source": [
    "cov = np.cov(Z.T)\n",
    "cov"
   ]
  },
  {
   "cell_type": "code",
   "execution_count": null,
   "metadata": {
    "collapsed": false,
    "slideshow": {
     "slide_type": "fragment"
    }
   },
   "outputs": [],
   "source": [
    "eigenvalues, eigenvectors = np.linalg.eig(cov)\n",
    "eigenvalues"
   ]
  },
  {
   "cell_type": "code",
   "execution_count": null,
   "metadata": {
    "collapsed": false,
    "slideshow": {
     "slide_type": "fragment"
    }
   },
   "outputs": [],
   "source": [
    "eigenvectors"
   ]
  },
  {
   "cell_type": "code",
   "execution_count": null,
   "metadata": {
    "collapsed": false,
    "slideshow": {
     "slide_type": "fragment"
    }
   },
   "outputs": [],
   "source": [
    "pc = eigenvectors[1] / eigenvectors[0]\n",
    "pc"
   ]
  },
  {
   "cell_type": "code",
   "execution_count": null,
   "metadata": {
    "collapsed": false,
    "slideshow": {
     "slide_type": "slide"
    }
   },
   "outputs": [],
   "source": [
    "fig, ax = plt.subplots(figsize=(5, 5))\n",
    "ax.plot(Z[:, 0], Z[:, 1], **marker)\n",
    "ax.set_xlim([-2, 2])\n",
    "ax.set_ylim([-2, 2])\n",
    "ax.axhline(**line)\n",
    "ax.axvline(**line)\n",
    "ax.set_xlabel('x')\n",
    "ax.set_ylabel('y')\n",
    "\n",
    "arrowprops = dict(width=0.01, head_width=0.05, alpha = 0.5,\n",
    "                  length_includes_head=False)\n",
    "a1 = ax.arrow(0, 0, eigenvalues[0], pc[0] * eigenvalues[0],\n",
    "              color='k', **arrowprops)\n",
    "a2 = ax.arrow(0, 0, eigenvalues[1], pc[1] * eigenvalues[1],\n",
    "              color='k', **arrowprops)\n",
    "a3 = ax.arrow(0, 0, -eigenvalues[0], -pc[0] * eigenvalues[0],\n",
    "              color='r', **arrowprops)\n",
    "a4 = ax.arrow(0, 0, -eigenvalues[1], -pc[1] * eigenvalues[1],\n",
    "              color='r', **arrowprops)"
   ]
  },
  {
   "cell_type": "code",
   "execution_count": null,
   "metadata": {
    "collapsed": false,
    "slideshow": {
     "slide_type": "slide"
    }
   },
   "outputs": [],
   "source": [
    "from sklearn.decomposition import PCA\n",
    "\n",
    "pca = PCA(n_components=2, copy=True)\n",
    "X = pca.fit_transform(Z)\n",
    "\n",
    "fig, ax = plt.subplots()\n",
    "ax.plot(X[:, 0], X[:, 1], **marker) \n",
    "ax.set_xlim([-2, 2])\n",
    "ax.set_ylim([-2, 2])\n",
    "ax.axhline(**line)\n",
    "ax.axvline(**line)\n",
    "_ = ax.set_title(\"PCA\")"
   ]
  },
  {
   "cell_type": "code",
   "execution_count": null,
   "metadata": {
    "collapsed": false,
    "slideshow": {
     "slide_type": "slide"
    }
   },
   "outputs": [],
   "source": [
    "print(eigenvectors)\n",
    "print('')\n",
    "print(pca.components_)"
   ]
  },
  {
   "cell_type": "markdown",
   "metadata": {
    "slideshow": {
     "slide_type": "slide"
    }
   },
   "source": [
    "Quanto da variância é explicada por cada componente."
   ]
  },
  {
   "cell_type": "code",
   "execution_count": null,
   "metadata": {
    "collapsed": false,
    "slideshow": {
     "slide_type": "fragment"
    }
   },
   "outputs": [],
   "source": [
    "pca.explained_variance_ratio_"
   ]
  },
  {
   "cell_type": "code",
   "execution_count": null,
   "metadata": {
    "collapsed": false,
    "slideshow": {
     "slide_type": "fragment"
    }
   },
   "outputs": [],
   "source": [
    "from scipy.stats.stats import pearsonr\n",
    "\n",
    "r, p = pearsonr(x-x.mean(), y-y.mean())\n",
    "\n",
    "print('Pearson r: {}\\nPC 1: {}:'.format(r, pc[0]))"
   ]
  },
  {
   "cell_type": "code",
   "execution_count": null,
   "metadata": {
    "collapsed": false,
    "slideshow": {
     "slide_type": "slide"
    }
   },
   "outputs": [],
   "source": [
    "import statsmodels.api as sm\n",
    "\n",
    "\n",
    "def OLSreg(y, Xmat):\n",
    "    return sm.OLS(y, sm.add_constant(Xmat, prepend=True)).fit()\n",
    "\n",
    "\n",
    "scale = lambda x: (x - x.mean()) / x.std()\n",
    "\n",
    "ols_fit = OLSreg(Z[:, 1], Z[:, 0])\n",
    "\n",
    "fig, ax = plt.subplots(figsize=(5, 5))\n",
    "ax.plot(Z[:, 0], Z[:, 1], **marker)\n",
    "ax.set_xlim([-2, 2])\n",
    "ax.set_ylim([-2, 2])\n",
    "ax.axhline(**line)\n",
    "ax.axvline(**line)\n",
    "ax.set_xlabel('x')\n",
    "ax.set_xlabel('y')\n",
    "\n",
    "ax.plot(Z[:, 0], ols_fit.fittedvalues, 'r', alpha=0.5)\n",
    "ax.text(-1, 1, r'R$^2$ = %4.3f' % round(ols_fit.rsquared, 3))\n",
    "\n",
    "a1 = ax.arrow(0, 0, eigenvalues[1], pc[1] * eigenvalues[1],\n",
    "              **arrowprops)\n",
    "a2 = ax.arrow(0, 0, -eigenvalues[1], -pc[1] * eigenvalues[1],\n",
    "              **arrowprops)"
   ]
  },
  {
   "cell_type": "markdown",
   "metadata": {
    "slideshow": {
     "slide_type": "slide"
    }
   },
   "source": [
    "### Dados reais (podemos tentar com dados dos alunos)"
   ]
  },
  {
   "cell_type": "code",
   "execution_count": null,
   "metadata": {
    "collapsed": false
   },
   "outputs": [],
   "source": [
    "%%file data.csv\n",
    "Food,England,Wales,Scotland,N Ireland\n",
    "Cheese,105,103,103,66\n",
    "Carcass meat,245,227,242,267\n",
    "Other meat,685,803,750,586\n",
    "Fish,147,160,122,93\n",
    "Fats and oils,193,235,184,209\n",
    "Sugars,156,175,147,139\n",
    "Fresh potatoes,720,874,566,1033\n",
    "Fresh Veg,253,265,171,143\n",
    "Other Veg,488,570,418,355\n",
    "Processed potatoes,198,203,220,187\n",
    "Processed Veg,360,365,337,334\n",
    "Fresh fruit,1102,1137,957,674\n",
    "Cereals,1472,1582,1462,1494\n",
    "Beverages,57,73,53,47\n",
    "Soft drinks,1374,1256,1572,1506\n",
    "Alcoholic drinks,375,475,458,135\n",
    "Confectionery,54,64,62,41"
   ]
  },
  {
   "cell_type": "code",
   "execution_count": null,
   "metadata": {
    "collapsed": false,
    "slideshow": {
     "slide_type": "slide"
    }
   },
   "outputs": [],
   "source": [
    "from pandas import read_csv\n",
    "\n",
    "df = read_csv('data.csv', index_col='Food')\n",
    "df"
   ]
  },
  {
   "cell_type": "code",
   "execution_count": null,
   "metadata": {
    "collapsed": true,
    "slideshow": {
     "slide_type": "slide"
    }
   },
   "outputs": [],
   "source": [
    "def z_score(x):\n",
    "    \"\"\"Remove a média e normaliza os pelo desvio padrão\"\"\"\n",
    "    return (x - x.mean()) / x.std()"
   ]
  },
  {
   "cell_type": "code",
   "execution_count": null,
   "metadata": {
    "collapsed": false,
    "slideshow": {
     "slide_type": "slide"
    }
   },
   "outputs": [],
   "source": [
    "from sklearn.decomposition import PCA\n",
    "\n",
    "\n",
    "pca = PCA(n_components=None)\n",
    "pca.fit(df.apply(z_score).T)"
   ]
  },
  {
   "cell_type": "code",
   "execution_count": null,
   "metadata": {
    "collapsed": false,
    "slideshow": {
     "slide_type": "slide"
    }
   },
   "outputs": [],
   "source": [
    "from pandas import DataFrame\n",
    "\n",
    "loadings = DataFrame(pca.components_.T)\n",
    "loadings.index = ['PC %s' % pc for pc in loadings.index + 1]\n",
    "loadings.columns = ['TS %s' % pc for pc in loadings.columns + 1]\n",
    "loadings"
   ]
  },
  {
   "cell_type": "code",
   "execution_count": null,
   "metadata": {
    "collapsed": false,
    "slideshow": {
     "slide_type": "slide"
    }
   },
   "outputs": [],
   "source": [
    "PCs = np.dot(loadings.values.T, df)\n",
    "\n",
    "marker = dict(linestyle='none', marker='o', markersize=7, color='blue', alpha=0.5)\n",
    "\n",
    "fig, ax = plt.subplots(figsize=(7, 2.75))\n",
    "ax.plot(PCs[0], np.zeros_like(PCs[0]),\n",
    "        label=\"Scores\", **marker)\n",
    "[ax.text(x, y, t) for x, y, t in zip(PCs[0], loadings.values[1, :], df.columns)]\n",
    "\n",
    "ax.set_xlabel(\"PC1\")\n",
    "\n",
    "_ = ax.set_ylim(-1, 1)\n",
    "marker = dict(linestyle='none', marker='o', markersize=7, color='blue', alpha=0.5)"
   ]
  },
  {
   "cell_type": "code",
   "execution_count": null,
   "metadata": {
    "collapsed": false,
    "slideshow": {
     "slide_type": "slide"
    }
   },
   "outputs": [],
   "source": [
    "fig, ax = plt.subplots(figsize=(7, 2.75))\n",
    "ax.plot(PCs[0], PCs[1], label=\"Scores\", **marker)\n",
    "\n",
    "ax.set_xlabel(\"PC1\")\n",
    "ax.set_ylabel(\"PC2\")\n",
    "\n",
    "text = [ax.text(x, y, t) for x, y, t in\n",
    "        zip(PCs[0], PCs[1]+0.5, df.columns)]"
   ]
  },
  {
   "cell_type": "code",
   "execution_count": null,
   "metadata": {
    "collapsed": false,
    "slideshow": {
     "slide_type": "slide"
    }
   },
   "outputs": [],
   "source": [
    "perc = pca.explained_variance_ratio_ * 100\n",
    "\n",
    "perc = DataFrame(perc, columns=['Percentage explained ratio'], index=['PC %s' % pc for pc in np.arange(len(perc)) + 1])\n",
    "ax = perc.plot(kind='bar')"
   ]
  },
  {
   "cell_type": "code",
   "execution_count": null,
   "metadata": {
    "collapsed": false,
    "slideshow": {
     "slide_type": "slide"
    }
   },
   "outputs": [],
   "source": [
    "TS1 = loadings['TS 1']\n",
    "TS1.index = df.index\n",
    "ax = TS1.plot(kind='bar')"
   ]
  },
  {
   "cell_type": "code",
   "execution_count": null,
   "metadata": {
    "collapsed": false,
    "slideshow": {
     "slide_type": "slide"
    }
   },
   "outputs": [],
   "source": [
    "marker = dict(linestyle='none', marker='o', markersize=7, color='blue', alpha=0.5)\n",
    "\n",
    "fig, ax = plt.subplots(figsize=(7, 7))\n",
    "ax.plot(loadings.icol(0), loadings.icol(1), label=\"Loadings\", **marker)\n",
    "ax.set_xlabel(\"non-projected PC1\")\n",
    "ax.set_ylabel(\"non-projected PC2\")\n",
    "ax.axis([-1, 1, -1, 1])\n",
    "text = [ax.text(x, y, t) for\n",
    "        x, y, t in zip(loadings.icol(0), loadings.icol(1), df.index)]"
   ]
  },
  {
   "cell_type": "markdown",
   "metadata": {
    "slideshow": {
     "slide_type": "slide"
    }
   },
   "source": [
    "### Exemplo 5: SymPy"
   ]
  },
  {
   "cell_type": "code",
   "execution_count": null,
   "metadata": {
    "collapsed": true,
    "slideshow": {
     "slide_type": "slide"
    }
   },
   "outputs": [],
   "source": [
    "from sympy.interactive import printing\n",
    "from sympy import Function, symbols, sqrt, S\n",
    "\n",
    "printing.init_printing()\n",
    "x, y = symbols(\"x y\")"
   ]
  },
  {
   "cell_type": "code",
   "execution_count": null,
   "metadata": {
    "collapsed": false,
    "slideshow": {
     "slide_type": "slide"
    }
   },
   "outputs": [],
   "source": [
    "from IPython.display import Latex\n",
    "\n",
    "red = S(\"(x / 7) ** 2 * sqrt(abs(abs(x) - 3) / (abs(x) - 3)) + (y / 3) ** 2 * sqrt(abs(y + 3 / 7 * sqrt(33)) / (y + 3 / 7 * sqrt(33))) - 1\")\n",
    "\n",
    "red"
   ]
  },
  {
   "cell_type": "code",
   "execution_count": null,
   "metadata": {
    "collapsed": false,
    "slideshow": {
     "slide_type": "slide"
    }
   },
   "outputs": [],
   "source": [
    "orange = S(\"abs(x / 2) - ((3 * sqrt(33) - 7) / 112) * x ** 2 -\"\n",
    "           \"3 + sqrt(1 - (abs(abs(x) - 2) - 1) ** 2) - y\")\n",
    "orange"
   ]
  },
  {
   "cell_type": "code",
   "execution_count": null,
   "metadata": {
    "collapsed": false,
    "slideshow": {
     "slide_type": "slide"
    }
   },
   "outputs": [],
   "source": [
    "green = S(\"9 * sqrt(abs((abs(x) - 1) * (abs(x) - 0.75)) /\"\n",
    "          \"((1 - abs(x)) * (abs(x) - 0.75))) - 8 * abs(x) - y\")\n",
    "green"
   ]
  },
  {
   "cell_type": "code",
   "execution_count": null,
   "metadata": {
    "collapsed": false,
    "slideshow": {
     "slide_type": "slide"
    }
   },
   "outputs": [],
   "source": [
    "blue = S(\"3 * abs(x) + 0.75 * sqrt(abs((abs(x) - 0.75) * (abs(x) - 0.5)) /\"\n",
    "         \"((0.75 - abs(x)) * (abs(x) - 0.5))) - y\")\n",
    "blue"
   ]
  },
  {
   "cell_type": "code",
   "execution_count": null,
   "metadata": {
    "collapsed": false,
    "slideshow": {
     "slide_type": "slide"
    }
   },
   "outputs": [],
   "source": [
    "pink = S(\"2.25 * sqrt(abs((x - 0.5) * (x + 0.5)) / ((0.5 - x) * (0.5 + x))) - y\")\n",
    "pink"
   ]
  },
  {
   "cell_type": "code",
   "execution_count": null,
   "metadata": {
    "collapsed": false,
    "slideshow": {
     "slide_type": "slide"
    }
   },
   "outputs": [],
   "source": [
    "brown = S(\"6 * sqrt(10) / 7 + (1.5 - 0.5 * abs(x)) * sqrt(abs(abs(x) - 1) /\"\n",
    "          \"(abs(x) - 1)) - (6 * sqrt(10) / 14) * sqrt(4 - (abs(x) - 1) ** 2) - y\")\n",
    "brown"
   ]
  },
  {
   "cell_type": "code",
   "execution_count": null,
   "metadata": {
    "collapsed": true,
    "slideshow": {
     "slide_type": "slide"
    }
   },
   "outputs": [],
   "source": [
    "from sympy import lambdify\n",
    "\n",
    "def lamb(func):\n",
    "    return lambdify((x, y), func, modules='numpy')\n",
    "\n",
    "red, orange, green, blue, pink, brown = map(lamb, (red, orange, green, blue, pink, brown))"
   ]
  },
  {
   "cell_type": "code",
   "execution_count": null,
   "metadata": {
    "collapsed": true,
    "slideshow": {
     "slide_type": "slide"
    }
   },
   "outputs": [],
   "source": [
    "import numpy as np\n",
    "\n",
    "spacing = 0.01\n",
    "x, y = np.meshgrid(np.arange(-7.25, 7.25, spacing),\n",
    "                   np.arange(-5, 5, spacing))\n",
    "\n",
    "red = red(x, y)\n",
    "orange = orange(x, y)\n",
    "green = green(x, y)\n",
    "blue = blue(x, y)\n",
    "pink = pink(x, y)\n",
    "brown = brown(x, y)"
   ]
  },
  {
   "cell_type": "code",
   "execution_count": null,
   "metadata": {
    "collapsed": false,
    "slideshow": {
     "slide_type": "slide"
    }
   },
   "outputs": [],
   "source": [
    "%matplotlib inline\n",
    "import matplotlib.pyplot as plt\n",
    "\n",
    "colors = dict(red='#FF0000', orange='#FFA500', green='#008000',\n",
    "              blue='#003399', pink='#CC0033', brown='#800000')\n",
    "\n",
    "equations = dict(red=red, orange=orange, green=green,\n",
    "                 blue=blue, pink=pink, brown=brown)\n",
    "                 \n",
    "fig, ax = plt.subplots(figsize=(8, 6))\n",
    "for key, color in colors.items():\n",
    "    ax.contour(x, y, equations[key], [0], colors=color, linewidths=3)\n",
    "    \n",
    "_ = ax.set_xticks([])\n",
    "_ = ax.set_yticks([])"
   ]
  },
  {
   "cell_type": "markdown",
   "metadata": {
    "slideshow": {
     "slide_type": "slide"
    }
   },
   "source": [
    "### Exemplo 6: Subset de dados batimétricos"
   ]
  },
  {
   "cell_type": "code",
   "execution_count": null,
   "metadata": {
    "collapsed": false,
    "slideshow": {
     "slide_type": "slide"
    }
   },
   "outputs": [],
   "source": [
    "import numpy as np\n",
    "\n",
    "lon = np.loadtxt('./data/copano_bay/lon.txt')\n",
    "lat = np.loadtxt('./data/copano_bay/lat.txt')\n",
    "depth = np.loadtxt('./data/copano_bay/depth.txt')\n",
    "\n",
    "lon.shape, lat.shape, depth.shape"
   ]
  },
  {
   "cell_type": "code",
   "execution_count": null,
   "metadata": {
    "collapsed": false,
    "slideshow": {
     "slide_type": "slide"
    }
   },
   "outputs": [],
   "source": [
    "from oceans import wrap_lon180\n",
    "\n",
    "lon = wrap_lon180(lon)"
   ]
  },
  {
   "cell_type": "code",
   "execution_count": null,
   "metadata": {
    "collapsed": true,
    "slideshow": {
     "slide_type": "slide"
    }
   },
   "outputs": [],
   "source": [
    "%matplotlib inline\n",
    "\n",
    "import matplotlib.pyplot as plt\n",
    "\n",
    "import cartopy.crs as ccrs\n",
    "from cartopy.io import shapereader\n",
    "from cartopy.mpl.gridliner import LONGITUDE_FORMATTER, LATITUDE_FORMATTER\n",
    "\n",
    "\n",
    "def make_map(projection=ccrs.PlateCarree()):\n",
    "    fig, ax = plt.subplots(figsize=(9, 13),\n",
    "                           subplot_kw=dict(projection=projection))\n",
    "    gl = ax.gridlines(draw_labels=True)\n",
    "    gl.xlabels_top = gl.ylabels_right = False\n",
    "    gl.xformatter = LONGITUDE_FORMATTER\n",
    "    gl.yformatter = LATITUDE_FORMATTER\n",
    "    return fig, ax"
   ]
  },
  {
   "cell_type": "code",
   "execution_count": null,
   "metadata": {
    "collapsed": false,
    "slideshow": {
     "slide_type": "slide"
    }
   },
   "outputs": [],
   "source": [
    "import cartopy.io.img_tiles as cimgt\n",
    "\n",
    "\n",
    "extent = [lon.min(), lon.max(), lat.min(), lat.max()]\n",
    "\n",
    "request = cimgt.GoogleTiles()\n",
    "\n",
    "fig, ax = make_map(projection=request.crs)\n",
    "ax.set_extent(extent)\n",
    "ax.add_image(request, 10)"
   ]
  },
  {
   "cell_type": "code",
   "execution_count": null,
   "metadata": {
    "collapsed": false,
    "slideshow": {
     "slide_type": "slide"
    }
   },
   "outputs": [],
   "source": [
    "%matplotlib tk\n",
    "\n",
    "fig, ax = make_map()\n",
    "ax.set_extent(extent)\n",
    "cs = ax.pcolormesh(lon, lat, depth, cmap=plt.cm.ocean,\n",
    "                   transform=ccrs.PlateCarree(), zorder=1)\n",
    "\n",
    "poly = plt.ginput()"
   ]
  },
  {
   "cell_type": "code",
   "execution_count": null,
   "metadata": {
    "collapsed": true,
    "slideshow": {
     "slide_type": "slide"
    }
   },
   "outputs": [],
   "source": [
    "from matplotlib.path import Path\n",
    "polygon = Path(poly)\n",
    "\n",
    "def in_polygon(polygon, xp, yp, transform=None, radius=0.0):\n",
    "    return polygon.contains_points(np.atleast_2d([xp, yp]).T,\n",
    "                                   transform=None, radius=0.0)"
   ]
  },
  {
   "cell_type": "code",
   "execution_count": null,
   "metadata": {
    "collapsed": false,
    "slideshow": {
     "slide_type": "slide"
    }
   },
   "outputs": [],
   "source": [
    "x_poly = np.array(poly)[:, 0]\n",
    "y_poly = np.array(poly)[:, 1]\n",
    "\n",
    "xp = lon.ravel()\n",
    "yp = lat.ravel()\n",
    "\n",
    "inside = in_polygon(polygon, xp, yp)\n",
    "\n",
    "mask = inside.reshape(lon.shape)"
   ]
  },
  {
   "cell_type": "code",
   "execution_count": null,
   "metadata": {
    "collapsed": false,
    "slideshow": {
     "slide_type": "slide"
    }
   },
   "outputs": [],
   "source": [
    "%matplotlib inline\n",
    "\n",
    "fig, ax = make_map()\n",
    "ax.set_extent(extent)\n",
    "cs = ax.pcolormesh(lon, lat, depth, cmap=plt.cm.ocean,\n",
    "                   transform=ccrs.PlateCarree(), zorder=0)\n",
    "\n",
    "ax.set_boundary(polygon, transform=ccrs.PlateCarree())"
   ]
  },
  {
   "cell_type": "code",
   "execution_count": null,
   "metadata": {
    "collapsed": true,
    "slideshow": {
     "slide_type": "slide"
    }
   },
   "outputs": [],
   "source": [
    "import numpy.ma as ma\n",
    "\n",
    "\n",
    "masked_depth = ma.masked_array(depth, ~mask)"
   ]
  },
  {
   "cell_type": "code",
   "execution_count": null,
   "metadata": {
    "collapsed": false,
    "slideshow": {
     "slide_type": "slide"
    }
   },
   "outputs": [],
   "source": [
    "fig, ax = make_map()\n",
    "ax.set_extent(extent)\n",
    "cs = ax.pcolormesh(lon, lat, masked_depth, cmap=plt.cm.ocean,\n",
    "                   transform=ccrs.PlateCarree(), zorder=1)"
   ]
  },
  {
   "cell_type": "markdown",
   "metadata": {
    "slideshow": {
     "slide_type": "slide"
    }
   },
   "source": [
    "### Exemplo 7: Geopandas e contorno da BTS"
   ]
  },
  {
   "cell_type": "code",
   "execution_count": null,
   "metadata": {
    "collapsed": true,
    "slideshow": {
     "slide_type": "slide"
    }
   },
   "outputs": [],
   "source": [
    "%matplotlib inline\n",
    "\n",
    "import matplotlib.pyplot as plt\n",
    "\n",
    "import cartopy.crs as ccrs\n",
    "from cartopy.mpl.gridliner import LONGITUDE_FORMATTER, LATITUDE_FORMATTER\n",
    "\n",
    "\n",
    "def make_map(projection=ccrs.PlateCarree(), figsize=(11, 11)):\n",
    "    fig, ax = plt.subplots(figsize=figsize,\n",
    "                           subplot_kw=dict(projection=projection))\n",
    "    gl = ax.gridlines(draw_labels=True)\n",
    "    gl.xlabels_top = gl.ylabels_right = False\n",
    "    gl.xformatter = LONGITUDE_FORMATTER\n",
    "    gl.yformatter = LATITUDE_FORMATTER\n",
    "    return fig, ax"
   ]
  },
  {
   "cell_type": "code",
   "execution_count": null,
   "metadata": {
    "collapsed": true,
    "slideshow": {
     "slide_type": "slide"
    }
   },
   "outputs": [],
   "source": [
    "import geopandas\n",
    "\n",
    "basins = geopandas.read_file('./data/hidrografia_dupla_cut/')\n",
    "basins = basins['geometry'].values.tolist()"
   ]
  },
  {
   "cell_type": "code",
   "execution_count": null,
   "metadata": {
    "collapsed": true,
    "slideshow": {
     "slide_type": "slide"
    }
   },
   "outputs": [],
   "source": [
    "from shapely import ops\n",
    "\n",
    "basin = ops.cascaded_union(basins)"
   ]
  },
  {
   "cell_type": "code",
   "execution_count": null,
   "metadata": {
    "collapsed": true,
    "slideshow": {
     "slide_type": "slide"
    }
   },
   "outputs": [],
   "source": [
    "bra = geopandas.read_file('./data/BRA_adm2/')\n",
    "\n",
    "salvador = bra[bra['NAME_2'] == 'Salvador'].geometry.values[0]\n",
    "camacari = bra[bra['NAME_2'] == u'Camaçari'].geometry.values[0]\n",
    "\n",
    "salvador = salvador.geoms[0]  # Throw the islands away. "
   ]
  },
  {
   "cell_type": "code",
   "execution_count": null,
   "metadata": {
    "collapsed": false,
    "slideshow": {
     "slide_type": "slide"
    }
   },
   "outputs": [],
   "source": [
    "projection = ccrs.PlateCarree()\n",
    "\n",
    "fig, ax = make_map(projection=projection)\n",
    "\n",
    "extent = [-39.15, -38.10, -13.30, -12.4]\n",
    "ax.set_extent(extent)\n",
    "\n",
    "ax.add_geometries(basin, projection, facecolor='0.85', edgecolor='black')\n",
    "ax.add_geometries([salvador], projection, facecolor='0.65')\n",
    "ax.add_geometries([camacari], projection, facecolor='0.65')\n",
    "\n",
    "kw = dict(fontweight='bold', color='white', verticalalignment='top')\n",
    "\n",
    "lon, lat = camacari.centroid.bounds[0], camacari.centroid.bounds[1]\n",
    "ax.text(lon, lat, u'Camaçari', horizontalalignment='center', **kw)\n",
    "\n",
    "lon, lat = salvador.centroid.bounds[0], salvador.centroid.bounds[1]\n",
    "ax.text(lon, lat, 'Salvador', **kw);"
   ]
  },
  {
   "cell_type": "markdown",
   "metadata": {
    "slideshow": {
     "slide_type": "slide"
    }
   },
   "source": [
    "### Exemplo 8: Lendo, processando, e plotando dados de CTD"
   ]
  },
  {
   "cell_type": "code",
   "execution_count": null,
   "metadata": {
    "collapsed": true,
    "slideshow": {
     "slide_type": "slide"
    }
   },
   "outputs": [],
   "source": [
    "from ctd import DataFrame\n",
    "\n",
    "cast = DataFrame.from_cnv('./data/CTD_046.cnv.bz2', compression='bz2')"
   ]
  },
  {
   "cell_type": "code",
   "execution_count": null,
   "metadata": {
    "collapsed": false,
    "slideshow": {
     "slide_type": "slide"
    }
   },
   "outputs": [],
   "source": [
    "lon, lat = cast.longitude.mean(), cast.latitude.mean()\n",
    "\n",
    "hours = cast['timeS'].max() / 60. / 60.\n",
    "\n",
    "print(\"CTD cast info\\nlon: {:.2f}\\nlat: \"\n",
    "      \"{:.2f}\\nduration: {:.2f} hours\".format(lon, lat, hours))"
   ]
  },
  {
   "cell_type": "code",
   "execution_count": null,
   "metadata": {
    "collapsed": false,
    "slideshow": {
     "slide_type": "slide"
    }
   },
   "outputs": [],
   "source": [
    "cast = cast[cast['pumps']]"
   ]
  },
  {
   "cell_type": "code",
   "execution_count": null,
   "metadata": {
    "collapsed": true,
    "slideshow": {
     "slide_type": "fragment"
    }
   },
   "outputs": [],
   "source": [
    "downcast, upcast = cast.split()"
   ]
  },
  {
   "cell_type": "code",
   "execution_count": null,
   "metadata": {
    "collapsed": false,
    "slideshow": {
     "slide_type": "slide"
    }
   },
   "outputs": [],
   "source": [
    "downcast[['scan', 'c0S/m', 't090C', 'timeS', 'altM', 'longitude', 'latitude']].tail()"
   ]
  },
  {
   "cell_type": "code",
   "execution_count": null,
   "metadata": {
    "collapsed": false,
    "slideshow": {
     "slide_type": "slide"
    }
   },
   "outputs": [],
   "source": [
    "downcast[['t090C', 't190C', 'c0S/m', 'c1S/m']].describe()"
   ]
  },
  {
   "cell_type": "code",
   "execution_count": null,
   "metadata": {
    "collapsed": false,
    "slideshow": {
     "slide_type": "slide"
    }
   },
   "outputs": [],
   "source": [
    "downcast.columns"
   ]
  },
  {
   "cell_type": "code",
   "execution_count": null,
   "metadata": {
    "collapsed": true,
    "slideshow": {
     "slide_type": "slide"
    }
   },
   "outputs": [],
   "source": [
    "keep = set(['t090C', 'c0S/m', 'sbeox0Mm/Kg', 'dz/dtM'])\n",
    "\n",
    "downcast = downcast.drop(keep.symmetric_difference(cast.columns), axis=1)"
   ]
  },
  {
   "cell_type": "code",
   "execution_count": null,
   "metadata": {
    "collapsed": false,
    "slideshow": {
     "slide_type": "fragment"
    }
   },
   "outputs": [],
   "source": [
    "downcast.head()"
   ]
  },
  {
   "cell_type": "markdown",
   "metadata": {
    "slideshow": {
     "slide_type": "slide"
    }
   },
   "source": [
    "- Smooth velocity and Oxygen with a 2 seconds window:"
   ]
  },
  {
   "cell_type": "code",
   "execution_count": null,
   "metadata": {
    "collapsed": true,
    "slideshow": {
     "slide_type": "fragment"
    }
   },
   "outputs": [],
   "source": [
    "from ctd import movingaverage\n",
    "\n",
    "\n",
    "cast['dz/dtM'] = movingaverage(cast['dz/dtM'], window_size=48)\n",
    "cast['sbeox0Mm/Kg'] = movingaverage(cast['sbeox0Mm/Kg'], window_size=48)"
   ]
  },
  {
   "cell_type": "markdown",
   "metadata": {
    "slideshow": {
     "slide_type": "slide"
    }
   },
   "source": [
    "- Filter pressure:"
   ]
  },
  {
   "cell_type": "code",
   "execution_count": null,
   "metadata": {
    "collapsed": true,
    "slideshow": {
     "slide_type": "fragment"
    }
   },
   "outputs": [],
   "source": [
    "from ctd import lp_filter\n",
    "\n",
    "\n",
    "kw = dict(sample_rate=24.0, time_constant=0.15)\n",
    "cast.index = lp_filter(cast.index, **kw)"
   ]
  },
  {
   "cell_type": "markdown",
   "metadata": {
    "slideshow": {
     "slide_type": "slide"
    }
   },
   "source": [
    "- Loop Edit:"
   ]
  },
  {
   "cell_type": "code",
   "execution_count": null,
   "metadata": {
    "collapsed": true,
    "slideshow": {
     "slide_type": "fragment"
    }
   },
   "outputs": [],
   "source": [
    "downcast = downcast.press_check()  # Remove pressure reversals.\n",
    "downcast = downcast[downcast['dz/dtM'] >= 0.25]  # Threshold velocity."
   ]
  },
  {
   "cell_type": "markdown",
   "metadata": {
    "slideshow": {
     "slide_type": "slide"
    }
   },
   "source": [
    "- Wild Edit:"
   ]
  },
  {
   "cell_type": "code",
   "execution_count": null,
   "metadata": {
    "collapsed": true,
    "slideshow": {
     "slide_type": "fragment"
    }
   },
   "outputs": [],
   "source": [
    "from ctd import Series\n",
    "\n",
    "\n",
    "kw = dict(n1=2, n2=20, block=150)\n",
    "downcast = downcast.apply(Series.despike, **kw)"
   ]
  },
  {
   "cell_type": "markdown",
   "metadata": {
    "slideshow": {
     "slide_type": "slide"
    }
   },
   "source": [
    "- Bin-average:"
   ]
  },
  {
   "cell_type": "code",
   "execution_count": null,
   "metadata": {
    "collapsed": true,
    "slideshow": {
     "slide_type": "fragment"
    }
   },
   "outputs": [],
   "source": [
    "downcast = downcast.apply(Series.bindata, **dict(delta=1.))\n",
    "downcast = downcast.apply(Series.interpolate)"
   ]
  },
  {
   "cell_type": "markdown",
   "metadata": {
    "slideshow": {
     "slide_type": "slide"
    }
   },
   "source": [
    "- Smooth:"
   ]
  },
  {
   "cell_type": "code",
   "execution_count": null,
   "metadata": {
    "collapsed": true,
    "slideshow": {
     "slide_type": "fragment"
    }
   },
   "outputs": [],
   "source": [
    "pmax = max(cast.index)\n",
    "if pmax >= 500:\n",
    "    window_len = 21\n",
    "elif pmax >= 100:\n",
    "    window_len = 11\n",
    "else:\n",
    "    window_len = 5\n",
    "kw = dict(window_len=window_len, window='hanning')\n",
    "downcast = downcast.apply(Series.smooth, **kw)"
   ]
  },
  {
   "cell_type": "code",
   "execution_count": null,
   "metadata": {
    "collapsed": true,
    "slideshow": {
     "slide_type": "slide"
    }
   },
   "outputs": [],
   "source": [
    "import gsw\n",
    "from oceans.sw_extras import gamma_GP_from_SP_pt\n",
    "\n",
    "\n",
    "p = downcast.index.values.astype(float)\n",
    "\n",
    "downcast.index.name = \"Pressure\"\n",
    "downcast['depth'] = -gsw.z_from_p(p, lat)\n",
    "downcast['SP'] = gsw.SP_from_C(downcast['c0S/m'].values * 10, downcast['t090C'].values, p)\n",
    "downcast['SA'] = gsw.SA_from_SP(downcast['SP'].values, p, lon, lat)\n",
    "downcast['CT'] = gsw.CT_from_t(downcast['SA'].values, downcast['t090C'].values, p)\n",
    "downcast['sigma0_CT'] = gsw.sigma0_CT_exact(downcast['SA'].values, downcast['CT'].values)\n",
    "downcast['sound'] = gsw.sound_speed_CT_exact(downcast['SA'].values, downcast['CT'].values, p)\n",
    "downcast['gamma'] = gamma_GP_from_SP_pt(downcast['SA'].values, downcast['CT'].values, p, lon, lat)\n",
    "\n",
    "# Does't fit the DataFrame because the index in at the middle (p_mid) point of the original data.\n",
    "N2, p_mid = gsw.Nsquared(downcast['SA'].values, downcast['CT'].values, p, lat=lat)\n",
    "N2 = DataFrame(N2, index=p_mid, columns=['N2'])"
   ]
  },
  {
   "cell_type": "code",
   "execution_count": null,
   "metadata": {
    "collapsed": true,
    "slideshow": {
     "slide_type": "skip"
    }
   },
   "outputs": [],
   "source": [
    "from matplotlib import style\n",
    "style.use('ggplot')\n",
    "\n",
    "import matplotlib.pyplot as plt\n",
    "import mpl_toolkits.axisartist as AA\n",
    "from mpl_toolkits.axes_grid1 import host_subplot\n",
    "\n",
    "def adjust_xlim(ax, offset):\n",
    "    x1, x2 = ax.get_xlim()\n",
    "    ax.set_xlim(x1 - offset, x2 + offset)\n",
    "\n",
    "\n",
    "def plot_vars(self, title, **kw):\n",
    "    fig = plt.figure(figsize=(6, 9))\n",
    "    fig.subplots_adjust(bottom=0.1, top=0.85)\n",
    "    if title:\n",
    "        fig.suptitle(title)\n",
    "    ax0 = host_subplot(111, axes_class=AA.Axes)\n",
    "    ax0.invert_yaxis()\n",
    "\n",
    "    ax1, ax2, ax3 = ax0.twiny(), ax0.twiny(), ax0.twiny()\n",
    "\n",
    "    new_axis0 = ax0.get_grid_helper().new_fixed_axis\n",
    "    new_axis1 = ax1.get_grid_helper().new_fixed_axis\n",
    "    new_axis2 = ax2.get_grid_helper().new_fixed_axis\n",
    "    new_axis3 = ax3.get_grid_helper().new_fixed_axis\n",
    "\n",
    "    ax0.axis[\"bottom\"] = new_axis0(loc=\"bottom\", axes=ax0, offset=(0, 0))\n",
    "    ax1.axis[\"bottom\"] = new_axis1(loc=\"bottom\", axes=ax1, offset=(0, -30))\n",
    "    ax2.axis[\"top\"] = new_axis2(loc=\"top\", axes=ax2, offset=(0, 0))\n",
    "    ax3.axis[\"top\"] = new_axis3(loc=\"top\", axes=ax3, offset=(0, 30))\n",
    "\n",
    "    ax0.axis[\"top\"].toggle(all=False)\n",
    "    ax1.axis[\"top\"].toggle(all=False)\n",
    "    ax2.axis[\"bottom\"].toggle(all=False)\n",
    "    ax3.axis[\"bottom\"].toggle(all=False)\n",
    "\n",
    "    ax0.set_ylabel(\"Pressure [dbar]\")\n",
    "    ax0.set_xlabel(r\"Oxygen [$\\mu$mol kg$^{-1}$]\")\n",
    "    ax1.set_xlabel(r\"Absolute Salinity [g kg$^{-1}$]\")\n",
    "    ax2.set_xlabel(u\"Conservative Temperature [\\xb0C]\")\n",
    "    ax3.set_xlabel(r\"$\\gamma^{GP}$ [kg m$^{-3}$]\")\n",
    "\n",
    "    l0, = ax0.plot(self['sbeox0Mm/Kg'], self.index, 'orchid')\n",
    "    l1, = ax1.plot(self['SA'], self.index, 'darkorange')\n",
    "    l2, = ax2.plot(self['CT'], self.index, 'darkgreen')\n",
    "    l3, = ax3.plot(self['gamma'], self.index, 'crimson')\n",
    "\n",
    "    adjust_xlim(ax0, offset=1)\n",
    "    adjust_xlim(ax1, offset=0.15)\n",
    "    adjust_xlim(ax2, offset=0.05)\n",
    "    adjust_xlim(ax3, offset=0.05)\n",
    "\n",
    "    ax0.axis[\"bottom\"].label.set_color(l0.get_color())\n",
    "    ax1.axis[\"bottom\"].label.set_color(l1.get_color())\n",
    "    ax2.axis[\"top\"].label.set_color(l2.get_color())\n",
    "    ax3.axis[\"top\"].label.set_color(l3.get_color())\n",
    "    \n",
    "    return fig, (ax0, ax1, ax2, ax3), (l0, l1, l2, l3)"
   ]
  },
  {
   "cell_type": "code",
   "execution_count": null,
   "metadata": {
    "collapsed": false,
    "slideshow": {
     "slide_type": "slide"
    }
   },
   "outputs": [],
   "source": [
    "fig, axes, lines = plot_vars(downcast, title=None, **kw)"
   ]
  },
  {
   "cell_type": "markdown",
   "metadata": {
    "slideshow": {
     "slide_type": "slide"
    }
   },
   "source": [
    "### Exemplo 9: Lendo arquivos binários"
   ]
  },
  {
   "cell_type": "markdown",
   "metadata": {
    "slideshow": {
     "slide_type": "slide"
    }
   },
   "source": [
    "- One-byte flat scaled binary (preceded by a 300-byte header)\n",
    "- North: 304 columns x 448 rows\n",
    "- Scaled by 250"
   ]
  },
  {
   "cell_type": "code",
   "execution_count": null,
   "metadata": {
    "collapsed": false,
    "slideshow": {
     "slide_type": "slide"
    }
   },
   "outputs": [],
   "source": [
    "!cat ./data/nt_20150326_f17_nrt_n.bin.txt"
   ]
  },
  {
   "cell_type": "code",
   "execution_count": null,
   "metadata": {
    "collapsed": false,
    "slideshow": {
     "slide_type": "slide"
    }
   },
   "outputs": [],
   "source": [
    "import numpy as np\n",
    "import numpy.ma as ma\n",
    "\n",
    "\n",
    "infile = './data/nt_20150326_f17_nrt_n.bin'\n",
    "with open(infile, 'rb') as fr:\n",
    "    hdr = fr.read(300)\n",
    "    ice = np.fromfile(fr, dtype=np.uint8)\n",
    "\n",
    "ice = ice.reshape(448, 304)\n",
    "\n",
    "ice = ice / 250.\n",
    "\n",
    "ice = ma.masked_greater(ice, 1.0)"
   ]
  },
  {
   "cell_type": "code",
   "execution_count": null,
   "metadata": {
    "collapsed": false,
    "slideshow": {
     "slide_type": "slide"
    }
   },
   "outputs": [],
   "source": [
    "dx = dy = 25000\n",
    "\n",
    "x = np.arange(-3850000, +3750000, +dx)\n",
    "y = np.arange(+5850000, -5350000, -dy)\n",
    "\n",
    "x.shape, y.shape, ice.shape"
   ]
  },
  {
   "cell_type": "code",
   "execution_count": null,
   "metadata": {
    "collapsed": false,
    "slideshow": {
     "slide_type": "slide"
    }
   },
   "outputs": [],
   "source": [
    "%matplotlib inline\n",
    "\n",
    "import cartopy.crs as ccrs\n",
    "import matplotlib.pyplot as plt\n",
    "\n",
    "fig = plt.figure(figsize=(9, 9))\n",
    "ax = plt.axes(projection=ccrs.NorthPolarStereo(central_longitude=0))\n",
    "\n",
    "cs = ax.coastlines(resolution='110m', linewidth=0.5)\n",
    "\n",
    "ax.gridlines()\n",
    "ax.set_extent([-180, 180, 40, 90], crs=ccrs.PlateCarree())\n",
    "\n",
    "kw = dict(central_latitude=90, central_longitude=-45, true_scale_latitude=70)\n",
    "cs = ax.pcolormesh(x, y, ice, cmap=plt.cm.Blues,\n",
    "                   transform=ccrs.Stereographic(**kw))"
   ]
  },
  {
   "cell_type": "markdown",
   "metadata": {
    "slideshow": {
     "slide_type": "slide"
    }
   },
   "source": [
    "### Exemplo 10: Octave/matlab, R, Fortran, etc..."
   ]
  },
  {
   "cell_type": "markdown",
   "metadata": {
    "slideshow": {
     "slide_type": "slide"
    }
   },
   "source": [
    "- `conda install oct2py`\n",
    "\n",
    "Veja também: https://ocefpaf.github.io/python4oceanographers/blog/2013/11/04/t_tide/"
   ]
  },
  {
   "cell_type": "code",
   "execution_count": null,
   "metadata": {
    "collapsed": false,
    "slideshow": {
     "slide_type": "slide"
    }
   },
   "outputs": [],
   "source": [
    "%load_ext oct2py.ipython"
   ]
  },
  {
   "cell_type": "code",
   "execution_count": null,
   "metadata": {
    "collapsed": false,
    "slideshow": {
     "slide_type": "slide"
    }
   },
   "outputs": [],
   "source": [
    "%%file fahr_to_kelvin.m\n",
    "\n",
    "function ktemp = fahr_to_kelvin(ftemp)\n",
    "    ktemp = ((ftemp - 32) * (5/9)) + 273.15;\n",
    "end"
   ]
  },
  {
   "cell_type": "code",
   "execution_count": null,
   "metadata": {
    "collapsed": false,
    "slideshow": {
     "slide_type": "fragment"
    }
   },
   "outputs": [],
   "source": [
    "%%octave\n",
    "\n",
    "fahr_to_kelvin(32)"
   ]
  },
  {
   "cell_type": "code",
   "execution_count": null,
   "metadata": {
    "collapsed": true,
    "slideshow": {
     "slide_type": "slide"
    }
   },
   "outputs": [],
   "source": [
    "import numpy as np\n",
    "\n",
    "angle = np.linspace(-2*np.pi, 2*np.pi, 100)"
   ]
  },
  {
   "cell_type": "code",
   "execution_count": null,
   "metadata": {
    "collapsed": false,
    "slideshow": {
     "slide_type": "fragment"
    }
   },
   "outputs": [],
   "source": [
    "%%octave -i angle\n",
    "\n",
    "plot(cos(angle))"
   ]
  },
  {
   "cell_type": "code",
   "execution_count": null,
   "metadata": {
    "collapsed": false,
    "slideshow": {
     "slide_type": "slide"
    }
   },
   "outputs": [],
   "source": [
    "%%octave -o angle\n",
    "\n",
    "angle = linspace(-2*pi, 2*pi, 100);"
   ]
  },
  {
   "cell_type": "code",
   "execution_count": null,
   "metadata": {
    "collapsed": false,
    "slideshow": {
     "slide_type": "fragment"
    }
   },
   "outputs": [],
   "source": [
    "%matplotlib inline\n",
    "import matplotlib.pyplot as plt\n",
    "\n",
    "plt.plot(np.cos(angle.squeeze()));"
   ]
  },
  {
   "cell_type": "markdown",
   "metadata": {
    "slideshow": {
     "slide_type": "slide"
    }
   },
   "source": [
    "- Fortran\n",
    "\n",
    "Veja também: https://ocefpaf.github.io/python4oceanographers/blog/2015/01/26/fortran/"
   ]
  },
  {
   "cell_type": "code",
   "execution_count": null,
   "metadata": {
    "collapsed": false,
    "slideshow": {
     "slide_type": "slide"
    }
   },
   "outputs": [],
   "source": [
    "%load_ext fortranmagic"
   ]
  },
  {
   "cell_type": "code",
   "execution_count": null,
   "metadata": {
    "collapsed": false,
    "slideshow": {
     "slide_type": "fragment"
    }
   },
   "outputs": [],
   "source": [
    "%%fortran\n",
    "\n",
    "subroutine calc_sin(x, y)\n",
    "    real, intent(in) :: x\n",
    "    real, intent(out) :: y\n",
    "\n",
    "    y = sin(x)\n",
    "\n",
    "end subroutine calc_sin"
   ]
  },
  {
   "cell_type": "code",
   "execution_count": null,
   "metadata": {
    "collapsed": false,
    "slideshow": {
     "slide_type": "fragment"
    }
   },
   "outputs": [],
   "source": [
    "calc_sin(np.pi/2)"
   ]
  },
  {
   "cell_type": "code",
   "execution_count": null,
   "metadata": {
    "collapsed": true,
    "slideshow": {
     "slide_type": "slide"
    }
   },
   "outputs": [],
   "source": [
    "calc_sin?"
   ]
  },
  {
   "cell_type": "code",
   "execution_count": null,
   "metadata": {
    "collapsed": false,
    "slideshow": {
     "slide_type": "slide"
    }
   },
   "outputs": [],
   "source": [
    "%%fortran --link lapack -vv\n",
    "\n",
    "subroutine solve(A, b, x, n)\n",
    "    ! solve the matrix equation A*x=b using LAPACK\n",
    "    implicit none\n",
    "\n",
    "    real*8, dimension(n,n), intent(in) :: A\n",
    "    real*8, dimension(n), intent(in) :: b\n",
    "    real*8, dimension(n), intent(out) :: x\n",
    "\n",
    "    integer :: i, j, pivot(n), ok\n",
    "\n",
    "    integer, intent(in) :: n\n",
    "    x = b\n",
    "\n",
    "    ! find the solution using the LAPACK routine SGESV\n",
    "    call DGESV(n, 1, A, n, pivot, x, n, ok)\n",
    "    \n",
    "end subroutine"
   ]
  },
  {
   "cell_type": "code",
   "execution_count": null,
   "metadata": {
    "collapsed": false,
    "slideshow": {
     "slide_type": "slide"
    }
   },
   "outputs": [],
   "source": [
    "A = [[1, 2.5], [-3, 4]]\n",
    "b = [1, 2.5]\n",
    "\n",
    "solve(A, b)"
   ]
  },
  {
   "cell_type": "code",
   "execution_count": null,
   "metadata": {
    "collapsed": false,
    "slideshow": {
     "slide_type": "fragment"
    }
   },
   "outputs": [],
   "source": [
    "np.linalg.solve(A, b)"
   ]
  },
  {
   "cell_type": "code",
   "execution_count": null,
   "metadata": {
    "collapsed": false,
    "slideshow": {
     "slide_type": "fragment"
    }
   },
   "outputs": [],
   "source": [
    "solve?"
   ]
  },
  {
   "cell_type": "markdown",
   "metadata": {
    "slideshow": {
     "slide_type": "slide"
    }
   },
   "source": [
    "- `conda install -c r r`\n",
    "- `conda install -c r r-irkernel`\n",
    "\n",
    "Obs: `options(menu.graphics=FALSE)` and `install.packages(\"oce\")`"
   ]
  },
  {
   "cell_type": "code",
   "execution_count": null,
   "metadata": {
    "collapsed": false,
    "slideshow": {
     "slide_type": "slide"
    }
   },
   "outputs": [],
   "source": [
    "sum(c(1, 2), na.r=F)"
   ]
  },
  {
   "cell_type": "code",
   "execution_count": null,
   "metadata": {
    "collapsed": false,
    "slideshow": {
     "slide_type": "fragment"
    }
   },
   "outputs": [],
   "source": [
    "sum(c(1, 2), na.r=T)"
   ]
  },
  {
   "cell_type": "code",
   "execution_count": null,
   "metadata": {
    "collapsed": false,
    "slideshow": {
     "slide_type": "slide"
    }
   },
   "outputs": [],
   "source": [
    "library(oce)\n",
    "\n",
    "daylength <- function(t, lon=-38.476667, lat=-12.974722)\n",
    "{\n",
    "    t <- as.numeric(t)\n",
    "    alt <- function(t)\n",
    "        sunAngle(t, longitude=lon, latitude=lat)$altitude\n",
    "    rise <- uniroot(alt, lower=t-86400/2, upper=t)$root\n",
    "    set <- uniroot(alt, lower=t, upper=t+86400/2)$root\n",
    "    set - rise\n",
    "}\n",
    "\n",
    "t0 <- as.POSIXct(\"2015-01-01 12:00:00\", tz=\"UTC\")\n",
    "t <- seq.POSIXt(t0, by=\"1 day\", length.out=1*356)\n",
    "dayLength <- unlist(lapply(t, daylength))\n",
    "\n",
    "par(mfrow=c(2,1), mar=c(3, 3, 1, 1), mgp=c(2, 0.7, 0))\n",
    "\n",
    "plot(t, dayLength/3600, type='o', pch=20,\n",
    "     xlab=\"\", ylab=\"Day length (hours)\")\n",
    "grid()"
   ]
  },
  {
   "cell_type": "code",
   "execution_count": null,
   "metadata": {
    "collapsed": false,
    "slideshow": {
     "slide_type": "slide"
    }
   },
   "outputs": [],
   "source": [
    "Sa <- 30\n",
    "Ta <- 10\n",
    "Sb <- 40\n",
    "\n",
    "library(oce)\n",
    "# Should not need to edit below this line\n",
    "rho0 <- swRho(Sa, Ta, 0)\n",
    "Tb <- uniroot(function(T) rho0-swRho(Sb,T,0), lower=0, upper=100)$root\n",
    "Sc <- (Sa + Sb) /2\n",
    "Tc <- (Ta + Tb) /2\n",
    "## density change, and equiv temp change\n",
    "drho <- swRho(Sc, Tc, 0) - rho0\n",
    "dT <- drho / rho0 / swAlpha(Sc, Tc, 0)\n",
    "\n",
    "plotTS(as.ctd(c(Sa, Sb, Sc), c(Ta, Tb, Tc), 0), pch=20, cex=2)\n",
    "drawIsopycnals(levels=rho0, col=\"red\", cex=0)\n",
    "segments(Sa, Ta, Sb, Tb, col=\"blue\")\n",
    "text(Sb, Tb, \"b\", pos=4)\n",
    "text(Sa, Ta, \"a\", pos=4)\n",
    "text(Sc, Tc, \"c\", pos=4)\n",
    "legend(\"topleft\",\n",
    "       legend=sprintf(\"Sa=%.1f, Ta=%.1f, Sb=%.1f  ->  Tb=%.1f, drho=%.2f, dT=%.2f\",\n",
    "                      Sa, Ta, Sb, Tb, drho, dT),\n",
    "       bg=\"white\")"
   ]
  }
 ],
 "metadata": {
  "celltoolbar": "Slideshow",
  "kernelspec": {
   "display_name": "Curso UFBA (Python 2)",
   "language": "python",
   "name": "cursoufba_python2"
  },
  "language_info": {
   "codemirror_mode": {
    "name": "ipython",
    "version": 2
   },
   "file_extension": ".py",
   "mimetype": "text/x-python",
   "name": "python",
   "nbconvert_exporter": "python",
   "pygments_lexer": "ipython2",
   "version": "2.7.10"
  }
 },
 "nbformat": 4,
 "nbformat_minor": 0
}
