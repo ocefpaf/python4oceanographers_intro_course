{
 "cells": [
  {
   "cell_type": "markdown",
   "metadata": {},
   "source": [
    "# Aula 07 - [Exemplos para oceanógrafos](https://ocefpaf.github.io/python4oceanographers/)\n",
    "\n",
    "**Objetivos**\n",
    "\n",
    "- Mostrar *code snippets* aplicados à oceanografia"
   ]
  },
  {
   "cell_type": "markdown",
   "metadata": {},
   "source": [
    "### Exemplo 1: Planejamento de cruzeiro oceanográfico"
   ]
  },
  {
   "cell_type": "code",
   "execution_count": null,
   "metadata": {
    "collapsed": true
   },
   "outputs": [],
   "source": [
    "%matplotlib inline\n",
    "\n",
    "\n",
    "import numpy as np\n",
    "import matplotlib.pyplot as plt\n",
    "from mpl_toolkits.basemap import Basemap\n",
    "\n",
    "\n",
    "def make_map(lonStart=-48, lonEnd=-32, latStart=-30, latEnd=-18, img=None):\n",
    "    m = Basemap(projection='merc', llcrnrlon=lonStart, urcrnrlon=lonEnd,\n",
    "                llcrnrlat=latStart, urcrnrlat=latEnd, resolution='c',\n",
    "                lat_ts=(latStart + latEnd) / 2.)\n",
    "\n",
    "    fig, ax = plt.subplots(figsize=(6, 6), facecolor='w')\n",
    "    m.ax = ax\n",
    "\n",
    "    image = plt.imread(img)\n",
    "    m.imshow(image, origin='upper', alpha=0.75)\n",
    "\n",
    "\n",
    "    lonStart, latStart = -42, -26  # Crop the image.\n",
    "    lon_lim, lat_lim = m([lonStart, lonEnd], [latStart, latEnd])\n",
    "    m.ax.axis([lon_lim[0], lon_lim[1], lat_lim[0], lat_lim[1]])\n",
    "\n",
    "    dx = dy = 2\n",
    "    meridians = np.arange(lonStart, lonEnd + dy, dy)\n",
    "    parallels = np.arange(latStart,  latEnd + dx, dx)\n",
    "    xoffset = -lon_lim[0] + 1e4\n",
    "    yoffset = -lat_lim[0] + 1e4\n",
    "    kw = dict(linewidth=0)\n",
    "    m.drawparallels(parallels, xoffset=xoffset, labels=[1, 0, 0, 0], **kw)\n",
    "    m.drawmeridians(meridians, yoffset=yoffset, labels=[0, 0, 0, 1], **kw)\n",
    "    return fig, m"
   ]
  },
  {
   "cell_type": "code",
   "execution_count": null,
   "metadata": {
    "collapsed": false
   },
   "outputs": [],
   "source": [
    "lon = [-40.77, -40.51, -40.30, -40.23, -40.13, -40.06, -39.99,\n",
    "       -39.87, -39.72, -39.52, -39.32, -39.11, -38.91, -38.71]\n",
    "lat = [-21.29, -21.39, -21.48, -21.51, -21.56, -21.58, -21.62,\n",
    "       -21.69, -21.76, -21.86, -21.96, -22.08, -22.15, -22.25]\n",
    "\n",
    "fig, m = make_map(img='./data/AVHRR.png')\n",
    "kw = dict(marker='o', markerfacecolor='k', markeredgecolor='w', markersize=6, linestyle='none')\n",
    "_ = m.plot(*m(lon, lat), **kw)"
   ]
  },
  {
   "cell_type": "markdown",
   "metadata": {},
   "source": [
    "### Exemplo 2: Análise exploratória"
   ]
  },
  {
   "cell_type": "code",
   "execution_count": null,
   "metadata": {
    "collapsed": false
   },
   "outputs": [],
   "source": [
    "import seaborn\n",
    "import numpy as np\n",
    "import matplotlib.pyplot as plt\n",
    "\n",
    "from io import BytesIO\n",
    "from pandas import read_csv\n",
    "\n",
    "\n",
    "kw = dict(na_values='NaN', sep=',', encoding='utf-8',\n",
    "          skipinitialspace=True, index_col=False)\n",
    "\n",
    "df = read_csv(\"./data/fish.csv\", **kw)\n",
    "df.head()"
   ]
  },
  {
   "cell_type": "code",
   "execution_count": null,
   "metadata": {
    "collapsed": false
   },
   "outputs": [],
   "source": [
    "kw = {'axes.edgecolor': '0', 'text.color': '0', 'ytick.color': '0', 'xtick.color': '0',\n",
    "      'ytick.major.size': 5, 'xtick.major.size': 5, 'axes.labelcolor': '0'}\n",
    "\n",
    "seaborn.set_style(\"whitegrid\", kw)\n",
    "\n",
    "ax = seaborn.corrplot(df, annot=False, diag_names=False)"
   ]
  },
  {
   "cell_type": "code",
   "execution_count": null,
   "metadata": {
    "collapsed": false,
    "scrolled": true
   },
   "outputs": [],
   "source": [
    "g = df.groupby('Days')\n",
    "\n",
    "mean_df = g.mean()\n",
    "\n",
    "g.describe().head(16)"
   ]
  },
  {
   "cell_type": "code",
   "execution_count": null,
   "metadata": {
    "collapsed": false
   },
   "outputs": [],
   "source": [
    "ax = seaborn.jointplot(\"Days\", \"BDE 99 (ng/g)\", df, kind=\"reg\")"
   ]
  },
  {
   "cell_type": "code",
   "execution_count": null,
   "metadata": {
    "collapsed": false
   },
   "outputs": [],
   "source": [
    "ax = seaborn.jointplot(\"Days\", \"BDE 47 (ng/g)\", df, kind=\"reg\")"
   ]
  },
  {
   "cell_type": "code",
   "execution_count": null,
   "metadata": {
    "collapsed": true
   },
   "outputs": [],
   "source": [
    "ax = seaborn.residplot(\"Days\", \"BDE 47 (ng/g)\", df)"
   ]
  },
  {
   "cell_type": "markdown",
   "metadata": {},
   "source": [
    "### Exemplo 3: Ler dados em NetCDF CF-1.6 de CTD"
   ]
  },
  {
   "cell_type": "code",
   "execution_count": null,
   "metadata": {
    "collapsed": false
   },
   "outputs": [],
   "source": [
    "import iris\n",
    "\n",
    "url = 'http://data.nodc.noaa.gov/thredds/dodsC/testdata/netCDFTemplateExamples/profile/wodStandardLevels.nc'\n",
    "url = 'wodStandardLevels.nc'\n",
    "sal = iris.load_cube(url, 'sea_water_salinity')\n",
    "\n",
    "print(sal)"
   ]
  },
  {
   "cell_type": "code",
   "execution_count": null,
   "metadata": {
    "collapsed": false
   },
   "outputs": [],
   "source": [
    "import cartopy.crs as ccrs\n",
    "import matplotlib.pyplot as plt\n",
    "\n",
    "from cartopy.feature import LAND, COASTLINE\n",
    "from cartopy.mpl.gridliner import LONGITUDE_FORMATTER, LATITUDE_FORMATTER\n",
    "\n",
    "x = sal.coord('longitude').points\n",
    "y = sal.coord('latitude').points\n",
    "\n",
    "fig, ax = plt.subplots(figsize=(11, 13),\n",
    "                       subplot_kw=dict(projection=ccrs.PlateCarree()))\n",
    "ax.set_extent([-180, 180, -90, 90])\n",
    "ax.stock_img()\n",
    "ax.plot(x, y, 'go')\n",
    "\n",
    "ax.add_feature(COASTLINE)\n",
    "kw = dict(linewidth=1.5, color='gray', alpha=0.5, linestyle='--')\n",
    "gl = ax.gridlines(crs=ccrs.PlateCarree(), draw_labels=True, **kw)\n",
    "gl.xlabels_top = gl.ylabels_right = False\n",
    "gl.xformatter = LONGITUDE_FORMATTER\n",
    "gl.yformatter = LATITUDE_FORMATTER\n",
    "\n",
    "from shapely.geometry.polygon import LinearRing\n",
    "lons = [105, 105, 125, 125]\n",
    "lats = [-40, -20, -20, -40]\n",
    "ring = LinearRing(list(zip(lons, lats)))\n",
    "sq = ax.add_geometries([ring], ccrs.PlateCarree(), facecolor='none', edgecolor='red')"
   ]
  },
  {
   "cell_type": "code",
   "execution_count": null,
   "metadata": {
    "collapsed": false
   },
   "outputs": [],
   "source": [
    "lon = iris.Constraint(longitude=lambda l:min(lons) < l < max(lons))\n",
    "lat = iris.Constraint(latitude=lambda l:min(lats) < l < max(lats))\n",
    "alt = iris.Constraint(altitude=lambda a: a <= 30)\n",
    "\n",
    "sal_profile = sal.extract(alt & lon & lat)\n",
    "\n",
    "print(sal_profile)"
   ]
  },
  {
   "cell_type": "code",
   "execution_count": null,
   "metadata": {
    "collapsed": false
   },
   "outputs": [],
   "source": [
    "import iris.plot as iplt\n",
    "\n",
    "lon = sal_profile.coord(axis='X').points.squeeze()\n",
    "lat = sal_profile.coord(axis='Y').points.squeeze()\n",
    "depth = sal_profile.coord(axis='Z').points.max()\n",
    "\n",
    "fig, ax = plt.subplots(figsize=(5, 6))\n",
    "kw = dict(linewidth=2,  color='k', marker='o')\n",
    "iplt.plot(sal_profile, sal_profile.coord('altitude'), **kw)\n",
    "ax.grid()\n",
    "ax.set_ylabel('Depth (m)')\n",
    "ax.set_xlabel('Salinity (unknown)')\n",
    "t = ax.set_title('lon: %s\\nlat: %s\\nMax depth = %s' % (lon, lat, depth))"
   ]
  },
  {
   "cell_type": "markdown",
   "metadata": {},
   "source": [
    "### Exemplo 4: PCA"
   ]
  },
  {
   "cell_type": "code",
   "execution_count": null,
   "metadata": {
    "collapsed": false
   },
   "outputs": [],
   "source": [
    "import numpy as np\n",
    "from pandas import DataFrame\n",
    "\n",
    "x = np.array([2.5, 0.5, 2.2, 1.9, 3.1, 2.3, 2.0, 1.0, 1.5, 1.1])\n",
    "y = np.array([2.4, 0.7, 2.9, 2.2, 3.0, 2.7, 1.6, 1.1, 1.6, 0.9])\n",
    "\n",
    "Z = np.c_[x - x.mean(), y - y.mean()]\n",
    "df = DataFrame(Z, columns=['x', 'y'])\n",
    "df.index.name = 'Medidas'\n",
    "df.T"
   ]
  },
  {
   "cell_type": "code",
   "execution_count": null,
   "metadata": {
    "collapsed": false
   },
   "outputs": [],
   "source": [
    "%matplotlib inline\n",
    "import matplotlib.pyplot as plt\n",
    "\n",
    "line = dict(linewidth=1, linestyle='--', color='k')\n",
    "marker = dict(linestyle='none', marker='o', markersize=7, color='blue', alpha=0.5)\n",
    "\n",
    "\n",
    "fig, ax = plt.subplots(figsize=(5, 5))\n",
    "ax.plot(x, y, **marker)\n",
    "ax.axhline(**line)\n",
    "ax.axvline(**line)\n",
    "ax.set_xlabel('x')\n",
    "ax.set_ylabel('y')\n",
    "ax.set_title(u'Dados Originais (com a média)')\n",
    "_ = ax.axis([-1, 4, -1, 4])"
   ]
  },
  {
   "cell_type": "code",
   "execution_count": null,
   "metadata": {
    "collapsed": false
   },
   "outputs": [],
   "source": [
    "cov = np.cov(Z.T)\n",
    "cov"
   ]
  },
  {
   "cell_type": "code",
   "execution_count": null,
   "metadata": {
    "collapsed": false
   },
   "outputs": [],
   "source": [
    "eigenvalues, eigenvectors = np.linalg.eig(cov)\n",
    "eigenvalues"
   ]
  },
  {
   "cell_type": "code",
   "execution_count": null,
   "metadata": {
    "collapsed": false
   },
   "outputs": [],
   "source": [
    "eigenvectors"
   ]
  },
  {
   "cell_type": "code",
   "execution_count": null,
   "metadata": {
    "collapsed": false
   },
   "outputs": [],
   "source": [
    "pc = eigenvectors[1] / eigenvectors[0]\n",
    "pc"
   ]
  },
  {
   "cell_type": "code",
   "execution_count": null,
   "metadata": {
    "collapsed": false
   },
   "outputs": [],
   "source": [
    "fig, ax = plt.subplots(figsize=(5, 5))\n",
    "ax.plot(Z[:, 0], Z[:, 1], **marker)\n",
    "ax.set_xlim([-2, 2])\n",
    "ax.set_ylim([-2, 2])\n",
    "ax.axhline(**line)\n",
    "ax.axvline(**line)\n",
    "ax.set_xlabel('x')\n",
    "ax.set_ylabel('y')\n",
    "\n",
    "arrowprops = dict(width=0.01, head_width=0.05, alpha = 0.5,\n",
    "                  length_includes_head=False)\n",
    "a1 = ax.arrow(0, 0, eigenvalues[0], pc[0] * eigenvalues[0],\n",
    "              color='k', **arrowprops)\n",
    "a2 = ax.arrow(0, 0, eigenvalues[1], pc[1] * eigenvalues[1],\n",
    "              color='k', **arrowprops)\n",
    "a3 = ax.arrow(0, 0, -eigenvalues[0], -pc[0] * eigenvalues[0],\n",
    "              color='r', **arrowprops)\n",
    "a4 = ax.arrow(0, 0, -eigenvalues[1], -pc[1] * eigenvalues[1],\n",
    "              color='r', **arrowprops)"
   ]
  },
  {
   "cell_type": "code",
   "execution_count": null,
   "metadata": {
    "collapsed": false
   },
   "outputs": [],
   "source": [
    "from sklearn.decomposition import PCA\n",
    "\n",
    "pca = PCA(n_components=2, copy=True)\n",
    "X = pca.fit_transform(Z)\n",
    "\n",
    "fig, ax = plt.subplots()\n",
    "ax.plot(X[:, 0], X[:, 1], **marker) \n",
    "ax.set_xlim([-2, 2])\n",
    "ax.set_ylim([-2, 2])\n",
    "ax.axhline(**line)\n",
    "ax.axvline(**line)\n",
    "_ = ax.set_title(\"PCA\")"
   ]
  },
  {
   "cell_type": "code",
   "execution_count": null,
   "metadata": {
    "collapsed": false
   },
   "outputs": [],
   "source": [
    "print(eigenvectors)\n",
    "print('')\n",
    "print(pca.components_)"
   ]
  },
  {
   "cell_type": "markdown",
   "metadata": {},
   "source": [
    "Quanto da variância é explicada por cada componente."
   ]
  },
  {
   "cell_type": "code",
   "execution_count": null,
   "metadata": {
    "collapsed": false
   },
   "outputs": [],
   "source": [
    "pca.explained_variance_ratio_"
   ]
  },
  {
   "cell_type": "code",
   "execution_count": null,
   "metadata": {
    "collapsed": false
   },
   "outputs": [],
   "source": [
    "from scipy.stats.stats import pearsonr\n",
    "\n",
    "r, p = pearsonr(x-x.mean(), y-y.mean())\n",
    "\n",
    "print('Pearson r: {}\\nPC 1: {}:'.format(r, pc[0]))"
   ]
  },
  {
   "cell_type": "code",
   "execution_count": null,
   "metadata": {
    "collapsed": false
   },
   "outputs": [],
   "source": [
    "import statsmodels.api as sm\n",
    "\n",
    "\n",
    "def OLSreg(y, Xmat):\n",
    "    return sm.OLS(y, sm.add_constant(Xmat, prepend=True)).fit()\n",
    "\n",
    "\n",
    "scale = lambda x: (x - x.mean()) / x.std()\n",
    "\n",
    "ols_fit = OLSreg(Z[:, 1], Z[:, 0])\n",
    "\n",
    "fig, ax = plt.subplots(figsize=(5, 5))\n",
    "ax.plot(Z[:, 0], Z[:, 1], **marker)\n",
    "ax.set_xlim([-2, 2])\n",
    "ax.set_ylim([-2, 2])\n",
    "ax.axhline(**line)\n",
    "ax.axvline(**line)\n",
    "ax.set_xlabel('x')\n",
    "ax.set_xlabel('y')\n",
    "\n",
    "ax.plot(Z[:, 0], ols_fit.fittedvalues, 'r', alpha=0.5)\n",
    "ax.text(-1, 1, r'R$^2$ = %4.3f' % round(ols_fit.rsquared, 3))\n",
    "\n",
    "a1 = ax.arrow(0, 0, eigenvalues[1], pc[1] * eigenvalues[1],\n",
    "              **arrowprops)\n",
    "a2 = ax.arrow(0, 0, -eigenvalues[1], -pc[1] * eigenvalues[1],\n",
    "              **arrowprops)"
   ]
  },
  {
   "cell_type": "markdown",
   "metadata": {},
   "source": [
    "### Dados reais (podemos tentar com dados dos alunos)"
   ]
  },
  {
   "cell_type": "code",
   "execution_count": null,
   "metadata": {
    "collapsed": false
   },
   "outputs": [],
   "source": [
    "%%file data.csv\n",
    "Food,England,Wales,Scotland,N Ireland\n",
    "Cheese,105,103,103,66\n",
    "Carcass meat,245,227,242,267\n",
    "Other meat,685,803,750,586\n",
    "Fish,147,160,122,93\n",
    "Fats and oils,193,235,184,209\n",
    "Sugars,156,175,147,139\n",
    "Fresh potatoes,720,874,566,1033\n",
    "Fresh Veg,253,265,171,143\n",
    "Other Veg,488,570,418,355\n",
    "Processed potatoes,198,203,220,187\n",
    "Processed Veg,360,365,337,334\n",
    "Fresh fruit,1102,1137,957,674\n",
    "Cereals,1472,1582,1462,1494\n",
    "Beverages,57,73,53,47\n",
    "Soft drinks,1374,1256,1572,1506\n",
    "Alcoholic drinks,375,475,458,135\n",
    "Confectionery,54,64,62,41"
   ]
  },
  {
   "cell_type": "code",
   "execution_count": null,
   "metadata": {
    "collapsed": false
   },
   "outputs": [],
   "source": [
    "from pandas import read_csv\n",
    "\n",
    "df = read_csv('data.csv', index_col='Food')\n",
    "df"
   ]
  },
  {
   "cell_type": "code",
   "execution_count": null,
   "metadata": {
    "collapsed": true
   },
   "outputs": [],
   "source": [
    "def z_score(x):\n",
    "    \"\"\"Remove a média e normaliza os pelo desvio padrão\"\"\"\n",
    "    return (x - x.mean()) / x.std()"
   ]
  },
  {
   "cell_type": "code",
   "execution_count": null,
   "metadata": {
    "collapsed": false
   },
   "outputs": [],
   "source": [
    "from sklearn.decomposition import PCA\n",
    "\n",
    "\n",
    "pca = PCA(n_components=None)\n",
    "pca.fit(df.apply(z_score).T)"
   ]
  },
  {
   "cell_type": "code",
   "execution_count": null,
   "metadata": {
    "collapsed": false
   },
   "outputs": [],
   "source": [
    "from pandas import DataFrame\n",
    "\n",
    "loadings = DataFrame(pca.components_.T)\n",
    "loadings.index = ['PC %s' % pc for pc in loadings.index + 1]\n",
    "loadings.columns = ['TS %s' % pc for pc in loadings.columns + 1]\n",
    "loadings"
   ]
  },
  {
   "cell_type": "code",
   "execution_count": null,
   "metadata": {
    "collapsed": true
   },
   "outputs": [],
   "source": [
    "PCs = np.dot(loadings.values.T, df)"
   ]
  },
  {
   "cell_type": "code",
   "execution_count": null,
   "metadata": {
    "collapsed": false
   },
   "outputs": [],
   "source": [
    "marker = dict(linestyle='none', marker='o', markersize=7, color='blue', alpha=0.5)\n",
    "\n",
    "fig, ax = plt.subplots(figsize=(7, 2.75))\n",
    "ax.plot(PCs[0], np.zeros_like(PCs[0]),\n",
    "        label=\"Scores\", **marker)\n",
    "[ax.text(x, y, t) for x, y, t in zip(PCs[0], loadings.values[1, :], df.columns)]\n",
    "\n",
    "ax.set_xlabel(\"PC1\")\n",
    "\n",
    "_ = ax.set_ylim(-1, 1)\n",
    "marker = dict(linestyle='none', marker='o', markersize=7, color='blue', alpha=0.5)"
   ]
  },
  {
   "cell_type": "code",
   "execution_count": null,
   "metadata": {
    "collapsed": false
   },
   "outputs": [],
   "source": [
    "fig, ax = plt.subplots(figsize=(7, 2.75))\n",
    "ax.plot(PCs[0], PCs[1], label=\"Scores\", **marker)\n",
    "\n",
    "ax.set_xlabel(\"PC1\")\n",
    "ax.set_ylabel(\"PC2\")\n",
    "\n",
    "text = [ax.text(x, y, t) for x, y, t in\n",
    "        zip(PCs[0], PCs[1]+0.5, df.columns)]"
   ]
  },
  {
   "cell_type": "code",
   "execution_count": null,
   "metadata": {
    "collapsed": false
   },
   "outputs": [],
   "source": [
    "perc = pca.explained_variance_ratio_ * 100\n",
    "\n",
    "perc = DataFrame(perc, columns=['Percentage explained ratio'], index=['PC %s' % pc for pc in np.arange(len(perc)) + 1])\n",
    "ax = perc.plot(kind='bar')"
   ]
  },
  {
   "cell_type": "code",
   "execution_count": null,
   "metadata": {
    "collapsed": false
   },
   "outputs": [],
   "source": [
    "TS1 = loadings['TS 1']\n",
    "TS1.index = df.index\n",
    "ax = TS1.plot(kind='bar')"
   ]
  },
  {
   "cell_type": "code",
   "execution_count": null,
   "metadata": {
    "collapsed": false
   },
   "outputs": [],
   "source": [
    "marker = dict(linestyle='none', marker='o', markersize=7, color='blue', alpha=0.5)\n",
    "\n",
    "fig, ax = plt.subplots(figsize=(7, 7))\n",
    "ax.plot(loadings.icol(0), loadings.icol(1), label=\"Loadings\", **marker)\n",
    "ax.set_xlabel(\"non-projected PC1\")\n",
    "ax.set_ylabel(\"non-projected PC2\")\n",
    "ax.axis([-1, 1, -1, 1])\n",
    "text = [ax.text(x, y, t) for\n",
    "        x, y, t in zip(loadings.icol(0), loadings.icol(1), df.index)]"
   ]
  },
  {
   "cell_type": "markdown",
   "metadata": {},
   "source": [
    "### Exemplo 5: SymPy"
   ]
  },
  {
   "cell_type": "code",
   "execution_count": null,
   "metadata": {
    "collapsed": true
   },
   "outputs": [],
   "source": [
    "from sympy.interactive import printing\n",
    "from sympy import Function, symbols, sqrt, S\n",
    "\n",
    "printing.init_printing()\n",
    "x, y = symbols(\"x y\")"
   ]
  },
  {
   "cell_type": "code",
   "execution_count": null,
   "metadata": {
    "collapsed": false
   },
   "outputs": [],
   "source": [
    "from IPython.display import Latex\n",
    "\n",
    "red = S(\"(x / 7) ** 2 * sqrt(abs(abs(x) - 3) / (abs(x) - 3)) + (y / 3) ** 2 * sqrt(abs(y + 3 / 7 * sqrt(33)) / (y + 3 / 7 * sqrt(33))) - 1\")\n",
    "\n",
    "red"
   ]
  },
  {
   "cell_type": "code",
   "execution_count": null,
   "metadata": {
    "collapsed": false
   },
   "outputs": [],
   "source": [
    "orange = S(\"abs(x / 2) - ((3 * sqrt(33) - 7) / 112) * x ** 2 - 3 + sqrt(1 - (abs(abs(x) - 2) - 1) ** 2) - y\")\n",
    "orange"
   ]
  },
  {
   "cell_type": "code",
   "execution_count": null,
   "metadata": {
    "collapsed": false
   },
   "outputs": [],
   "source": [
    "green = S(\"9 * sqrt(abs((abs(x) - 1) * (abs(x) - 0.75)) / ((1 - abs(x)) * (abs(x) - 0.75))) - 8 * abs(x) - y\")\n",
    "green"
   ]
  },
  {
   "cell_type": "code",
   "execution_count": null,
   "metadata": {
    "collapsed": false
   },
   "outputs": [],
   "source": [
    "blue = S(\"3 * abs(x) + 0.75 * sqrt(abs((abs(x) - 0.75) * (abs(x) - 0.5)) / ((0.75 - abs(x)) * (abs(x) - 0.5))) - y\")\n",
    "blue"
   ]
  },
  {
   "cell_type": "code",
   "execution_count": null,
   "metadata": {
    "collapsed": false
   },
   "outputs": [],
   "source": [
    "pink = S(\"2.25 * sqrt(abs((x - 0.5) * (x + 0.5)) / ((0.5 - x) * (0.5 + x))) - y\")\n",
    "pink"
   ]
  },
  {
   "cell_type": "code",
   "execution_count": null,
   "metadata": {
    "collapsed": false
   },
   "outputs": [],
   "source": [
    "brown = S(\"6 * sqrt(10) / 7 + (1.5 - 0.5 * abs(x)) * sqrt(abs(abs(x) - 1) / (abs(x) - 1)) - (6 * sqrt(10) / 14) * sqrt(4 - (abs(x) - 1) ** 2) - y\")\n",
    "brown"
   ]
  },
  {
   "cell_type": "code",
   "execution_count": null,
   "metadata": {
    "collapsed": true
   },
   "outputs": [],
   "source": [
    "from sympy import lambdify\n",
    "\n",
    "def lamb(func):\n",
    "    return lambdify((x, y), func, modules='numpy')\n",
    "\n",
    "red, orange, green, blue, pink, brown = map(lamb, (red, orange, green, blue, pink, brown))"
   ]
  },
  {
   "cell_type": "code",
   "execution_count": null,
   "metadata": {
    "collapsed": true
   },
   "outputs": [],
   "source": [
    "import numpy as np\n",
    "\n",
    "spacing = 0.01\n",
    "x, y = np.meshgrid(np.arange(-7.25, 7.25, spacing),\n",
    "                   np.arange(-5, 5, spacing))\n",
    "\n",
    "red = red(x, y)\n",
    "orange = orange(x, y)\n",
    "green = green(x, y)\n",
    "blue = blue(x, y)\n",
    "pink = pink(x, y)\n",
    "brown = brown(x, y)"
   ]
  },
  {
   "cell_type": "code",
   "execution_count": null,
   "metadata": {
    "collapsed": false
   },
   "outputs": [],
   "source": [
    "%matplotlib inline\n",
    "import matplotlib.pyplot as plt\n",
    "\n",
    "colors = dict(red='#FF0000', orange='#FFA500', green='#008000',\n",
    "              blue='#003399', pink='#CC0033', brown='#800000')\n",
    "\n",
    "equations = dict(red=red, orange=orange, green=green,\n",
    "                 blue=blue, pink=pink, brown=brown)\n",
    "                 \n",
    "fig, ax = plt.subplots(figsize=(8, 6))\n",
    "for key, color in colors.items():\n",
    "    ax.contour(x, y, equations[key], [0], colors=color, linewidths=3)\n",
    "    \n",
    "_ = ax.set_xticks([])\n",
    "_ = ax.set_yticks([])"
   ]
  }
 ],
 "metadata": {
  "kernelspec": {
   "display_name": "Curso UFBA (Python 2)",
   "language": "python",
   "name": "cursoufba_python2"
  },
  "language_info": {
   "codemirror_mode": {
    "name": "ipython",
    "version": 2
   },
   "file_extension": ".py",
   "mimetype": "text/x-python",
   "name": "python",
   "nbconvert_exporter": "python",
   "pygments_lexer": "ipython2",
   "version": "2.7.10"
  }
 },
 "nbformat": 4,
 "nbformat_minor": 0
}
