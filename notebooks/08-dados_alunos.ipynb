{
 "cells": [
  {
   "cell_type": "markdown",
   "metadata": {
    "slideshow": {
     "slide_type": "slide"
    }
   },
   "source": [
    "### Dados de ondas do modelo Wavewatch III\n",
    "\n",
    "Dado mensal amostrado de 6 em 6 horas, as variáveis são tempo, direção de onda e altura significativa da onda.\n",
    "\n",
    "- valores de máximo e mínimo da altura significativa\n",
    "- média da altura de onda\n",
    "- série temporal das alturas significativas\n",
    "- gráfico polar mostrando direção de onda e altura significativa"
   ]
  },
  {
   "cell_type": "code",
   "execution_count": null,
   "metadata": {
    "collapsed": false,
    "slideshow": {
     "slide_type": "slide"
    }
   },
   "outputs": [],
   "source": [
    "import pandas as pd\n",
    "\n",
    "\n",
    "df = pd.read_excel(\"./data/2005.02_onda.xlsx\").head()\n",
    "\n",
    "df.head()"
   ]
  },
  {
   "cell_type": "markdown",
   "metadata": {
    "slideshow": {
     "slide_type": "slide"
    }
   },
   "source": [
    "Podemos fazer melhor que isso!"
   ]
  },
  {
   "cell_type": "code",
   "execution_count": null,
   "metadata": {
    "collapsed": false,
    "slideshow": {
     "slide_type": "fragment"
    }
   },
   "outputs": [],
   "source": [
    "df = pd.read_excel(\"./data/2005.02_onda.xlsx\", parse_cols=\"A:C\").head()\n",
    "\n",
    "df.head()"
   ]
  },
  {
   "cell_type": "markdown",
   "metadata": {
    "slideshow": {
     "slide_type": "fragment"
    }
   },
   "source": [
    "Como converter o conjunto de números da coluna tempo para objetos `datetime`?"
   ]
  },
  {
   "cell_type": "markdown",
   "metadata": {
    "slideshow": {
     "slide_type": "slide"
    }
   },
   "source": [
    "1) O que temos na coluna tempo?"
   ]
  },
  {
   "cell_type": "code",
   "execution_count": null,
   "metadata": {
    "collapsed": false,
    "slideshow": {
     "slide_type": "fragment"
    }
   },
   "outputs": [],
   "source": [
    "date = df['tempo'].ix[0]\n",
    "date"
   ]
  },
  {
   "cell_type": "code",
   "execution_count": null,
   "metadata": {
    "collapsed": false,
    "slideshow": {
     "slide_type": "fragment"
    }
   },
   "outputs": [],
   "source": [
    "date.split()"
   ]
  },
  {
   "cell_type": "markdown",
   "metadata": {
    "slideshow": {
     "slide_type": "slide"
    }
   },
   "source": [
    "2) A entrada para objetos `datetime` é `int`"
   ]
  },
  {
   "cell_type": "code",
   "execution_count": null,
   "metadata": {
    "collapsed": false,
    "slideshow": {
     "slide_type": "fragment"
    }
   },
   "outputs": [],
   "source": [
    "new_date = []\n",
    "\n",
    "for d in date.split():\n",
    "    new_date.append(int(d))\n",
    "\n",
    "new_date"
   ]
  },
  {
   "cell_type": "markdown",
   "metadata": {
    "slideshow": {
     "slide_type": "slide"
    }
   },
   "source": [
    "Podemos converter para `int` mais facilmente assim"
   ]
  },
  {
   "cell_type": "code",
   "execution_count": null,
   "metadata": {
    "collapsed": false,
    "slideshow": {
     "slide_type": "fragment"
    }
   },
   "outputs": [],
   "source": [
    "map(int, date.split())"
   ]
  },
  {
   "cell_type": "markdown",
   "metadata": {
    "slideshow": {
     "slide_type": "slide"
    }
   },
   "source": [
    "3) Juntando tudo"
   ]
  },
  {
   "cell_type": "code",
   "execution_count": null,
   "metadata": {
    "collapsed": false,
    "slideshow": {
     "slide_type": "fragment"
    }
   },
   "outputs": [],
   "source": [
    "from datetime import datetime\n",
    "\n",
    "datetime(*map(int, date.split()))"
   ]
  },
  {
   "cell_type": "markdown",
   "metadata": {
    "slideshow": {
     "slide_type": "slide"
    }
   },
   "source": [
    "4) Criando uma função que recebe o `string` de datas e retorna o objeto `datetime`"
   ]
  },
  {
   "cell_type": "code",
   "execution_count": null,
   "metadata": {
    "collapsed": false,
    "slideshow": {
     "slide_type": "fragment"
    }
   },
   "outputs": [],
   "source": [
    "def convert(date):\n",
    "    return datetime(*map(int, date.split()))\n",
    "\n",
    "convert(date)"
   ]
  },
  {
   "cell_type": "markdown",
   "metadata": {
    "slideshow": {
     "slide_type": "slide"
    }
   },
   "source": [
    "Pronto!  Agora podemos passar essa função para o `pandas.read_excel` e os valores serão convertidos automagicamente"
   ]
  },
  {
   "cell_type": "code",
   "execution_count": null,
   "metadata": {
    "collapsed": false,
    "slideshow": {
     "slide_type": "fragment"
    }
   },
   "outputs": [],
   "source": [
    "df = pd.read_excel(\"./data/2005.02_onda.xlsx\",\n",
    "                   parse_cols=\"A:C\",\n",
    "                   converters={'tempo': convert})\n",
    "\n",
    "df.head()"
   ]
  },
  {
   "cell_type": "markdown",
   "metadata": {
    "slideshow": {
     "slide_type": "slide"
    }
   },
   "source": [
    "O último passo e usar essa nova coluna com o index"
   ]
  },
  {
   "cell_type": "code",
   "execution_count": null,
   "metadata": {
    "collapsed": false,
    "slideshow": {
     "slide_type": "fragment"
    }
   },
   "outputs": [],
   "source": [
    "df.set_index('tempo', inplace=True)\n",
    "\n",
    "df.tail()"
   ]
  },
  {
   "cell_type": "markdown",
   "metadata": {
    "slideshow": {
     "slide_type": "slide"
    }
   },
   "source": [
    "- valores de máximo e minimo da altura significativa e,\n",
    "- média da altura de onda"
   ]
  },
  {
   "cell_type": "code",
   "execution_count": null,
   "metadata": {
    "collapsed": false,
    "slideshow": {
     "slide_type": "fragment"
    }
   },
   "outputs": [],
   "source": [
    "df.describe()"
   ]
  },
  {
   "cell_type": "markdown",
   "metadata": {
    "slideshow": {
     "slide_type": "slide"
    }
   },
   "source": [
    "- série temporal das alturas significativas e,\n",
    "- gráfico polar mostrando direção de onda e altura significativa"
   ]
  },
  {
   "cell_type": "code",
   "execution_count": null,
   "metadata": {
    "collapsed": false,
    "slideshow": {
     "slide_type": "fragment"
    }
   },
   "outputs": [],
   "source": [
    "%matplotlib inline\n",
    "\n",
    "import matplotlib\n",
    "import matplotlib.pyplot as plt\n",
    "\n",
    "fig, ax = plt.subplots(figsize=(11, 3.25))\n",
    "df.plot(ax=ax, secondary_y=['Hsig']);"
   ]
  },
  {
   "cell_type": "code",
   "execution_count": null,
   "metadata": {
    "collapsed": false,
    "slideshow": {
     "slide_type": "slide"
    }
   },
   "outputs": [],
   "source": [
    "from oceans import stick_plot\n",
    "from oceans.ff_tools.ocfis import pol2cart\n",
    "\n",
    "x, y = pol2cart(df['dir'], df['Hsig'], units='deg')\n",
    "\n",
    "fig, ax = plt.subplots(figsize=(11, 3.25))\n",
    "\n",
    "q = stick_plot(df.index.to_pydatetime(), x.values, y.values, ax=ax)\n",
    "\n",
    "ref = 1\n",
    "qk = plt.quiverkey(q, 0.1, 0.85, ref,\n",
    "                  \"%s m\" % ref,\n",
    "                  labelpos='N', coordinates='axes')"
   ]
  },
  {
   "cell_type": "code",
   "execution_count": null,
   "metadata": {
    "collapsed": false,
    "slideshow": {
     "slide_type": "slide"
    }
   },
   "outputs": [],
   "source": [
    "import numpy as np\n",
    "\n",
    "r = np.deg2rad(df['dir'])\n",
    "\n",
    "fig, ax = plt.subplots(subplot_kw=dict(polar=True))\n",
    "\n",
    "ax.plot(r, df['Hsig']);"
   ]
  },
  {
   "cell_type": "code",
   "execution_count": null,
   "metadata": {
    "collapsed": false,
    "slideshow": {
     "slide_type": "slide"
    }
   },
   "outputs": [],
   "source": [
    "from windrose import WindroseAxes\n",
    "from matplotlib import pyplot as plt\n",
    "import matplotlib.cm as cm\n",
    "\n",
    "\n",
    "ax = WindroseAxes.from_ax()\n",
    "ax.contourf(df['dir'], df['Hsig'], blowto=True, cmap=cm.RdBu_r)\n",
    "ax.set_legend()"
   ]
  },
  {
   "cell_type": "code",
   "execution_count": null,
   "metadata": {
    "collapsed": false,
    "slideshow": {
     "slide_type": "slide"
    }
   },
   "outputs": [],
   "source": [
    "ax = WindroseAxes.from_ax()\n",
    "ax.box(df['dir'], df['Hsig'], bins=np.arange(0, 1.8, 0.15))\n",
    "ax.set_legend()"
   ]
  },
  {
   "cell_type": "code",
   "execution_count": null,
   "metadata": {
    "collapsed": false,
    "slideshow": {
     "slide_type": "slide"
    }
   },
   "outputs": [],
   "source": [
    "plt.hist(df['dir'], bins=15);"
   ]
  },
  {
   "cell_type": "code",
   "execution_count": null,
   "metadata": {
    "collapsed": false,
    "slideshow": {
     "slide_type": "fragment"
    }
   },
   "outputs": [],
   "source": [
    "plt.hist(df['Hsig'], bins=15);"
   ]
  },
  {
   "cell_type": "markdown",
   "metadata": {
    "slideshow": {
     "slide_type": "slide"
    }
   },
   "source": [
    "Análise de valores extremos"
   ]
  },
  {
   "cell_type": "code",
   "execution_count": null,
   "metadata": {
    "collapsed": false,
    "slideshow": {
     "slide_type": "slide"
    }
   },
   "outputs": [],
   "source": [
    "import wafo.stats as ws\n",
    "\n",
    "\n",
    "wei = ws.weibull_min.fit2(df['Hsig'])\n",
    "\n",
    "fig, ax = plt.subplots(figsize=(7, 7))\n",
    "ws.probplot(df['Hsig'], wei.par, dist='weibull_min', plot=ax);"
   ]
  },
  {
   "cell_type": "code",
   "execution_count": null,
   "metadata": {
    "collapsed": false,
    "slideshow": {
     "slide_type": "slide"
    }
   },
   "outputs": [],
   "source": [
    "'{} < {} < {}'.format(wei.par_lower[0], wei.par[0], wei.par_upper[0])"
   ]
  },
  {
   "cell_type": "code",
   "execution_count": null,
   "metadata": {
    "collapsed": false,
    "slideshow": {
     "slide_type": "slide"
    }
   },
   "outputs": [],
   "source": [
    "gev = ws.genextreme.fit2(df['Hsig'])\n",
    "\n",
    "fig, ax = plt.subplots(figsize=(9, 9))\n",
    "gev.plotesf()"
   ]
  },
  {
   "cell_type": "markdown",
   "metadata": {
    "slideshow": {
     "slide_type": "slide"
    }
   },
   "source": [
    "Generalized Extreme Value distribution"
   ]
  },
  {
   "cell_type": "code",
   "execution_count": null,
   "metadata": {
    "collapsed": false,
    "slideshow": {
     "slide_type": "fragment"
    }
   },
   "outputs": [],
   "source": [
    "import wafo.kdetools as wk\n",
    "\n",
    "fig, ax = plt.subplots(figsize=(9, 9))\n",
    "\n",
    "wk.TKDE(df['Hsig'], L2=0.5)(output='plot').plot('c--')\n",
    "gev.plotepdf(symb1='g-')\n",
    "wei.plotepdf(symb1='r-')"
   ]
  },
  {
   "cell_type": "code",
   "execution_count": null,
   "metadata": {
    "collapsed": false,
    "slideshow": {
     "slide_type": "slide"
    }
   },
   "outputs": [],
   "source": [
    "from scipy import stats\n",
    "import matplotlib.pyplot as plt\n",
    "\n",
    "def make_plot():\n",
    "    fig, ax = plt.subplots(figsize=(9, 9))\n",
    "    ax.hist(df['Hsig'], bins=10, normed=True, alpha=0.5);\n",
    "\n",
    "    x = np.linspace(df['Hsig'].min(), df['Hsig'].max(), 1000)\n",
    "\n",
    "    # Exponential Weibull\n",
    "    params = stats.exponweib.fit(df['Hsig'])\n",
    "    weib = stats.exponweib.pdf(x, *params)\n",
    "    ax.plot(x, weib, label='exponweib')\n",
    "\n",
    "    # Weibull minimum (Frechet right)\n",
    "    params = stats.weibull_min.fit(df['Hsig'])\n",
    "    weib = stats.weibull_min.pdf(x, *params)\n",
    "    ax.plot(x, weib, label='weibull_min')\n",
    "\n",
    "    # By hand!\n",
    "    def weib(x, c):\n",
    "        return c*x**(c-1)*np.exp(-x**c)\n",
    "    c, loc, scale = params\n",
    "    y = (x-loc) / scale\n",
    "    w = weib(y, c) / scale\n",
    "    ax.plot(x, w, '--', label='Manual')\n",
    "\n",
    "    leg = ax.legend()"
   ]
  },
  {
   "cell_type": "code",
   "execution_count": null,
   "metadata": {
    "collapsed": false,
    "slideshow": {
     "slide_type": "slide"
    }
   },
   "outputs": [],
   "source": [
    "make_plot()"
   ]
  },
  {
   "cell_type": "markdown",
   "metadata": {
    "slideshow": {
     "slide_type": "slide"
    }
   },
   "source": [
    "Weibull\n",
    "\n",
    "$$ c x^{c-1} e^{-x^c} $$"
   ]
  },
  {
   "cell_type": "code",
   "execution_count": null,
   "metadata": {
    "collapsed": false,
    "slideshow": {
     "slide_type": "fragment"
    }
   },
   "outputs": [],
   "source": [
    "c, loc, scale = stats.weibull_min.fit(df['Hsig'])\n",
    "\n",
    "c, loc, scale"
   ]
  },
  {
   "cell_type": "code",
   "execution_count": null,
   "metadata": {
    "collapsed": false,
    "slideshow": {
     "slide_type": "fragment"
    }
   },
   "outputs": [],
   "source": [
    "df['Hsig'].describe()[['max', '75%', 'mean', 'min', 'std']]"
   ]
  },
  {
   "cell_type": "markdown",
   "metadata": {
    "slideshow": {
     "slide_type": "slide"
    }
   },
   "source": [
    "Classe para \"wave calculations.\""
   ]
  },
  {
   "cell_type": "code",
   "execution_count": null,
   "metadata": {
    "collapsed": false,
    "slideshow": {
     "slide_type": "fragment"
    }
   },
   "outputs": [],
   "source": [
    "from oceans import Waves\n",
    "\n",
    "w = Waves(h=100, T=15, L=None)\n",
    "\n",
    "w.C, w.Cg, w.omega, w.k"
   ]
  }
 ],
 "metadata": {
  "celltoolbar": "Slideshow",
  "kernelspec": {
   "display_name": "Curso UFBA (Python 2)",
   "language": "python",
   "name": "cursoufba_python2"
  },
  "language_info": {
   "codemirror_mode": {
    "name": "ipython",
    "version": 2
   },
   "file_extension": ".py",
   "mimetype": "text/x-python",
   "name": "python",
   "nbconvert_exporter": "python",
   "pygments_lexer": "ipython2",
   "version": "2.7.10"
  }
 },
 "nbformat": 4,
 "nbformat_minor": 0
}
