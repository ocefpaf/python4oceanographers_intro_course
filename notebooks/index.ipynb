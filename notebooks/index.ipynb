{
 "cells": [
  {
   "cell_type": "markdown",
   "metadata": {},
   "source": [
    "# Universidade Federal da Bahia\n",
    "\n",
    "- *Filipe Fernandes*\n",
    "- *Setembro 02-04, 2015*\n",
    "\n",
    "Esse é o material para um curso de Introdução à linguagem de programação Python de 3 dias."
   ]
  },
  {
   "cell_type": "markdown",
   "metadata": {},
   "source": [
    "## Programa\n",
    "\n",
    "### Dia 1\n",
    " - [Introdução](00-IntroPython.ipynb)\n",
    " - [IPython e Jupyter Notebooks](01-Jupyter-Basics.ipynb)\n",
    " - [NumPy Arrays](02-NumPy.ipynb)\n",
    "\n",
    "### Dia 2\n",
    " - [Plotando com Matplolib](03-matplotlib.ipynb)\n",
    " - [Séries temporais com pandas](04-pandas.ipynb)\n",
    " - [Dados em Multi-dimensões](05-MultiDimMultiFormatData.ipynb)\n",
    "\n",
    "\n",
    "### Dia 3\n",
    "- [iris and cartopy](06-iris_cartopy.ipynb)\n",
    "- [Estudos de caso](07-case_studies.ipynb)\n",
    "- [Dados fornecidos pelos alunos](08-dados_alunos.ipynb)"
   ]
  }
 ],
 "metadata": {
  "kernelspec": {
   "display_name": "IPython (Python 3)",
   "language": "python",
   "name": "python3"
  },
  "language_info": {
   "codemirror_mode": {
    "name": "ipython",
    "version": 3
   },
   "file_extension": ".py",
   "mimetype": "text/x-python",
   "name": "python",
   "nbconvert_exporter": "python",
   "pygments_lexer": "ipython3",
   "version": "3.4.1"
  }
 },
 "nbformat": 4,
 "nbformat_minor": 0
}
