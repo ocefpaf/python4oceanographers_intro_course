{
 "cells": [
  {
   "cell_type": "markdown",
   "metadata": {
    "slideshow": {
     "slide_type": "slide"
    }
   },
   "source": [
    "# Aula 03 - [Matplotlib](http://matplotlib.org/)\n",
    "\n",
    "**Objetivos**\n",
    "\n",
    "- Criar gráficos 1-2D\n",
    "- Customizar gráficos\n",
    "- Criar funções para plots complexos\n",
    "- Apresentar Cartopy e criar mapas simples\n",
    "\n",
    "http://www.labri.fr/perso/nrougier/teaching/matplotlib/matplotlib.html"
   ]
  },
  {
   "cell_type": "markdown",
   "metadata": {
    "slideshow": {
     "slide_type": "slide"
    }
   },
   "source": [
    "Matplotlib é um pacote (ou módulo) Python usado pela comunidade científica\n",
    "para produzir gráficos 2D.  Esse pacote suporta diversos formatos como PNG,\n",
    "JEPG, PostScript/EPS, PDF e SVG.\n",
    "\n",
    "Matplotlib traz um sub-pacote de conveniência chamado `pyplot` que, para manter\n",
    "a consistência com usuários do matplotlib, deve sempre ser importado como `plt`:"
   ]
  },
  {
   "cell_type": "code",
   "execution_count": null,
   "metadata": {
    "collapsed": true,
    "slideshow": {
     "slide_type": "fragment"
    }
   },
   "outputs": [],
   "source": [
    "%matplotlib inline\n",
    "\n",
    "import matplotlib.pyplot as plt"
   ]
  },
  {
   "cell_type": "markdown",
   "metadata": {
    "slideshow": {
     "slide_type": "slide"
    }
   },
   "source": [
    "O coração de **todos** os gráficos é o objeto *figure*.  O objeto `Figure`\n",
    "está no pode ser desenhado em qualquer formato de saída ou apenas a tela."
   ]
  },
  {
   "cell_type": "code",
   "execution_count": null,
   "metadata": {
    "collapsed": false,
    "slideshow": {
     "slide_type": "fragment"
    }
   },
   "outputs": [],
   "source": [
    "fig = plt.figure()\n",
    "\n",
    "plt.show()"
   ]
  },
  {
   "cell_type": "markdown",
   "metadata": {
    "slideshow": {
     "slide_type": "slide"
    }
   },
   "source": [
    "Sozinho o objeto `Figure` não é interessante.  Temos que \"desenhar\" algo nele.\n",
    "\n",
    "Os objetos de desenho do matplotlib são chamados de `Artists`.  De longe o\n",
    "`Artists` mais útil é o `Axes` *artist*.  O `Axes` *artist* representa o\n",
    "espaço dos dados (*x*, *y*) ou em caso de coordenadas polares (*r*, $\\theta$).\n",
    "\n",
    "Não há limite no número de `Artists` que podemos adicionar em uma figura.\n",
    "Vamos ver um exemplo."
   ]
  },
  {
   "cell_type": "code",
   "execution_count": null,
   "metadata": {
    "collapsed": false,
    "slideshow": {
     "slide_type": "slide"
    }
   },
   "outputs": [],
   "source": [
    "ax = plt.axes()\n",
    "\n",
    "plt.show()"
   ]
  },
  {
   "cell_type": "markdown",
   "metadata": {
    "slideshow": {
     "slide_type": "slide"
    }
   },
   "source": [
    "A maior parte do tempo você vai trabalhar com o objeto `Axes`.  A documentação\n",
    "é bem detalhada e recomendo a leitura, principalmente do método `plot`:\n",
    "\n",
    " * http://matplotlib.org/api/pyplot_summary.html\n",
    " * http://matplotlib.org/api/pyplot_api.html#matplotlib.pyplot.plot\n",
    " * http://matplotlib.org/api/axes_api.html?#matplotlib.axes.Axes.plot"
   ]
  },
  {
   "cell_type": "code",
   "execution_count": null,
   "metadata": {
    "collapsed": false,
    "slideshow": {
     "slide_type": "slide"
    }
   },
   "outputs": [],
   "source": [
    "ax = plt.axes()\n",
    "\n",
    "line1 = ax.plot([0, 1, 2, 1.5], [3, 1, 2, 4])\n",
    "\n",
    "plt.show()"
   ]
  },
  {
   "cell_type": "markdown",
   "metadata": {
    "slideshow": {
     "slide_type": "slide"
    }
   },
   "source": [
    "## Outros tipos de gráficos"
   ]
  },
  {
   "cell_type": "code",
   "execution_count": null,
   "metadata": {
    "collapsed": false,
    "slideshow": {
     "slide_type": "slide"
    }
   },
   "outputs": [],
   "source": [
    "import numpy as np\n",
    "\n",
    "x = np.linspace(-180, 180, 60)\n",
    "y = np.linspace(-90, 90, 30)\n",
    "x2d, y2d = np.meshgrid(x, y)\n",
    "\n",
    "data = np.cos(3 * np.deg2rad(x2d)) + np.sin(2 * np.deg2rad(y2d))"
   ]
  },
  {
   "cell_type": "code",
   "execution_count": null,
   "metadata": {
    "collapsed": false,
    "slideshow": {
     "slide_type": "slide"
    }
   },
   "outputs": [],
   "source": [
    "plt.contourf(x, y, data)\n",
    "plt.show()"
   ]
  },
  {
   "cell_type": "code",
   "execution_count": null,
   "metadata": {
    "collapsed": false,
    "slideshow": {
     "slide_type": "slide"
    }
   },
   "outputs": [],
   "source": [
    "plt.imshow(data, extent=[-180, 180, -90, 90], interpolation='nearest', origin='lower')\n",
    "plt.show()"
   ]
  },
  {
   "cell_type": "code",
   "execution_count": null,
   "metadata": {
    "collapsed": false,
    "slideshow": {
     "slide_type": "slide"
    }
   },
   "outputs": [],
   "source": [
    "plt.pcolormesh(x, y, data)\n",
    "plt.show()"
   ]
  },
  {
   "cell_type": "code",
   "execution_count": null,
   "metadata": {
    "collapsed": false,
    "slideshow": {
     "slide_type": "slide"
    }
   },
   "outputs": [],
   "source": [
    "plt.scatter(x2d, y2d, c=data, s=15)\n",
    "plt.show()"
   ]
  },
  {
   "cell_type": "code",
   "execution_count": null,
   "metadata": {
    "collapsed": false,
    "slideshow": {
     "slide_type": "slide"
    }
   },
   "outputs": [],
   "source": [
    "plt.bar(x, data.sum(axis=0), width=np.diff(x)[0])\n",
    "plt.show()"
   ]
  },
  {
   "cell_type": "code",
   "execution_count": null,
   "metadata": {
    "collapsed": false,
    "slideshow": {
     "slide_type": "slide"
    }
   },
   "outputs": [],
   "source": [
    "plt.plot(x, data.sum(axis=0),\n",
    "         linestyle='--',\n",
    "         marker='d',\n",
    "         markersize=10,\n",
    "         color='red')\n",
    "\n",
    "plt.show()"
   ]
  },
  {
   "cell_type": "markdown",
   "metadata": {
    "slideshow": {
     "slide_type": "slide"
    }
   },
   "source": [
    "# Títulos, Legendas, colorbars e anotações"
   ]
  },
  {
   "cell_type": "code",
   "execution_count": null,
   "metadata": {
    "collapsed": false,
    "slideshow": {
     "slide_type": "slide"
    }
   },
   "outputs": [],
   "source": [
    "fig = plt.figure()\n",
    "ax = plt.axes()\n",
    "fig.subplots_adjust(top=0.8)\n",
    "\n",
    "fig.suptitle(u'Título do \"Figure\"', fontsize=18, fontweight='bold')\n",
    "ax.set_title(u'Título do \"Axes', fontsize=16)\n",
    "ax.set_xlabel('O Eixo X')\n",
    "ax.set_ylabel('O Eixo Y $y=f(x)$', fontsize=16)\n",
    "ax.text(0.5, 0.5, 'Texto centrado em (0.5, 0.5)\\nin data coordinates.', horizontalalignment='center', fontsize=14)"
   ]
  },
  {
   "cell_type": "code",
   "execution_count": null,
   "metadata": {
    "collapsed": false,
    "slideshow": {
     "slide_type": "slide"
    }
   },
   "outputs": [],
   "source": [
    "x = np.linspace(-3, 7, 200)\n",
    "\n",
    "plt.plot(x, 0.5*x**3 - 3*x**2, linewidth=2,\n",
    "         label='$f(x)=0.5x^2-3x^2$')\n",
    "\n",
    "plt.plot(x, 1.5*x**2 - 6*x, linewidth=2, linestyle='--',\n",
    "         label='Gradiente de $f(x)$', )\n",
    "\n",
    "plt.legend(loc='lower right')\n",
    "\n",
    "plt.grid()"
   ]
  },
  {
   "cell_type": "code",
   "execution_count": null,
   "metadata": {
    "collapsed": false,
    "slideshow": {
     "slide_type": "slide"
    }
   },
   "outputs": [],
   "source": [
    "x = np.linspace(-180, 180, 60)\n",
    "y = np.linspace(-90, 90, 30)\n",
    "x2d, y2d = np.meshgrid(x, y)\n",
    "data = np.cos(3 * np.deg2rad(x2d)) + np.sin(2 * np.deg2rad(y2d))\n",
    "\n",
    "plt.contourf(x, y, data)\n",
    "\n",
    "plt.colorbar(orientation='horizontal')"
   ]
  },
  {
   "cell_type": "code",
   "execution_count": null,
   "metadata": {
    "collapsed": false,
    "slideshow": {
     "slide_type": "slide"
    }
   },
   "outputs": [],
   "source": [
    "x = np.linspace(-3, 7, 200)\n",
    "plt.plot(x, 0.5*x**3 - 3*x**2, linewidth=2)\n",
    "plt.annotate('Local minimum',\n",
    "             xy=(4, -18),\n",
    "             xytext=(-2, -40), fontsize=15,\n",
    "             arrowprops={'facecolor': 'black', 'frac': 0.3})\n",
    "plt.grid()"
   ]
  },
  {
   "cell_type": "code",
   "execution_count": null,
   "metadata": {
    "collapsed": false,
    "slideshow": {
     "slide_type": "slide"
    }
   },
   "outputs": [],
   "source": [
    "plt.plot(range(10))\n",
    "\n",
    "plt.savefig('simple.svg')"
   ]
  },
  {
   "cell_type": "code",
   "execution_count": null,
   "metadata": {
    "collapsed": false,
    "slideshow": {
     "slide_type": "slide"
    }
   },
   "outputs": [],
   "source": [
    "from IPython.display import SVG\n",
    "\n",
    "SVG('./simple.svg')"
   ]
  },
  {
   "cell_type": "markdown",
   "metadata": {
    "slideshow": {
     "slide_type": "slide"
    }
   },
   "source": [
    "## Exemplo com dados reais"
   ]
  },
  {
   "cell_type": "code",
   "execution_count": null,
   "metadata": {
    "collapsed": false,
    "slideshow": {
     "slide_type": "fragment"
    }
   },
   "outputs": [],
   "source": [
    "import numpy as np\n",
    "import numpy.ma as ma\n",
    "\n",
    "data = np.loadtxt(\"./data/dados_pirata.csv\", skiprows=1, usecols=range(2, 16), delimiter=',')\n",
    "\n",
    "data = ma.masked_less_equal(data, -9999)"
   ]
  },
  {
   "cell_type": "code",
   "execution_count": null,
   "metadata": {
    "collapsed": false,
    "slideshow": {
     "slide_type": "slide"
    }
   },
   "outputs": [],
   "source": [
    "plt.pcolormesh(np.flipud(data.T))\n",
    "plt.colorbar()"
   ]
  },
  {
   "cell_type": "code",
   "execution_count": null,
   "metadata": {
    "collapsed": false,
    "slideshow": {
     "slide_type": "slide"
    }
   },
   "outputs": [],
   "source": [
    "fig, ax = plt.subplots(figsize=(9, 3))\n",
    "\n",
    "cs = ax.pcolormesh(np.flipud(data.T))\n",
    "\n",
    "fig.colorbar(cs)"
   ]
  },
  {
   "cell_type": "code",
   "execution_count": null,
   "metadata": {
    "collapsed": false,
    "slideshow": {
     "slide_type": "slide"
    }
   },
   "outputs": [],
   "source": [
    "z = [1, 10, 100, 120, 13, 140, 180, 20, 300, 40, 5, 500, 60, 80]\n",
    "\n",
    "fig, ax = plt.subplots()\n",
    "ax.plot(data[42, :], z, 'ko')\n",
    "ax.invert_yaxis()"
   ]
  },
  {
   "cell_type": "code",
   "execution_count": null,
   "metadata": {
    "collapsed": false,
    "slideshow": {
     "slide_type": "slide"
    }
   },
   "outputs": [],
   "source": [
    "fig, ax = plt.subplots(figsize=(9, 3))\n",
    "\n",
    "ax.plot(data[:, 0])\n",
    "\n",
    "ax.set_xlabel(\"Tempo\")\n",
    "ax.set_ylabel(\"Temperatura\")\n",
    "ax.set_title(u\"Série-temporal PIRATA\")"
   ]
  },
  {
   "cell_type": "code",
   "execution_count": null,
   "metadata": {
    "collapsed": true,
    "slideshow": {
     "slide_type": "slide"
    }
   },
   "outputs": [],
   "source": [
    "def plot_ts(data):\n",
    "    fig, ax = plt.subplots(figsize=(9, 3))\n",
    "\n",
    "    ax.plot(data)\n",
    "    ax.set_xlabel(\"Tempo\")\n",
    "    ax.set_ylabel(\"Temperatura\")\n",
    "    ax.set_title(u\"Série-temporal PIRATA\")"
   ]
  },
  {
   "cell_type": "code",
   "execution_count": null,
   "metadata": {
    "collapsed": false,
    "slideshow": {
     "slide_type": "slide"
    }
   },
   "outputs": [],
   "source": [
    "from matplotlib import style\n",
    "\n",
    "style.available"
   ]
  },
  {
   "cell_type": "code",
   "execution_count": null,
   "metadata": {
    "collapsed": false,
    "slideshow": {
     "slide_type": "slide"
    }
   },
   "outputs": [],
   "source": [
    "with style.context('dark_background'):\n",
    "    plot_ts(data[:, 0])"
   ]
  },
  {
   "cell_type": "code",
   "execution_count": null,
   "metadata": {
    "collapsed": false,
    "slideshow": {
     "slide_type": "slide"
    }
   },
   "outputs": [],
   "source": [
    "with style.context('ggplot'):\n",
    "    plot_ts(data[:, 0])"
   ]
  },
  {
   "cell_type": "code",
   "execution_count": null,
   "metadata": {
    "collapsed": false,
    "slideshow": {
     "slide_type": "slide"
    }
   },
   "outputs": [],
   "source": [
    "style.use('ggplot')\n",
    "\n",
    "plt.hist(data[0, :])"
   ]
  },
  {
   "cell_type": "code",
   "execution_count": null,
   "metadata": {
    "collapsed": false,
    "slideshow": {
     "slide_type": "slide"
    }
   },
   "outputs": [],
   "source": [
    "style.use('ggplot')\n",
    "\n",
    "idx = 0\n",
    "\n",
    "mask = data.mask[:, 0]\n",
    "\n",
    "n = plt.hist(data[:, 0].data[~mask], bins=10)"
   ]
  },
  {
   "cell_type": "code",
   "execution_count": null,
   "metadata": {
    "collapsed": false,
    "slideshow": {
     "slide_type": "slide"
    }
   },
   "outputs": [],
   "source": [
    "data[idx, :]"
   ]
  },
  {
   "cell_type": "code",
   "execution_count": null,
   "metadata": {
    "collapsed": false,
    "slideshow": {
     "slide_type": "slide"
    }
   },
   "outputs": [],
   "source": [
    "idx = 12\n",
    "\n",
    "mask = data.mask[:, idx]\n",
    "\n",
    "n = plt.hist(data[:, idx].data[~mask], bins=30)"
   ]
  },
  {
   "cell_type": "code",
   "execution_count": null,
   "metadata": {
    "collapsed": true,
    "slideshow": {
     "slide_type": "skip"
    }
   },
   "outputs": [],
   "source": [
    "def make_wave():\n",
    "    twopi = 2 * np.pi\n",
    "    n = 2\n",
    "    A = 2\n",
    "    w = twopi / 10\n",
    "    k = twopi / 200\n",
    "    phi = np.deg2rad(180)\n",
    "    t = np.arange(0, 10 * n, 0.01)\n",
    "    y = A * np.cos(w * t - k * 0 + phi)\n",
    "\n",
    "    fig, ax = plt.subplots(figsize=(8, 4))\n",
    "    ax.plot(t, y, linewidth='2', color='#006633')\n",
    "    ax.set_frame_on(False)\n",
    "    ax.axis([-0.1, 20.1, -3, 3])\n",
    "    ax.get_xaxis().set_ticks([])\n",
    "    ax.get_yaxis().set_ticks([])\n",
    "\n",
    "    # Box.\n",
    "    kw = dict(linestyle='--', color='grey', zorder=90)\n",
    "    ax.axhline(y=2, xmin=0.15, xmax=0.85, **kw)\n",
    "    ax.axhline(y=-2, xmin=0.15, xmax=0.85, **kw)\n",
    "    ax.axvline(x=5, ymin=-0.15, ymax=1.85, **kw)\n",
    "    ax.axvline(x=15, ymin=-0.15, ymax=1.85, **kw)\n",
    "\n",
    "    # Zero line.\n",
    "    _ = ax.annotate('', xy=(20, 0), xycoords='data',\n",
    "                xytext=(0, 0), textcoords='data',\n",
    "                arrowprops=dict(arrowstyle='->', color='black'))\n",
    "\n",
    "    _ = ax.annotate(u'Espaço', xy=(20, 0), xycoords='data',\n",
    "                xytext=(20, 0.05), textcoords='data', \n",
    "                va='bottom', ha='right', color='blue')\n",
    "\n",
    "    _ = ax.annotate('Tempo', xy=(20, 0), xycoords='data',\n",
    "                xytext=(20, -0.05), textcoords='data', \n",
    "                va='top', ha='right', color='red')\n",
    "\n",
    "    # Arrow commom properties.\n",
    "    arrowprops = dict(arrowstyle='<->', color='black')\n",
    "\n",
    "    # Wave period (or length).\n",
    "    _ = ax.annotate('', xy=(15, 2.5), xycoords='data',\n",
    "                xytext=(5, 2.5), textcoords='data',\n",
    "                arrowprops=arrowprops)\n",
    "\n",
    "    _ = ax.annotate(u'Comprimento', xy=(10, 2.5), xycoords='data',\n",
    "                xytext=(10, 2.55), textcoords='data', \n",
    "                va='bottom', ha='center', color='blue')\n",
    "\n",
    "    _ = ax.annotate(u'Período', xy=(10, 2.5), xycoords='data',\n",
    "                xytext=(10, 2.45), textcoords='data', \n",
    "                va='top', ha='center', color='red')\n",
    "\n",
    "    # Amplitude.\n",
    "    _ = ax.annotate('', xy=(5, 2), xycoords='data',\n",
    "                xytext=(5, 0), textcoords='data',\n",
    "                arrowprops=arrowprops)\n",
    "\n",
    "    _ = ax.annotate('Amplitude', xy=(5, 1), xycoords='data',\n",
    "                xytext=(4.9, 1), textcoords='data', \n",
    "                va='center', ha='right', rotation=90)\n",
    "\n",
    "    # Height.\n",
    "    ax.annotate('', xy=(15, 2), xycoords='data',\n",
    "                xytext=(15, -2), textcoords='data',\n",
    "                arrowprops=arrowprops)\n",
    "\n",
    "    _ = ax.annotate('Altura', xy=(15, 1), xycoords='data',\n",
    "                xytext=(14.9, 0.1), textcoords='data', \n",
    "                va='bottom', ha='right', rotation=90)\n",
    "\n",
    "    # Angle.\n",
    "    _ = ax.annotate('', xy=(15, 2), xycoords='data',\n",
    "                xytext=(5, -2), textcoords='data',\n",
    "                arrowprops=arrowprops)\n",
    "\n",
    "    _ = ax.annotate(u'Inclinação', xy=(10, 0), xycoords='data',\n",
    "                xytext=(10.5, 0.5), textcoords='data', \n",
    "                va='center', ha='center', rotation=35)"
   ]
  },
  {
   "cell_type": "code",
   "execution_count": null,
   "metadata": {
    "collapsed": false,
    "slideshow": {
     "slide_type": "slide"
    }
   },
   "outputs": [],
   "source": [
    "make_wave()"
   ]
  },
  {
   "cell_type": "code",
   "execution_count": null,
   "metadata": {
    "collapsed": false,
    "slideshow": {
     "slide_type": "skip"
    }
   },
   "outputs": [],
   "source": [
    "from matplotlib.dates import date2num\n",
    "\n",
    "\n",
    "def stick_plot(time, u, v, **kw):\n",
    "    width = kw.pop('width', 0.002)\n",
    "    headwidth = kw.pop('headwidth', 0)\n",
    "    headlength = kw.pop('headlength', 0)\n",
    "    headaxislength = kw.pop('headaxislength', 0)\n",
    "    angles = kw.pop('angles', 'uv')\n",
    "    ax = kw.pop('ax', None)\n",
    "    \n",
    "    if angles != 'uv':\n",
    "        raise AssertionError(\"Stickplot angles must be 'uv' so that\"\n",
    "                             \"if *U*==*V* the angle of the arrow on\"\n",
    "                             \"the plot is 45 degrees CCW from the *x*-axis.\")\n",
    "\n",
    "    time, u, v = map(np.asanyarray, (time, u, v))\n",
    "    if not ax:\n",
    "        fig, ax = plt.subplots()\n",
    "    \n",
    "    q = ax.quiver(date2num(time), [[0]*len(time)], u, v,\n",
    "                  angles='uv', width=width, headwidth=headwidth,\n",
    "                  headlength=headlength, headaxislength=headaxislength,\n",
    "                  **kw)\n",
    "\n",
    "    ax.axes.get_yaxis().set_visible(False)\n",
    "    ax.xaxis_date()\n",
    "    return q\n",
    "\n",
    "def make_quiver():\n",
    "    from datetime import datetime, timedelta\n",
    "\n",
    "    x = np.arange(100, 110, 0.1)\n",
    "    start = datetime.now()\n",
    "    time = [start + timedelta(days=n) for n in range(len(x))]\n",
    "    u, v = np.sin(x), np.cos(x)\n",
    "\n",
    "\n",
    "    fig, ax = plt.subplots(figsize=(11, 2.75))\n",
    "\n",
    "    q = stick_plot(time, u, v, ax=ax, width=0.002, color='green')\n",
    "\n",
    "    ref = 1\n",
    "    qk = ax.quiverkey(q, 0.1, 0.85, ref,\n",
    "                      \"%s N m$^{-2}$\" % ref,\n",
    "                      labelpos='N', coordinates='axes')"
   ]
  },
  {
   "cell_type": "code",
   "execution_count": null,
   "metadata": {
    "collapsed": false,
    "slideshow": {
     "slide_type": "slide"
    }
   },
   "outputs": [],
   "source": [
    "make_quiver()"
   ]
  },
  {
   "cell_type": "code",
   "execution_count": null,
   "metadata": {
    "collapsed": false,
    "slideshow": {
     "slide_type": "slide"
    }
   },
   "outputs": [],
   "source": [
    "from IPython.display import IFrame\n",
    "\n",
    "IFrame(\"http://matplotlib.org/gallery.html\", width=900, height=500)"
   ]
  }
 ],
 "metadata": {
  "celltoolbar": "Slideshow",
  "kernelspec": {
   "display_name": "Curso UFBA (Python 2)",
   "language": "python",
   "name": "cursoufba_python2"
  },
  "language_info": {
   "codemirror_mode": {
    "name": "ipython",
    "version": 2
   },
   "file_extension": ".py",
   "mimetype": "text/x-python",
   "name": "python",
   "nbconvert_exporter": "python",
   "pygments_lexer": "ipython2",
   "version": "2.7.10"
  }
 },
 "nbformat": 4,
 "nbformat_minor": 0
}
