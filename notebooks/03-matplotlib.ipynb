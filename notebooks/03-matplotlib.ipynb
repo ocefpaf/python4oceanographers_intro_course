{
 "cells": [
  {
   "cell_type": "markdown",
   "metadata": {
    "slideshow": {
     "slide_type": "slide"
    }
   },
   "source": [
    "# Aula 03 - [Matplotlib](http://matplotlib.org/)\n",
    "\n",
    "**Objetivos**\n",
    "\n",
    "- Criar gráficos 1-2D\n",
    "- Customizar gráficos\n",
    "- Criar funções para plots complexos\n",
    "- Apresentar Cartopy e criar mapas simples\n",
    "\n",
    "http://www.labri.fr/perso/nrougier/teaching/matplotlib/matplotlib.html"
   ]
  },
  {
   "cell_type": "code",
   "execution_count": null,
   "metadata": {
    "collapsed": false
   },
   "outputs": [],
   "source": [
    "import numpy as np\n",
    "import numpy.ma as ma\n",
    "\n",
    "data = np.loadtxt(\"./data/dados_pirata.csv\", skiprows=1, usecols=range(2, 16), delimiter=',')\n",
    "\n",
    "data = ma.masked_less_equal(data, -9999)"
   ]
  },
  {
   "cell_type": "code",
   "execution_count": null,
   "metadata": {
    "collapsed": true
   },
   "outputs": [],
   "source": [
    "%matplotlib inline\n",
    "\n",
    "import matplotlib.pyplot as plt"
   ]
  },
  {
   "cell_type": "code",
   "execution_count": null,
   "metadata": {
    "collapsed": false
   },
   "outputs": [],
   "source": [
    "plt.pcolormesh(np.flipud(data.T))\n",
    "plt.colorbar()"
   ]
  },
  {
   "cell_type": "code",
   "execution_count": null,
   "metadata": {
    "collapsed": false
   },
   "outputs": [],
   "source": [
    "fig, ax = plt.subplots(figsize=(9, 3))\n",
    "\n",
    "cs = ax.pcolormesh(np.flipud(data.T))\n",
    "\n",
    "fig.colorbar(cs)"
   ]
  },
  {
   "cell_type": "code",
   "execution_count": null,
   "metadata": {
    "collapsed": false
   },
   "outputs": [],
   "source": [
    "z = [1, 10, 100, 120, 13, 140, 180, 20, 300, 40, 5, 500, 60, 80]\n",
    "\n",
    "fig, ax = plt.subplots()\n",
    "ax.plot(data[42, :], z, 'ko')\n",
    "ax.invert_yaxis()"
   ]
  },
  {
   "cell_type": "code",
   "execution_count": null,
   "metadata": {
    "collapsed": false
   },
   "outputs": [],
   "source": [
    "fig, ax = plt.subplots(figsize=(9, 3))\n",
    "\n",
    "ax.plot(data[:, 0])\n",
    "\n",
    "ax.set_xlabel(\"Tempo\")\n",
    "ax.set_ylabel(\"Temperatura\")\n",
    "ax.set_title(u\"Série-temporal PIRATA\")"
   ]
  },
  {
   "cell_type": "code",
   "execution_count": null,
   "metadata": {
    "collapsed": true
   },
   "outputs": [],
   "source": [
    "def plot_ts(data):\n",
    "    fig, ax = plt.subplots(figsize=(9, 3))\n",
    "\n",
    "    ax.plot(data)\n",
    "    ax.set_xlabel(\"Tempo\")\n",
    "    ax.set_ylabel(\"Temperatura\")\n",
    "    ax.set_title(u\"Série-temporal PIRATA\")"
   ]
  },
  {
   "cell_type": "code",
   "execution_count": null,
   "metadata": {
    "collapsed": false
   },
   "outputs": [],
   "source": [
    "from matplotlib import style\n",
    "\n",
    "style.available"
   ]
  },
  {
   "cell_type": "code",
   "execution_count": null,
   "metadata": {
    "collapsed": false
   },
   "outputs": [],
   "source": [
    "with style.context('dark_background'):\n",
    "    plot_ts(data[:, 0])"
   ]
  },
  {
   "cell_type": "code",
   "execution_count": null,
   "metadata": {
    "collapsed": false
   },
   "outputs": [],
   "source": [
    "with style.context('ggplot'):\n",
    "    plot_ts(data[:, 0])"
   ]
  },
  {
   "cell_type": "code",
   "execution_count": null,
   "metadata": {
    "collapsed": false
   },
   "outputs": [],
   "source": [
    "style.use('ggplot')\n",
    "\n",
    "plt.hist(data[0, :])"
   ]
  },
  {
   "cell_type": "code",
   "execution_count": null,
   "metadata": {
    "collapsed": false
   },
   "outputs": [],
   "source": [
    "style.use('ggplot')\n",
    "\n",
    "idx = 0\n",
    "\n",
    "mask = data.mask[:, 0]\n",
    "\n",
    "n = plt.hist(data[:, 0].data[~mask], bins=10)"
   ]
  },
  {
   "cell_type": "code",
   "execution_count": null,
   "metadata": {
    "collapsed": false
   },
   "outputs": [],
   "source": [
    "data[idx, :]"
   ]
  },
  {
   "cell_type": "code",
   "execution_count": null,
   "metadata": {
    "collapsed": false
   },
   "outputs": [],
   "source": [
    "idx = 12\n",
    "\n",
    "mask = data.mask[:, idx]\n",
    "\n",
    "n = plt.hist(data[:, idx].data[~mask], bins=30)"
   ]
  },
  {
   "cell_type": "code",
   "execution_count": null,
   "metadata": {
    "collapsed": false
   },
   "outputs": [],
   "source": [
    "twopi = 2 * np.pi\n",
    "n = 2\n",
    "A = 2\n",
    "w = twopi / 10\n",
    "k = twopi / 200\n",
    "phi = np.deg2rad(180)\n",
    "t = np.arange(0, 10 * n, 0.01)\n",
    "y = A * np.cos(w * t - k * 0 + phi)\n",
    "\n",
    "fig, ax = plt.subplots(figsize=(8, 4))\n",
    "ax.plot(t, y, linewidth='2', color='#006633')\n",
    "ax.set_frame_on(False)\n",
    "ax.axis([-0.1, 20.1, -3, 3])\n",
    "ax.get_xaxis().set_ticks([])\n",
    "ax.get_yaxis().set_ticks([])\n",
    "\n",
    "# Box.\n",
    "kw = dict(linestyle='--', color='grey', zorder=90)\n",
    "ax.axhline(y=2, xmin=0.15, xmax=0.85, **kw)\n",
    "ax.axhline(y=-2, xmin=0.15, xmax=0.85, **kw)\n",
    "ax.axvline(x=5, ymin=-0.15, ymax=1.85, **kw)\n",
    "ax.axvline(x=15, ymin=-0.15, ymax=1.85, **kw)\n",
    "\n",
    "# Zero line.\n",
    "_ = ax.annotate('', xy=(20, 0), xycoords='data',\n",
    "            xytext=(0, 0), textcoords='data',\n",
    "            arrowprops=dict(arrowstyle='->', color='black'))\n",
    "\n",
    "_ = ax.annotate(u'Espaço', xy=(20, 0), xycoords='data',\n",
    "            xytext=(20, 0.05), textcoords='data', \n",
    "            va='bottom', ha='right', color='blue')\n",
    "\n",
    "_ = ax.annotate('Tempo', xy=(20, 0), xycoords='data',\n",
    "            xytext=(20, -0.05), textcoords='data', \n",
    "            va='top', ha='right', color='red')\n",
    "\n",
    "# Arrow commom properties.\n",
    "arrowprops = dict(arrowstyle='<->', color='black')\n",
    "\n",
    "# Wave period (or length).\n",
    "_ = ax.annotate('', xy=(15, 2.5), xycoords='data',\n",
    "            xytext=(5, 2.5), textcoords='data',\n",
    "            arrowprops=arrowprops)\n",
    "\n",
    "_ = ax.annotate(u'Comprimento', xy=(10, 2.5), xycoords='data',\n",
    "            xytext=(10, 2.55), textcoords='data', \n",
    "            va='bottom', ha='center', color='blue')\n",
    "\n",
    "_ = ax.annotate(u'Período', xy=(10, 2.5), xycoords='data',\n",
    "            xytext=(10, 2.45), textcoords='data', \n",
    "            va='top', ha='center', color='red')\n",
    "\n",
    "# Amplitude.\n",
    "_ = ax.annotate('', xy=(5, 2), xycoords='data',\n",
    "            xytext=(5, 0), textcoords='data',\n",
    "            arrowprops=arrowprops)\n",
    "\n",
    "_ = ax.annotate('Amplitude', xy=(5, 1), xycoords='data',\n",
    "            xytext=(4.9, 1), textcoords='data', \n",
    "            va='center', ha='right', rotation=90)\n",
    "\n",
    "# Height.\n",
    "ax.annotate('', xy=(15, 2), xycoords='data',\n",
    "            xytext=(15, -2), textcoords='data',\n",
    "            arrowprops=arrowprops)\n",
    "\n",
    "_ = ax.annotate('Altura', xy=(15, 1), xycoords='data',\n",
    "            xytext=(14.9, 0.1), textcoords='data', \n",
    "            va='bottom', ha='right', rotation=90)\n",
    "\n",
    "# Angle.\n",
    "_ = ax.annotate('', xy=(15, 2), xycoords='data',\n",
    "            xytext=(5, -2), textcoords='data',\n",
    "            arrowprops=arrowprops)\n",
    "\n",
    "_ = ax.annotate(u'Inclinação', xy=(10, 0), xycoords='data',\n",
    "            xytext=(10.5, 0.5), textcoords='data', \n",
    "            va='center', ha='center', rotation=35)"
   ]
  },
  {
   "cell_type": "code",
   "execution_count": null,
   "metadata": {
    "collapsed": false
   },
   "outputs": [],
   "source": [
    "from matplotlib.dates import date2num\n",
    "\n",
    "\n",
    "def stick_plot(time, u, v, **kw):\n",
    "    width = kw.pop('width', 0.002)\n",
    "    headwidth = kw.pop('headwidth', 0)\n",
    "    headlength = kw.pop('headlength', 0)\n",
    "    headaxislength = kw.pop('headaxislength', 0)\n",
    "    angles = kw.pop('angles', 'uv')\n",
    "    ax = kw.pop('ax', None)\n",
    "    \n",
    "    if angles != 'uv':\n",
    "        raise AssertionError(\"Stickplot angles must be 'uv' so that\"\n",
    "                             \"if *U*==*V* the angle of the arrow on\"\n",
    "                             \"the plot is 45 degrees CCW from the *x*-axis.\")\n",
    "\n",
    "    time, u, v = map(np.asanyarray, (time, u, v))\n",
    "    if not ax:\n",
    "        fig, ax = plt.subplots()\n",
    "    \n",
    "    q = ax.quiver(date2num(time), [[0]*len(time)], u, v,\n",
    "                  angles='uv', width=width, headwidth=headwidth,\n",
    "                  headlength=headlength, headaxislength=headaxislength,\n",
    "                  **kw)\n",
    "\n",
    "    ax.axes.get_yaxis().set_visible(False)\n",
    "    ax.xaxis_date()\n",
    "    return q\n",
    "\n",
    "\n",
    "\n",
    "\n",
    "from datetime import datetime, timedelta\n",
    "\n",
    "x = np.arange(100, 110, 0.1)\n",
    "start = datetime.now()\n",
    "time = [start + timedelta(days=n) for n in range(len(x))]\n",
    "u, v = np.sin(x), np.cos(x)\n",
    "\n",
    "\n",
    "fig, ax = plt.subplots(figsize=(11, 2.75))\n",
    "\n",
    "q = stick_plot(time, u, v, ax=ax, width=0.002, color='green')\n",
    "\n",
    "ref = 1\n",
    "qk = ax.quiverkey(q, 0.1, 0.85, ref,\n",
    "                  \"%s N m$^{-2}$\" % ref,\n",
    "                  labelpos='N', coordinates='axes')"
   ]
  },
  {
   "cell_type": "code",
   "execution_count": null,
   "metadata": {
    "collapsed": false
   },
   "outputs": [],
   "source": [
    "from IPython.display import IFrame\n",
    "\n",
    "IFrame(\"http://matplotlib.org/gallery.html\", width=900, height=700)"
   ]
  },
  {
   "cell_type": "markdown",
   "metadata": {},
   "source": [
    "## Cartopy"
   ]
  },
  {
   "cell_type": "code",
   "execution_count": null,
   "metadata": {
    "collapsed": false
   },
   "outputs": [],
   "source": [
    "\n",
    "kw = dict(color='#FF9900', linestyle='-', linewidth=1.5)\n",
    "lon, lat = np.loadtxt('./data/challenger_path.csv',\n",
    "                      delimiter=',', unpack=True)\n",
    "\n",
    "import cartopy.crs as ccrs\n",
    "import cartopy.feature as cfeature\n",
    "\n",
    "def make_cartopy(projection=ccrs.Robinson(), figsize=(6, 4), resolution='110m'):\n",
    "    fig, ax = plt.subplots(figsize=figsize, subplot_kw=dict(projection=projection))\n",
    "    ax.set_global()\n",
    "    ax.coastlines(resolution=resolution, color='k')\n",
    "    # Only PlateCarree and Mercator plots are currently supported.\n",
    "    gl = ax.gridlines(draw_labels=False)\n",
    "    ax.add_feature(cfeature.LAND, facecolor='0.75')\n",
    "    return fig, ax\n",
    "\n",
    "fig, ax = make_cartopy(projection=ccrs.Robinson(), resolution='110m')\n",
    "_ = ax.plot(lon, lat, transform=ccrs.Geodetic(), **kw)"
   ]
  },
  {
   "cell_type": "code",
   "execution_count": null,
   "metadata": {
    "collapsed": true
   },
   "outputs": [],
   "source": [
    "import cartopy.io.img_tiles as cimgt\n",
    "\n",
    "\n",
    "def request_map(map_request, figsize=(8, 8), zoom=8):\n",
    "    fig, ax = plt.subplots(figsize=figsize,\n",
    "                           subplot_kw=dict(projection=map_request.crs))\n",
    "    ax.set_extent([-39, -38.25, -13.25, -12.5])\n",
    "    ax.add_image(map_request, zoom)\n",
    "    return fig, ax"
   ]
  },
  {
   "cell_type": "code",
   "execution_count": null,
   "metadata": {
    "collapsed": false
   },
   "outputs": [],
   "source": [
    "fig, ax = request_map(cimgt.MapQuestOpenAerial(), zoom=10)"
   ]
  },
  {
   "cell_type": "code",
   "execution_count": null,
   "metadata": {
    "collapsed": false
   },
   "outputs": [],
   "source": [
    "fig, ax = request_map(cimgt.GoogleTiles(), zoom=10)"
   ]
  },
  {
   "cell_type": "code",
   "execution_count": null,
   "metadata": {
    "collapsed": false
   },
   "outputs": [],
   "source": [
    "fig, ax = request_map(cimgt.OSM(), zoom=10)"
   ]
  },
  {
   "cell_type": "code",
   "execution_count": null,
   "metadata": {
    "collapsed": false
   },
   "outputs": [],
   "source": [
    "fig, ax = request_map(cimgt.QuadtreeTiles(), zoom=10)"
   ]
  },
  {
   "cell_type": "code",
   "execution_count": null,
   "metadata": {
    "collapsed": false
   },
   "outputs": [],
   "source": [
    "import cartopy.crs as ccrs\n",
    "import matplotlib.pyplot as plt\n",
    "from cartopy.feature import NaturalEarthFeature, LAND, COASTLINE\n",
    "from cartopy.mpl.gridliner import LONGITUDE_FORMATTER, LATITUDE_FORMATTER\n",
    "\n",
    "\n",
    "def brazil_states(projection=ccrs.PlateCarree()):\n",
    "    fig, ax = plt.subplots(figsize=(8, 6), subplot_kw=dict(projection=projection))\n",
    "    ax.set_extent([-82, -32, -45, 10])\n",
    "    ax.stock_img()\n",
    "    ax.add_feature(LAND)\n",
    "    ax.add_feature(COASTLINE)\n",
    "    gl = ax.gridlines(draw_labels=True)\n",
    "    gl.xlabels_top = False\n",
    "    gl.ylabels_right = False\n",
    "    gl.xformatter = LONGITUDE_FORMATTER\n",
    "    gl.yformatter = LATITUDE_FORMATTER\n",
    "    return fig, ax\n",
    "\n",
    "\n",
    "fig, ax = brazil_states()\n",
    "states = NaturalEarthFeature(category='cultural', scale='50m', facecolor='none',\n",
    "                             name='admin_1_states_provinces_shp')\n",
    "_ = ax.add_feature(states, edgecolor='gray')"
   ]
  }
 ],
 "metadata": {
  "celltoolbar": "Slideshow",
  "kernelspec": {
   "display_name": "Curso UFBA (Python 2)",
   "language": "python",
   "name": "cursoufba_python2"
  },
  "language_info": {
   "codemirror_mode": {
    "name": "ipython",
    "version": 2
   },
   "file_extension": ".py",
   "mimetype": "text/x-python",
   "name": "python",
   "nbconvert_exporter": "python",
   "pygments_lexer": "ipython2",
   "version": "2.7.10"
  }
 },
 "nbformat": 4,
 "nbformat_minor": 0
}
