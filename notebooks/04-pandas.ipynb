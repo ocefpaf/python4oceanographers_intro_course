{
 "cells": [
  {
   "cell_type": "markdown",
   "metadata": {
    "slideshow": {
     "slide_type": "slide"
    }
   },
   "source": [
    "# Aula 04 - [pandas](http://pandas.pydata.org/)\n",
    "\n",
    "**Objetivos**\n",
    "\n",
    "- Análise séries temporais\n",
    "- Ler, manipular e plotar dados tabulares\n",
    "- Guia de *group-by* e outras operações tabulares avançadas"
   ]
  },
  {
   "cell_type": "markdown",
   "metadata": {},
   "source": [
    "Ler um `CSV` e mostrar apenas o início da tabela."
   ]
  },
  {
   "cell_type": "code",
   "execution_count": null,
   "metadata": {
    "collapsed": false,
    "scrolled": true
   },
   "outputs": [],
   "source": [
    "import pandas as pd\n",
    "\n",
    "pd.read_csv('./data/dados_pirata.csv').head()"
   ]
  },
  {
   "cell_type": "markdown",
   "metadata": {},
   "source": [
    "O `read_csv` (e vários outros métodos do pandas) possuí uma infinidade de\n",
    "opções para ajudar na leitura dos dados."
   ]
  },
  {
   "cell_type": "code",
   "execution_count": null,
   "metadata": {
    "collapsed": false,
    "scrolled": true
   },
   "outputs": [],
   "source": [
    "df = pd.read_csv('./data/dados_pirata.csv',\n",
    "                 index_col='datahora',\n",
    "                 na_values=-99999,\n",
    "                 parse_dates=True).drop('Unnamed: 0', axis=1)\n",
    "\n",
    "df.tail()"
   ]
  },
  {
   "cell_type": "markdown",
   "metadata": {},
   "source": [
    "Algumas facilidades do pandas é ter *labels* ricos em informação.  Então vamos renomear as nossas colunas e ordená-las pela profundidade."
   ]
  },
  {
   "cell_type": "code",
   "execution_count": null,
   "metadata": {
    "collapsed": false
   },
   "outputs": [],
   "source": [
    "df.columns = ['{0:0>3}'.format(col.split('_')[1]) for col in df.columns]\n",
    "\n",
    "df.sort(axis=1, inplace=True)\n",
    "\n",
    "df.head()"
   ]
  },
  {
   "cell_type": "markdown",
   "metadata": {},
   "source": [
    "Outra facilidade é a limpeza da tabela, aqui jogamos fora todos os inválidos\n",
    "(*Not-a-Number*) apenas quando todos os valores do eixo 1 (colunas) foram\n",
    "`NaN`."
   ]
  },
  {
   "cell_type": "code",
   "execution_count": null,
   "metadata": {
    "collapsed": false,
    "scrolled": true
   },
   "outputs": [],
   "source": [
    "df.dropna(how='all', axis=1, inplace=True)\n",
    "df.head()"
   ]
  },
  {
   "cell_type": "code",
   "execution_count": null,
   "metadata": {
    "collapsed": false
   },
   "outputs": [],
   "source": [
    "desc = df.describe()\n",
    "desc"
   ]
  },
  {
   "cell_type": "markdown",
   "metadata": {},
   "source": [
    "Como será a variabilidade desses dados?"
   ]
  },
  {
   "cell_type": "code",
   "execution_count": null,
   "metadata": {
    "collapsed": false
   },
   "outputs": [],
   "source": [
    "desc.ix['std'] ** 2"
   ]
  },
  {
   "cell_type": "code",
   "execution_count": null,
   "metadata": {
    "collapsed": false
   },
   "outputs": [],
   "source": [
    "%matplotlib inline\n",
    "\n",
    "ax = df[['001', '100', '180', '500']].plot()"
   ]
  },
  {
   "cell_type": "code",
   "execution_count": null,
   "metadata": {
    "collapsed": false
   },
   "outputs": [],
   "source": [
    "from matplotlib import style\n",
    "import matplotlib.pyplot as plt\n",
    "\n",
    "style.use('ggplot')\n",
    "\n",
    "fig, axes = plt.subplots(figsize=(11, 1.25*11), nrows=11, sharex=True, sharey=False)\n",
    "\n",
    "kw = dict(color='darkorange', linewidth=2)\n",
    "for ax, col in zip(axes, df.columns):\n",
    "    ax.plot(df['2015'].index, df['2015'][col], **kw)\n",
    "    ax.set_ylabel('{} m'.format(col))"
   ]
  },
  {
   "cell_type": "markdown",
   "metadata": {},
   "source": [
    "Como já havíamos notado antes toda essa série parece ter um *gap* no mesmo \n",
    "lugar (provavelmente uma manutenção do fundeio).  Com o pandas podemos \n",
    "facilmente interpolar esse *gap* para obtermos uma série contínua."
   ]
  },
  {
   "cell_type": "code",
   "execution_count": null,
   "metadata": {
    "collapsed": false
   },
   "outputs": [],
   "source": [
    "df['001'].interpolate().plot()\n",
    "df['001'].plot()"
   ]
  },
  {
   "cell_type": "code",
   "execution_count": null,
   "metadata": {
    "collapsed": false
   },
   "outputs": [],
   "source": [
    "df['001'].interpolate(method='time', limit=30).plot()\n",
    "df['001'].plot()"
   ]
  },
  {
   "cell_type": "markdown",
   "metadata": {},
   "source": [
    "Com o pandas vocês podem facilmente \"re-amostar\" uma série ou tabela\n",
    "para uma nova frequência temporal.  Os dois parâmetros principais para o"
   ]
  },
  {
   "cell_type": "code",
   "execution_count": null,
   "metadata": {
    "collapsed": false
   },
   "outputs": [],
   "source": [
    "import numpy as np\n",
    "fig, ax = plt.subplots(figsize=(9, 5))\n",
    "\n",
    "ax = df.resample('M', how=np.median).plot(ax=ax)"
   ]
  },
  {
   "cell_type": "markdown",
   "metadata": {},
   "source": [
    "- Group-by months/years (climatology)"
   ]
  },
  {
   "cell_type": "code",
   "execution_count": null,
   "metadata": {
    "collapsed": false
   },
   "outputs": [],
   "source": [
    "key = lambda x: x.month\n",
    "\n",
    "grouped = df.groupby(key)\n",
    "\n",
    "monthly = grouped.mean()\n",
    "monthly.shape"
   ]
  },
  {
   "cell_type": "code",
   "execution_count": null,
   "metadata": {
    "collapsed": false
   },
   "outputs": [],
   "source": [
    "fig, ax = plt.subplots(figsize=(9, 5))\n",
    "\n",
    "ax = monthly.plot(ax=ax)"
   ]
  },
  {
   "cell_type": "code",
   "execution_count": null,
   "metadata": {
    "collapsed": false
   },
   "outputs": [],
   "source": [
    "key = lambda x: x.year\n",
    "\n",
    "grouped = df.groupby(key)\n",
    "\n",
    "yearly = grouped.mean()\n",
    "yearly.shape"
   ]
  },
  {
   "cell_type": "code",
   "execution_count": null,
   "metadata": {
    "collapsed": false
   },
   "outputs": [],
   "source": [
    "fig, ax = plt.subplots(figsize=(9, 5))\n",
    "\n",
    "ax = yearly.plot(ax=ax)"
   ]
  },
  {
   "cell_type": "code",
   "execution_count": null,
   "metadata": {
    "collapsed": false
   },
   "outputs": [],
   "source": [
    "df.resample('A', how='mean').plot()"
   ]
  },
  {
   "cell_type": "code",
   "execution_count": null,
   "metadata": {
    "collapsed": false
   },
   "outputs": [],
   "source": [
    "for col in df.columns:\n",
    "    yearly[col] = (yearly[col] - yearly[col].mean()) / yearly[col].std(ddof=0)"
   ]
  },
  {
   "cell_type": "code",
   "execution_count": null,
   "metadata": {
    "collapsed": false
   },
   "outputs": [],
   "source": [
    "fig, ax = plt.subplots(figsize=(9, 5))\n",
    "\n",
    "ax = yearly.plot(ax=ax)"
   ]
  },
  {
   "cell_type": "code",
   "execution_count": null,
   "metadata": {
    "collapsed": false
   },
   "outputs": [],
   "source": [
    "yearly.corr()"
   ]
  },
  {
   "cell_type": "code",
   "execution_count": null,
   "metadata": {
    "collapsed": false
   },
   "outputs": [],
   "source": [
    "!head ./data/15t30717.3f1"
   ]
  },
  {
   "cell_type": "code",
   "execution_count": null,
   "metadata": {
    "collapsed": false
   },
   "outputs": [],
   "source": [
    "from datetime import datetime\n",
    "from pandas import read_table\n",
    "\n",
    "cols = ['j', 'u', 'v', 'temp', 'sal', 'y', 'mn', 'd', 'h', 'mi']\n",
    "\n",
    "df = read_table('./data/15t30717.3f1' , delim_whitespace=True, names=cols)\n",
    "dates = [datetime(*x) for x in\n",
    "         zip(df['y'], df['mn'], df['d'], df['h'], df['mi'])]\n",
    "df.index = dates\n",
    "df.drop(['y', 'mn', 'd', 'h', 'mi', 'j'], axis=1, inplace=True)\n",
    "df.head()"
   ]
  },
  {
   "cell_type": "code",
   "execution_count": null,
   "metadata": {
    "collapsed": false
   },
   "outputs": [],
   "source": [
    "ax = df['v'].plot()"
   ]
  },
  {
   "cell_type": "code",
   "execution_count": null,
   "metadata": {
    "collapsed": true
   },
   "outputs": [],
   "source": [
    "from oceans import lanc\n",
    "\n",
    "freq = 1./40  # Hours\n",
    "window_size = 96+1+96\n",
    "pad = np.zeros(window_size) * np.NaN\n",
    "\n",
    "wt = lanc(window_size, freq)\n",
    "res = np.convolve(wt, df['v'], mode='same')\n",
    "\n",
    "df['low'] = res\n",
    "df['high'] = df['v'] - df['low']"
   ]
  },
  {
   "cell_type": "code",
   "execution_count": null,
   "metadata": {
    "collapsed": false
   },
   "outputs": [],
   "source": [
    "ax = df[['low', 'high']].plot()"
   ]
  },
  {
   "cell_type": "markdown",
   "metadata": {},
   "source": [
    "https://ocefpaf.github.io/python4oceanographers/blog/2013/07/29/python-ctd/"
   ]
  }
 ],
 "metadata": {
  "celltoolbar": "Slideshow",
  "kernelspec": {
   "display_name": "Curso UFBA (Python 2)",
   "language": "python",
   "name": "cursoufba_python2"
  },
  "language_info": {
   "codemirror_mode": {
    "name": "ipython",
    "version": 2
   },
   "file_extension": ".py",
   "mimetype": "text/x-python",
   "name": "python",
   "nbconvert_exporter": "python",
   "pygments_lexer": "ipython2",
   "version": "2.7.10"
  }
 },
 "nbformat": 4,
 "nbformat_minor": 0
}
