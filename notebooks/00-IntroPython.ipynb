{
 "cells": [
  {
   "cell_type": "markdown",
   "metadata": {
    "collapsed": true,
    "slideshow": {
     "slide_type": "slide"
    }
   },
   "source": [
    "# Aula 00 - O que é [Python](https://www.python.org/)?\n",
    "\n",
    "**Objetivos**\n",
    "\n",
    "- Introdução à linguagem de programação Python.\n",
    "- Exemplos do seu uso para análise exploratória de dados.\n",
    "- Utilizar python com uma linguagem \"cola.\""
   ]
  },
  {
   "cell_type": "markdown",
   "metadata": {
    "slideshow": {
     "slide_type": "slide"
    }
   },
   "source": [
    "- A linguagem Python é:\n",
    "  - interpretada (não compilada)\n",
    "  - \"Dynamically Typed\" (não statically-typed)\n",
    "  - Orientada à `Objetos` e/ou `Funcional`\n",
    "  - Licença Livre"
   ]
  },
  {
   "cell_type": "markdown",
   "metadata": {
    "slideshow": {
     "slide_type": "slide"
    }
   },
   "source": [
    "Instalando python o seu computador (Canopy, EPD, spyder, etc):\n",
    "\n",
    "```bash\n",
    "URL=http://repo.continuum.io/miniconda/Miniconda-latest-Linux-x86_64.sh\n",
    "\n",
    "wget $URL -O miniconda.sh\n",
    "\n",
    "bash miniconda.sh -b -p $HOME/miniconda\n",
    "\n",
    "export PATH=\"$HOME/miniconda/bin:$PATH\"\n",
    "\n",
    "conda update conda\n",
    "\n",
    "conda config --add ioos\n",
    "\n",
    "conda info -a\n",
    "```"
   ]
  },
  {
   "cell_type": "markdown",
   "metadata": {
    "slideshow": {
     "slide_type": "slide"
    }
   },
   "source": [
    "- Scientific:\n",
    "    - [Matplotlib](http://matplotlib.sourceforge.net)\n",
    "    - [NumPy](http://docs.scipy.org/doc/numpy/reference)\n",
    "    - [SciPy](http://docs.scipy.org/doc/scipy/reference)\n",
    "    - [IPython](http://ipython.org/)\n",
    "\n",
    "- Oceanography\n",
    "    - [gsw](https://pypi.python.org/pypi/gsw/)\n",
    "    - [seawater](https://pypi.python.org/pypi/seawater/)\n",
    "    - [airsea](https://pypi.python.org/pypi/airsea/0.0.1)\n",
    "    - [oceans](https://pypi.python.org/pypi/oceans)\n",
    "    - [ctd](https://pypi.python.org/pypi/ctd)\n",
    "    - [iris](http://scitools.org.uk/iris/docs/latest/index.html)\n",
    "    - [cartopy](http://scitools.org.uk/cartopy/docs/latest/index.html)"
   ]
  },
  {
   "cell_type": "markdown",
   "metadata": {
    "slideshow": {
     "slide_type": "slide"
    }
   },
   "source": [
    "- Ajuda extra:\n",
    "    - [PyAOS](http://pyaos.johnny-lin.com)\n",
    "    - [python4oceanographers](http://ocefpaf.github.io/python4oceanographers/)\n",
    "    - [earthpy](http://earthpy.org/)\n",
    "    - [Sotware Carpentry](http://software-carpentry.org/index.html)\n",
    "    - [matlab-numpy](http://mathesaurus.sourceforge.net/matlab-numpy.html)"
   ]
  },
  {
   "cell_type": "markdown",
   "metadata": {
    "slideshow": {
     "slide_type": "slide"
    }
   },
   "source": [
    "## Tipos de objetos"
   ]
  },
  {
   "cell_type": "code",
   "execution_count": 1,
   "metadata": {
    "collapsed": false,
    "slideshow": {
     "slide_type": "fragment"
    }
   },
   "outputs": [
    {
     "name": "stdout",
     "output_type": "stream",
     "text": [
      "<type 'float'>\n",
      "<type 'int'>\n"
     ]
    }
   ],
   "source": [
    "Sal, Temp = 35.1, 17 # Salinidade e Temperatura\n",
    "\n",
    "print(type(Sal))\n",
    "print(type(Temp))"
   ]
  },
  {
   "cell_type": "code",
   "execution_count": 2,
   "metadata": {
    "collapsed": false,
    "scrolled": true,
    "slideshow": {
     "slide_type": "fragment"
    }
   },
   "outputs": [
    {
     "name": "stdout",
     "output_type": "stream",
     "text": [
      "<type 'complex'>\n",
      "OO em ação mostrando números reais 5.0 e imaginários -5.0\n"
     ]
    }
   ],
   "source": [
    "u, v = 5., -5.\n",
    "U = u + 1j*v\n",
    "\n",
    "print(type(U))\n",
    "\n",
    "msg = 'OO em ação mostrando números reais {0} e imaginários {1}'.format\n",
    "\n",
    "print(msg(U.real, U.imag))\n",
    "\n",
    "# Desafio: Calcular o vetor é o ângulo formado por u+iv."
   ]
  },
  {
   "cell_type": "code",
   "execution_count": 3,
   "metadata": {
    "collapsed": false,
    "slideshow": {
     "slide_type": "slide"
    }
   },
   "outputs": [
    {
     "data": {
      "text/plain": [
       "(7.0710678118654755, -45.0)"
      ]
     },
     "execution_count": 3,
     "metadata": {},
     "output_type": "execute_result"
    }
   ],
   "source": [
    "import numpy as np\n",
    "\n",
    "np.abs(U), np.rad2deg(np.angle(U))"
   ]
  },
  {
   "cell_type": "code",
   "execution_count": 4,
   "metadata": {
    "collapsed": false,
    "slideshow": {
     "slide_type": "slide"
    }
   },
   "outputs": [
    {
     "data": {
      "text/plain": [
       "True"
      ]
     },
     "execution_count": 4,
     "metadata": {},
     "output_type": "execute_result"
    }
   ],
   "source": [
    "False == 0"
   ]
  },
  {
   "cell_type": "code",
   "execution_count": 5,
   "metadata": {
    "collapsed": false,
    "slideshow": {
     "slide_type": "fragment"
    }
   },
   "outputs": [
    {
     "data": {
      "text/plain": [
       "True"
      ]
     },
     "execution_count": 5,
     "metadata": {},
     "output_type": "execute_result"
    }
   ],
   "source": [
    "True == 1"
   ]
  },
  {
   "cell_type": "code",
   "execution_count": 6,
   "metadata": {
    "collapsed": false,
    "slideshow": {
     "slide_type": "fragment"
    }
   },
   "outputs": [
    {
     "data": {
      "text/plain": [
       "False"
      ]
     },
     "execution_count": 6,
     "metadata": {},
     "output_type": "execute_result"
    }
   ],
   "source": [
    "True == 2"
   ]
  },
  {
   "cell_type": "code",
   "execution_count": 7,
   "metadata": {
    "collapsed": false,
    "slideshow": {
     "slide_type": "fragment"
    }
   },
   "outputs": [
    {
     "data": {
      "text/plain": [
       "False"
      ]
     },
     "execution_count": 7,
     "metadata": {},
     "output_type": "execute_result"
    }
   ],
   "source": [
    "False == 1"
   ]
  },
  {
   "cell_type": "markdown",
   "metadata": {
    "slideshow": {
     "slide_type": "slide"
    }
   },
   "source": [
    "## Strings"
   ]
  },
  {
   "cell_type": "code",
   "execution_count": 8,
   "metadata": {
    "collapsed": false,
    "slideshow": {
     "slide_type": "fragment"
    }
   },
   "outputs": [
    {
     "name": "stdout",
     "output_type": "stream",
     "text": [
      "Texto simples com \"aspas\" duplas.\n",
      "\n",
      "'Texto simples com 'aspas' simples.\n",
      "\n",
      "Texto complexo com quebra\n",
      "de linha, aspas \"duplas\" e 'simples'.\n",
      "\n",
      "Texto \\n 'cru', ideal para Latex $^\\circ$.\n"
     ]
    }
   ],
   "source": [
    "print('Texto simples com \"aspas\" duplas.\\n')\n",
    "\n",
    "print(\"'Texto simples com 'aspas' simples.\\n\")\n",
    "\n",
    "print(\"\"\"Texto complexo com quebra\n",
    "de linha, aspas \"duplas\" e 'simples'.\\n\"\"\")\n",
    "\n",
    "print(r\"Texto \\n 'cru', ideal para Latex $^\\circ$.\")"
   ]
  },
  {
   "cell_type": "markdown",
   "metadata": {
    "slideshow": {
     "slide_type": "slide"
    }
   },
   "source": [
    "## String Methods"
   ]
  },
  {
   "cell_type": "code",
   "execution_count": 9,
   "metadata": {
    "collapsed": false,
    "slideshow": {
     "slide_type": "fragment"
    }
   },
   "outputs": [
    {
     "data": {
      "text/plain": [
       "('um bom aluno sempre...',\n",
       " ['Um', 'bom', 'aluno', 'sempre...'],\n",
       " 'Um bom estudante sempre...')"
      ]
     },
     "execution_count": 9,
     "metadata": {},
     "output_type": "execute_result"
    }
   ],
   "source": [
    "text = \"Um bom aluno sempre...\"\n",
    "\n",
    "text.lower(), text.split(), text.replace('aluno', 'estudante')"
   ]
  },
  {
   "cell_type": "code",
   "execution_count": 10,
   "metadata": {
    "collapsed": false,
    "slideshow": {
     "slide_type": "slide"
    }
   },
   "outputs": [
    {
     "name": "stdout",
     "output_type": "stream",
     "text": [
      "O valor de pi é 3.14\n",
      "O valor de pi é 3.141593\n",
      "O valor de 10 x pi é 3.14e+01\n"
     ]
    }
   ],
   "source": [
    "print('O valor de pi é {:.2f}'.format(np.pi))\n",
    "print('O valor de pi é {:.6f}'.format(np.pi))\n",
    "print('O valor de 10 x pi é {:0.2e}'.format(10*np.pi))"
   ]
  },
  {
   "cell_type": "markdown",
   "metadata": {
    "slideshow": {
     "slide_type": "slide"
    }
   },
   "source": [
    "## Slicing"
   ]
  },
  {
   "cell_type": "code",
   "execution_count": 11,
   "metadata": {
    "collapsed": false,
    "slideshow": {
     "slide_type": "fragment"
    }
   },
   "outputs": [
    {
     "data": {
      "text/plain": [
       "(17.4, 23.2, [23.2, 22.1, 19.5, 18.9, 17.4], [17.4, 19.5, 23.2])"
      ]
     },
     "execution_count": 11,
     "metadata": {},
     "output_type": "execute_result"
    }
   ],
   "source": [
    "T = [17.4, 18.9, 19.5, 22.1, 23.2]\n",
    "T[0], T[-1], T[::-1], T[::2]"
   ]
  },
  {
   "cell_type": "code",
   "execution_count": 12,
   "metadata": {
    "collapsed": false,
    "slideshow": {
     "slide_type": "fragment"
    }
   },
   "outputs": [
    {
     "data": {
      "text/plain": [
       "[18.9, 19.5]"
      ]
     },
     "execution_count": 12,
     "metadata": {},
     "output_type": "execute_result"
    }
   ],
   "source": [
    "T[1:3]"
   ]
  },
  {
   "cell_type": "code",
   "execution_count": 13,
   "metadata": {
    "collapsed": false,
    "slideshow": {
     "slide_type": "fragment"
    }
   },
   "outputs": [
    {
     "data": {
      "text/plain": [
       "[19.5, 22.1, 23.2]"
      ]
     },
     "execution_count": 13,
     "metadata": {},
     "output_type": "execute_result"
    }
   ],
   "source": [
    "T[2:]"
   ]
  },
  {
   "cell_type": "markdown",
   "metadata": {
    "slideshow": {
     "slide_type": "slide"
    }
   },
   "source": [
    "## Alguns métodos de listas:\n",
    "\n",
    "- `.append`\n",
    "- `.extend`\n",
    "- `.sort`\n",
    "- `.remove`\n",
    "- `.reverse`\n",
    "- `.insert`"
   ]
  },
  {
   "cell_type": "code",
   "execution_count": 14,
   "metadata": {
    "collapsed": false,
    "slideshow": {
     "slide_type": "slide"
    }
   },
   "outputs": [
    {
     "name": "stdout",
     "output_type": "stream",
     "text": [
      "[0, 1, 2, 3, 4, 5, 6, 7, 8, 9]\n",
      "[0, 1, 2, 3, 4, 5, 6, 7, 8, 9, 10]\n",
      "[0, 1, 2, 3, 11, 4, 5, 6, 7, 8, 9, 10]\n",
      "[0, 1, 2, 3, 4, 5, 6, 7, 8, 9, 10, 11]\n",
      "[0, 1, 2, 3, 4, 5, 6, 7, 8, 9, 10, 11, 'elemento extra']\n"
     ]
    }
   ],
   "source": [
    "lista = list(range(10))\n",
    "print(lista)\n",
    "\n",
    "lista.append(10)\n",
    "print(lista)\n",
    "\n",
    "lista.insert(4, 11)\n",
    "print(lista)\n",
    "\n",
    "lista.sort()\n",
    "print(lista)\n",
    "\n",
    "lista.extend(['elemento extra'])\n",
    "print(lista)"
   ]
  },
  {
   "cell_type": "markdown",
   "metadata": {
    "slideshow": {
     "slide_type": "slide"
    }
   },
   "source": [
    "## Dicionários"
   ]
  },
  {
   "cell_type": "code",
   "execution_count": 15,
   "metadata": {
    "collapsed": false,
    "slideshow": {
     "slide_type": "fragment"
    }
   },
   "outputs": [
    {
     "data": {
      "text/plain": [
       "(['S', 'AOU', 'T'], [[35.5, 34.76, 33.2], [320, 330, 350], [17.4, 18.9, 19.5]])"
      ]
     },
     "execution_count": 15,
     "metadata": {},
     "output_type": "execute_result"
    }
   ],
   "source": [
    "ctd = dict(S=[35.5, 34.76, 33.2],\n",
    "           T=[17.4, 18.9, 19.5],\n",
    "           AOU=[320, 330, 350])\n",
    "\n",
    "\n",
    "ctd.keys(), ctd.values()"
   ]
  },
  {
   "cell_type": "markdown",
   "metadata": {
    "slideshow": {
     "slide_type": "slide"
    }
   },
   "source": [
    "## Sets"
   ]
  },
  {
   "cell_type": "code",
   "execution_count": 16,
   "metadata": {
    "collapsed": false,
    "slideshow": {
     "slide_type": "fragment"
    }
   },
   "outputs": [
    {
     "data": {
      "text/plain": [
       "{'joseph', 'maria', 'pedro'}"
      ]
     },
     "execution_count": 16,
     "metadata": {},
     "output_type": "execute_result"
    }
   ],
   "source": [
    "set(['joseph', 'maria', 'pedro', 'maria'])"
   ]
  },
  {
   "cell_type": "markdown",
   "metadata": {
    "slideshow": {
     "slide_type": "slide"
    }
   },
   "source": [
    "### Namespaces\n",
    "\n",
    "**Direto da wikipedia:**\n",
    "\n",
    "*A namespace (sometimes also called a name scope) is an abstract container or\n",
    "environment created to hold a logical grouping of unique identifiers or symbols\n",
    "(i.e., names).*\n",
    "\n",
    "**O que interessa para nós?**\n",
    "\n",
    "- Namespaces mantém o código organizado.\n",
    "- Evita conflitos gerados por funções de mesmo nome.\n",
    "- Torna o código \"declarativo\" e consequentemente mais legível."
   ]
  },
  {
   "cell_type": "markdown",
   "metadata": {
    "slideshow": {
     "slide_type": "slide"
    }
   },
   "source": [
    "**Matlab vs Python (Namespaces)**\n",
    "\n",
    "Matlab:\n",
    "\n",
    "```matlab\n",
    "w1 = window(@gausswin, N, 2.5)\n",
    "% Opa! O resultados é diferente do que eu esperava. Argh, a minha função\n",
    "% window está abaixo da original do Matlab no \"path\".\n",
    "```\n",
    "\n",
    "Python:\n",
    "\n",
    "```python\n",
    "from oceans.timeseries import window\n",
    "w1 = window(N, 2.5, type='gausswin')\n",
    "# Sem dúvida essa era a que eu queria!\n",
    "```"
   ]
  },
  {
   "cell_type": "markdown",
   "metadata": {
    "slideshow": {
     "slide_type": "slide"
    }
   },
   "source": [
    "## Módulos"
   ]
  },
  {
   "cell_type": "markdown",
   "metadata": {
    "slideshow": {
     "slide_type": "fragment"
    }
   },
   "source": [
    "Como vocês já notaram, em Python temos que importar (declarar) tudo que vamos\n",
    "utilizar."
   ]
  },
  {
   "cell_type": "code",
   "execution_count": 17,
   "metadata": {
    "collapsed": false,
    "slideshow": {
     "slide_type": "fragment"
    }
   },
   "outputs": [
    {
     "name": "stdout",
     "output_type": "stream",
     "text": [
      "The Zen of Python, by Tim Peters\n",
      "\n",
      "Beautiful is better than ugly.\n",
      "Explicit is better than implicit.\n",
      "Simple is better than complex.\n",
      "Complex is better than complicated.\n",
      "Flat is better than nested.\n",
      "Sparse is better than dense.\n",
      "Readability counts.\n",
      "Special cases aren't special enough to break the rules.\n",
      "Although practicality beats purity.\n",
      "Errors should never pass silently.\n",
      "Unless explicitly silenced.\n",
      "In the face of ambiguity, refuse the temptation to guess.\n",
      "There should be one-- and preferably only one --obvious way to do it.\n",
      "Although that way may not be obvious at first unless you're Dutch.\n",
      "Now is better than never.\n",
      "Although never is often better than *right* now.\n",
      "If the implementation is hard to explain, it's a bad idea.\n",
      "If the implementation is easy to explain, it may be a good idea.\n",
      "Namespaces are one honking great idea -- let's do more of those!\n"
     ]
    }
   ],
   "source": [
    "import this"
   ]
  },
  {
   "cell_type": "code",
   "execution_count": 18,
   "metadata": {
    "collapsed": false,
    "slideshow": {
     "slide_type": "slide"
    }
   },
   "outputs": [
    {
     "data": {
      "text/plain": [
       "-1.0"
      ]
     },
     "execution_count": 18,
     "metadata": {},
     "output_type": "execute_result"
    }
   ],
   "source": [
    "import math\n",
    "\n",
    "math.cos(math.pi)"
   ]
  },
  {
   "cell_type": "code",
   "execution_count": 19,
   "metadata": {
    "collapsed": false,
    "slideshow": {
     "slide_type": "fragment"
    }
   },
   "outputs": [
    {
     "data": {
      "text/plain": [
       "1.2246467991473532e-16"
      ]
     },
     "execution_count": 19,
     "metadata": {},
     "output_type": "execute_result"
    }
   ],
   "source": [
    "from math import sin, pi\n",
    "\n",
    "sin(pi)"
   ]
  },
  {
   "cell_type": "code",
   "execution_count": 20,
   "metadata": {
    "collapsed": false,
    "slideshow": {
     "slide_type": "fragment"
    }
   },
   "outputs": [
    {
     "data": {
      "text/plain": [
       "array([ 0.99627208])"
      ]
     },
     "execution_count": 20,
     "metadata": {},
     "output_type": "execute_result"
    }
   ],
   "source": [
    "import numpy\n",
    "\n",
    "numpy.tanh([numpy.pi])"
   ]
  },
  {
   "cell_type": "markdown",
   "metadata": {
    "slideshow": {
     "slide_type": "slide"
    }
   },
   "source": [
    "### Exemplo prático de ler dados ASCII em Python\n",
    "\n",
    "- Nossos dados estão organizados na pasta **data/CTD**.\n",
    "- São arquivos ASCII que podem ser abertos em qualquer editor de texto.\n",
    "- Leia o arquivo \"leia_me.txt\" para maiores descrições do formato dos dados.\n"
   ]
  },
  {
   "cell_type": "code",
   "execution_count": 21,
   "metadata": {
    "collapsed": false,
    "slideshow": {
     "slide_type": "slide"
    }
   },
   "outputs": [
    {
     "name": "stdout",
     "output_type": "stream",
     "text": [
      "Prof.: 138.0 m\n",
      "Longitude: -45.0500 deg\n",
      "Latitude: -25.1517 deg\n"
     ]
    }
   ],
   "source": [
    "fname = './data/CTD/estacao08.dat'\n",
    "\n",
    "with open(fname, 'r') as f:\n",
    "    lines = f.readlines()\n",
    "    data = lines[0].strip().split()[3:]\n",
    "    depth = float(data[0])\n",
    "    lat = float(data[1])\n",
    "    lon = float(data[2])\n",
    "    print(\"Prof.: %s m\\nLongitude: %2.4f deg\\nLatitude: %2.4f deg\" %\n",
    "          (depth, lon, lat))"
   ]
  },
  {
   "cell_type": "code",
   "execution_count": 22,
   "metadata": {
    "collapsed": false,
    "slideshow": {
     "slide_type": "slide"
    }
   },
   "outputs": [
    {
     "data": {
      "text/plain": [
       "['data/CTD/estacao01.dat',\n",
       " 'data/CTD/estacao02.dat',\n",
       " 'data/CTD/estacao03.dat',\n",
       " 'data/CTD/estacao04.dat',\n",
       " 'data/CTD/estacao05.dat',\n",
       " 'data/CTD/estacao06.dat',\n",
       " 'data/CTD/estacao07.dat',\n",
       " 'data/CTD/estacao08.dat',\n",
       " 'data/CTD/estacao09.dat',\n",
       " 'data/CTD/estacao10.dat',\n",
       " 'data/CTD/estacao11.dat',\n",
       " 'data/CTD/estacao12.dat',\n",
       " 'data/CTD/estacao13.dat',\n",
       " 'data/CTD/estacao14.dat',\n",
       " 'data/CTD/estacao15.dat']"
      ]
     },
     "execution_count": 22,
     "metadata": {},
     "output_type": "execute_result"
    }
   ],
   "source": [
    "import os\n",
    "from glob import glob\n",
    "\n",
    "\n",
    "lista = glob(os.path.join('data', 'CTD', '*.dat'))\n",
    "lista"
   ]
  },
  {
   "cell_type": "code",
   "execution_count": 23,
   "metadata": {
    "collapsed": true,
    "slideshow": {
     "slide_type": "slide"
    }
   },
   "outputs": [],
   "source": [
    "def break_lines(line):\n",
    "    return [float(num) for num in line.strip().split()]\n",
    "\n",
    "\n",
    "def get_topo(url='./data/etopo5.nc'):\n",
    "    etopodata = Dataset(url)\n",
    "    topoin = etopodata.variables['ROSE'][:]\n",
    "    lons = etopodata.variables['ETOPO05_X'][:]\n",
    "    lats = etopodata.variables['ETOPO05_Y'][:]\n",
    "    topoin, lons = shiftgrid(180., topoin, lons, start=False)\n",
    "    return topoin, lons, lats"
   ]
  },
  {
   "cell_type": "code",
   "execution_count": 24,
   "metadata": {
    "collapsed": false,
    "slideshow": {
     "slide_type": "slide"
    }
   },
   "outputs": [],
   "source": [
    "depth, lat, lon = [], [], []\n",
    "\n",
    "\n",
    "for fname in lista:\n",
    "    with open(fname, 'r') as f:\n",
    "        lines = f.readlines()\n",
    "        d, la, lo = break_lines(lines[0])[3:]\n",
    "        lon.append(lo)\n",
    "        lat.append(la)\n",
    "        depth.append(d)"
   ]
  },
  {
   "cell_type": "code",
   "execution_count": 25,
   "metadata": {
    "collapsed": false,
    "slideshow": {
     "slide_type": "slide"
    }
   },
   "outputs": [],
   "source": [
    "import seawater as sw\n",
    "\n",
    "dist, angle = sw.dist(lon, lat)\n",
    "\n",
    "dist = np.r_[0, dist.cumsum()]"
   ]
  },
  {
   "cell_type": "code",
   "execution_count": 26,
   "metadata": {
    "collapsed": false,
    "slideshow": {
     "slide_type": "slide"
    }
   },
   "outputs": [
    {
     "data": {
      "image/png": "[encoded data removed]",
      "text/plain": [
       "<matplotlib.figure.Figure at 0x7f32a4f41d10>"
      ]
     },
     "metadata": {},
     "output_type": "display_data"
    }
   ],
   "source": [
    "%matplotlib inline\n",
    "import matplotlib.pyplot as plt\n",
    "\n",
    "plt.plot(dist, depth)\n",
    "plt.gca().invert_yaxis()"
   ]
  },
  {
   "cell_type": "markdown",
   "metadata": {
    "slideshow": {
     "slide_type": "slide"
    }
   },
   "source": [
    "Matlab\n",
    "```python\n",
    "for k = 1:length(files)\n",
    "    files(k).name\n",
    "end\n",
    "```\n",
    "\n",
    "\n",
    "Python\n",
    "```python\n",
    "for fname in lista:\n",
    "    print(\"%s\" % fname)\n",
    "```"
   ]
  }
 ],
 "metadata": {
  "celltoolbar": "Slideshow",
  "kernelspec": {
   "display_name": "Python 2",
   "language": "python",
   "name": "python2"
  },
  "language_info": {
   "codemirror_mode": {
    "name": "ipython",
    "version": 2
   },
   "file_extension": ".py",
   "mimetype": "text/x-python",
   "name": "python",
   "nbconvert_exporter": "python",
   "pygments_lexer": "ipython2",
   "version": "2.7.10"
  }
 },
 "nbformat": 4,
 "nbformat_minor": 0
}
