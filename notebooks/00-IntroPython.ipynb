{
 "cells": [
  {
   "cell_type": "markdown",
   "metadata": {
    "collapsed": true,
    "slideshow": {
     "slide_type": "slide"
    }
   },
   "source": [
    "# Aula 00 - O que é [Python](https://www.python.org/)?\n",
    "\n",
    "**Objetivos**\n",
    "\n",
    "- Introdução à linguagem de programação Python.\n",
    "- Exemplos do seu uso para análise exploratória de dados.\n",
    "- Utilizar python com uma linguagem \"cola.\""
   ]
  },
  {
   "cell_type": "markdown",
   "metadata": {
    "slideshow": {
     "slide_type": "slide"
    }
   },
   "source": [
    "- A linguagem Python é:\n",
    "  - interpretada (não compilada)\n",
    "  - \"Dynamically Typed\" (não statically-typed)\n",
    "  - Orientada à `Objetos` e/ou `Funcional`\n",
    "  - Licença Livre"
   ]
  },
  {
   "cell_type": "markdown",
   "metadata": {
    "slideshow": {
     "slide_type": "slide"
    }
   },
   "source": [
    "Instalando python o seu computador (Canopy, EPD, Spyder, PythonXY, etc):\n",
    "\n",
    "```bash\n",
    "URL=http://repo.continuum.io/miniconda/Miniconda-latest-Linux-x86_64.sh\n",
    "\n",
    "wget $URL -O miniconda.sh\n",
    "\n",
    "bash miniconda.sh -b -p $HOME/miniconda\n",
    "\n",
    "export PATH=\"$HOME/miniconda/bin:$PATH\"\n",
    "\n",
    "conda update conda\n",
    "\n",
    "conda config --add ioos\n",
    "\n",
    "conda info -a\n",
    "```"
   ]
  },
  {
   "cell_type": "markdown",
   "metadata": {
    "slideshow": {
     "slide_type": "slide"
    }
   },
   "source": [
    "- Scientific:\n",
    "    - [Matplotlib](http://matplotlib.sourceforge.net)\n",
    "    - [NumPy](http://docs.scipy.org/doc/numpy/reference)\n",
    "    - [SciPy](http://docs.scipy.org/doc/scipy/reference)\n",
    "    - [IPython](http://ipython.org/)\n",
    "\n",
    "- Oceanography\n",
    "    - [gsw](https://pypi.python.org/pypi/gsw/)\n",
    "    - [seawater](https://pypi.python.org/pypi/seawater/)\n",
    "    - [airsea](https://pypi.python.org/pypi/airsea/0.0.1)\n",
    "    - [oceans](https://pypi.python.org/pypi/oceans)\n",
    "    - [ctd](https://pypi.python.org/pypi/ctd)\n",
    "    - [iris](http://scitools.org.uk/iris/docs/latest/index.html)\n",
    "    - [cartopy](http://scitools.org.uk/cartopy/docs/latest/index.html)"
   ]
  },
  {
   "cell_type": "markdown",
   "metadata": {
    "slideshow": {
     "slide_type": "slide"
    }
   },
   "source": [
    "- Ajuda extra:\n",
    "    - [PyAOS](http://pyaos.johnny-lin.com)\n",
    "    - [python4oceanographers](http://ocefpaf.github.io/python4oceanographers/)\n",
    "    - [earthpy](http://earthpy.org/)\n",
    "    - [Sotware Carpentry](http://software-carpentry.org/index.html)\n",
    "    - [matlab-numpy](http://mathesaurus.sourceforge.net/matlab-numpy.html)"
   ]
  },
  {
   "cell_type": "markdown",
   "metadata": {
    "slideshow": {
     "slide_type": "slide"
    }
   },
   "source": [
    "## Tipos de objetos"
   ]
  },
  {
   "cell_type": "code",
   "execution_count": null,
   "metadata": {
    "collapsed": false,
    "slideshow": {
     "slide_type": "fragment"
    }
   },
   "outputs": [],
   "source": [
    "Sal, Temp = 35.1, 17 # Salinidade e Temperatura\n",
    "\n",
    "print(type(Sal))\n",
    "print(type(Temp))"
   ]
  },
  {
   "cell_type": "code",
   "execution_count": null,
   "metadata": {
    "collapsed": false,
    "scrolled": true,
    "slideshow": {
     "slide_type": "fragment"
    }
   },
   "outputs": [],
   "source": [
    "u, v = 5., -5.\n",
    "U = u + 1j*v\n",
    "\n",
    "print(type(U))\n",
    "\n",
    "msg = 'OO em ação mostrando números reais {0} e imaginários {1}'.format\n",
    "\n",
    "print(msg(U.real, U.imag))\n",
    "\n",
    "# Desafio: Calcular o vetor é o ângulo formado por u+iv."
   ]
  },
  {
   "cell_type": "code",
   "execution_count": null,
   "metadata": {
    "collapsed": false,
    "slideshow": {
     "slide_type": "slide"
    }
   },
   "outputs": [],
   "source": [
    "import numpy as np\n",
    "\n",
    "np.abs(U), np.rad2deg(np.angle(U))"
   ]
  },
  {
   "cell_type": "code",
   "execution_count": null,
   "metadata": {
    "collapsed": false,
    "slideshow": {
     "slide_type": "slide"
    }
   },
   "outputs": [],
   "source": [
    "False == 0"
   ]
  },
  {
   "cell_type": "code",
   "execution_count": null,
   "metadata": {
    "collapsed": false,
    "slideshow": {
     "slide_type": "fragment"
    }
   },
   "outputs": [],
   "source": [
    "True == 1"
   ]
  },
  {
   "cell_type": "code",
   "execution_count": null,
   "metadata": {
    "collapsed": false,
    "slideshow": {
     "slide_type": "fragment"
    }
   },
   "outputs": [],
   "source": [
    "True == 2"
   ]
  },
  {
   "cell_type": "code",
   "execution_count": null,
   "metadata": {
    "collapsed": false,
    "slideshow": {
     "slide_type": "fragment"
    }
   },
   "outputs": [],
   "source": [
    "False == 1"
   ]
  },
  {
   "cell_type": "markdown",
   "metadata": {
    "slideshow": {
     "slide_type": "slide"
    }
   },
   "source": [
    "## Strings"
   ]
  },
  {
   "cell_type": "code",
   "execution_count": null,
   "metadata": {
    "collapsed": false,
    "slideshow": {
     "slide_type": "fragment"
    }
   },
   "outputs": [],
   "source": [
    "print('Texto simples com \"aspas\" duplas.\\n')\n",
    "\n",
    "print(\"'Texto simples com 'aspas' simples.\\n\")\n",
    "\n",
    "print(\"\"\"Texto complexo com quebra\n",
    "de linha, aspas \"duplas\" e 'simples'.\\n\"\"\")\n",
    "\n",
    "print(r\"Texto \\n 'cru', ideal para Latex $^\\circ$.\")"
   ]
  },
  {
   "cell_type": "markdown",
   "metadata": {
    "slideshow": {
     "slide_type": "slide"
    }
   },
   "source": [
    "## String Methods"
   ]
  },
  {
   "cell_type": "code",
   "execution_count": null,
   "metadata": {
    "collapsed": false,
    "slideshow": {
     "slide_type": "fragment"
    }
   },
   "outputs": [],
   "source": [
    "text = \"Um bom aluno sempre...\"\n",
    "\n",
    "text.lower(), text.split(), text.replace('aluno', 'estudante')"
   ]
  },
  {
   "cell_type": "code",
   "execution_count": null,
   "metadata": {
    "collapsed": false,
    "slideshow": {
     "slide_type": "slide"
    }
   },
   "outputs": [],
   "source": [
    "print('O valor de pi é {:.2f}'.format(np.pi))\n",
    "print('O valor de pi é {:.6f}'.format(np.pi))\n",
    "print('O valor de 10 x pi é {:0.2e}'.format(10*np.pi))"
   ]
  },
  {
   "cell_type": "markdown",
   "metadata": {
    "slideshow": {
     "slide_type": "slide"
    }
   },
   "source": [
    "## Slicing"
   ]
  },
  {
   "cell_type": "code",
   "execution_count": null,
   "metadata": {
    "collapsed": false,
    "slideshow": {
     "slide_type": "fragment"
    }
   },
   "outputs": [],
   "source": [
    "T = [17.4, 18.9, 19.5, 22.1, 23.2]\n",
    "T[0], T[-1], T[::-1], T[::2]"
   ]
  },
  {
   "cell_type": "code",
   "execution_count": null,
   "metadata": {
    "collapsed": false,
    "slideshow": {
     "slide_type": "fragment"
    }
   },
   "outputs": [],
   "source": [
    "T[1:3]"
   ]
  },
  {
   "cell_type": "code",
   "execution_count": null,
   "metadata": {
    "collapsed": false,
    "slideshow": {
     "slide_type": "fragment"
    }
   },
   "outputs": [],
   "source": [
    "T[2:]"
   ]
  },
  {
   "cell_type": "markdown",
   "metadata": {
    "slideshow": {
     "slide_type": "slide"
    }
   },
   "source": [
    "## Alguns métodos de listas:\n",
    "\n",
    "- `.append`\n",
    "- `.extend`\n",
    "- `.sort`\n",
    "- `.remove`\n",
    "- `.reverse`\n",
    "- `.insert`"
   ]
  },
  {
   "cell_type": "code",
   "execution_count": null,
   "metadata": {
    "collapsed": false,
    "slideshow": {
     "slide_type": "slide"
    }
   },
   "outputs": [],
   "source": [
    "lista = list(range(10))\n",
    "print(lista)\n",
    "\n",
    "lista.append(10)\n",
    "print(lista)\n",
    "\n",
    "lista.insert(4, 11)\n",
    "print(lista)\n",
    "\n",
    "lista.sort()\n",
    "print(lista)\n",
    "\n",
    "lista.extend(['elemento extra'])\n",
    "print(lista)"
   ]
  },
  {
   "cell_type": "markdown",
   "metadata": {
    "slideshow": {
     "slide_type": "slide"
    }
   },
   "source": [
    "## Dicionários"
   ]
  },
  {
   "cell_type": "code",
   "execution_count": null,
   "metadata": {
    "collapsed": false,
    "slideshow": {
     "slide_type": "fragment"
    }
   },
   "outputs": [],
   "source": [
    "ctd = dict(S=[35.5, 34.76, 33.2],\n",
    "           T=[17.4, 18.9, 19.5],\n",
    "           AOU=[320, 330, 350])\n",
    "\n",
    "\n",
    "ctd.keys(), ctd.values()"
   ]
  },
  {
   "cell_type": "markdown",
   "metadata": {
    "slideshow": {
     "slide_type": "slide"
    }
   },
   "source": [
    "## Sets"
   ]
  },
  {
   "cell_type": "code",
   "execution_count": null,
   "metadata": {
    "collapsed": false,
    "slideshow": {
     "slide_type": "fragment"
    }
   },
   "outputs": [],
   "source": [
    "set(['joseph', 'maria', 'pedro', 'maria'])"
   ]
  },
  {
   "cell_type": "markdown",
   "metadata": {
    "slideshow": {
     "slide_type": "slide"
    }
   },
   "source": [
    "### Namespaces\n",
    "\n",
    "**Direto da wikipedia:**\n",
    "\n",
    "*A namespace (sometimes also called a name scope) is an abstract container or\n",
    "environment created to hold a logical grouping of unique identifiers or symbols\n",
    "(i.e., names).*\n",
    "\n",
    "**O que interessa para nós?**\n",
    "\n",
    "- Namespaces mantém o código organizado.\n",
    "- Evita conflitos gerados por funções de mesmo nome.\n",
    "- Torna o código \"declarativo\" e consequentemente mais legível."
   ]
  },
  {
   "cell_type": "markdown",
   "metadata": {
    "slideshow": {
     "slide_type": "slide"
    }
   },
   "source": [
    "**Matlab vs Python (Namespaces)**\n",
    "\n",
    "Matlab:\n",
    "\n",
    "```matlab\n",
    "w1 = window(@gausswin, N, 2.5)\n",
    "% Opa! O resultados é diferente do que eu esperava. Argh, a minha função\n",
    "% window está abaixo da original do Matlab no \"path\".\n",
    "```\n",
    "\n",
    "Python:\n",
    "\n",
    "```python\n",
    "from oceans.timeseries import window\n",
    "w1 = window(N, 2.5, type='gausswin')\n",
    "# Sem dúvida essa era a que eu queria!\n",
    "```"
   ]
  },
  {
   "cell_type": "markdown",
   "metadata": {
    "slideshow": {
     "slide_type": "slide"
    }
   },
   "source": [
    "## Módulos"
   ]
  },
  {
   "cell_type": "markdown",
   "metadata": {
    "slideshow": {
     "slide_type": "fragment"
    }
   },
   "source": [
    "Como vocês já notaram, em Python temos que importar (declarar) tudo que vamos\n",
    "utilizar."
   ]
  },
  {
   "cell_type": "code",
   "execution_count": null,
   "metadata": {
    "collapsed": false,
    "slideshow": {
     "slide_type": "fragment"
    }
   },
   "outputs": [],
   "source": [
    "import this"
   ]
  },
  {
   "cell_type": "code",
   "execution_count": null,
   "metadata": {
    "collapsed": false,
    "slideshow": {
     "slide_type": "slide"
    }
   },
   "outputs": [],
   "source": [
    "import math\n",
    "\n",
    "math.cos(math.pi)"
   ]
  },
  {
   "cell_type": "code",
   "execution_count": null,
   "metadata": {
    "collapsed": false,
    "slideshow": {
     "slide_type": "fragment"
    }
   },
   "outputs": [],
   "source": [
    "from math import sin, pi\n",
    "\n",
    "sin(pi)"
   ]
  },
  {
   "cell_type": "code",
   "execution_count": null,
   "metadata": {
    "collapsed": false,
    "slideshow": {
     "slide_type": "fragment"
    }
   },
   "outputs": [],
   "source": [
    "import numpy\n",
    "\n",
    "numpy.tanh([numpy.pi])"
   ]
  },
  {
   "cell_type": "markdown",
   "metadata": {
    "slideshow": {
     "slide_type": "slide"
    }
   },
   "source": [
    "### Exemplo prático de ler dados ASCII em Python\n",
    "\n",
    "- Nossos dados estão organizados na pasta **data/CTD**.\n",
    "- São arquivos ASCII que podem ser abertos em qualquer editor de texto.\n",
    "- Leia o arquivo \"leia_me.txt\" para maiores descrições do formato dos dados.\n"
   ]
  },
  {
   "cell_type": "code",
   "execution_count": null,
   "metadata": {
    "collapsed": false,
    "slideshow": {
     "slide_type": "slide"
    }
   },
   "outputs": [],
   "source": [
    "fname = './data/CTD/estacao08.dat'\n",
    "\n",
    "with open(fname, 'r') as f:\n",
    "    lines = f.readlines()\n",
    "    data = lines[0].strip().split()[3:]\n",
    "    depth = float(data[0])\n",
    "    lat = float(data[1])\n",
    "    lon = float(data[2])\n",
    "    print(\"Prof.: %s m\\nLongitude: %2.4f deg\\nLatitude: %2.4f deg\" %\n",
    "          (depth, lon, lat))"
   ]
  },
  {
   "cell_type": "code",
   "execution_count": null,
   "metadata": {
    "collapsed": false,
    "slideshow": {
     "slide_type": "slide"
    }
   },
   "outputs": [],
   "source": [
    "import os\n",
    "from glob import glob\n",
    "\n",
    "\n",
    "lista = glob(os.path.join('data', 'CTD', '*.dat'))\n",
    "lista"
   ]
  },
  {
   "cell_type": "code",
   "execution_count": null,
   "metadata": {
    "collapsed": true,
    "slideshow": {
     "slide_type": "slide"
    }
   },
   "outputs": [],
   "source": [
    "def break_lines(line):\n",
    "    return [float(num) for num in line.strip().split()]\n",
    "\n",
    "\n",
    "def get_topo(url='./data/etopo5.nc'):\n",
    "    etopodata = Dataset(url)\n",
    "    topoin = etopodata.variables['ROSE'][:]\n",
    "    lons = etopodata.variables['ETOPO05_X'][:]\n",
    "    lats = etopodata.variables['ETOPO05_Y'][:]\n",
    "    topoin, lons = shiftgrid(180., topoin, lons, start=False)\n",
    "    return topoin, lons, lats"
   ]
  },
  {
   "cell_type": "code",
   "execution_count": null,
   "metadata": {
    "collapsed": false,
    "slideshow": {
     "slide_type": "slide"
    }
   },
   "outputs": [],
   "source": [
    "depth, lat, lon = [], [], []\n",
    "\n",
    "\n",
    "for fname in lista:\n",
    "    with open(fname, 'r') as f:\n",
    "        lines = f.readlines()\n",
    "        d, la, lo = break_lines(lines[0])[3:]\n",
    "        lon.append(lo)\n",
    "        lat.append(la)\n",
    "        depth.append(d)"
   ]
  },
  {
   "cell_type": "code",
   "execution_count": null,
   "metadata": {
    "collapsed": false,
    "slideshow": {
     "slide_type": "slide"
    }
   },
   "outputs": [],
   "source": [
    "import seawater as sw\n",
    "\n",
    "dist, angle = sw.dist(lon, lat)\n",
    "\n",
    "dist = np.r_[0, dist.cumsum()]"
   ]
  },
  {
   "cell_type": "code",
   "execution_count": null,
   "metadata": {
    "collapsed": false,
    "slideshow": {
     "slide_type": "slide"
    }
   },
   "outputs": [],
   "source": [
    "%matplotlib inline\n",
    "import matplotlib.pyplot as plt\n",
    "\n",
    "plt.plot(dist, depth)\n",
    "plt.gca().invert_yaxis()"
   ]
  },
  {
   "cell_type": "markdown",
   "metadata": {
    "slideshow": {
     "slide_type": "slide"
    }
   },
   "source": [
    "**Matlab vs Python (loops)**\n",
    "\n",
    "Matlab\n",
    "\n",
    "```python\n",
    "for k = 1:length(files)\n",
    "    files(k).name\n",
    "end\n",
    "```\n",
    "\n",
    "\n",
    "Python\n",
    "\n",
    "```python\n",
    "for fname in lista:\n",
    "    print(\"%s\" % fname)\n",
    "```"
   ]
  }
 ],
 "metadata": {
  "celltoolbar": "Slideshow",
  "kernelspec": {
   "display_name": "Python 2",
   "language": "python",
   "name": "python2"
  },
  "language_info": {
   "codemirror_mode": {
    "name": "ipython",
    "version": 2
   },
   "file_extension": ".py",
   "mimetype": "text/x-python",
   "name": "python",
   "nbconvert_exporter": "python",
   "pygments_lexer": "ipython2",
   "version": "2.7.10"
  }
 },
 "nbformat": 4,
 "nbformat_minor": 0
}
